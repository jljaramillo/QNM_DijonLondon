{
 "cells": [
  {
   "cell_type": "markdown",
   "metadata": {},
   "source": [
    "# Tests. Spectrum/QNMs calculations. Advanced-Retarded time setup"
   ]
  },
  {
   "cell_type": "markdown",
   "metadata": {},
   "source": [
    "## Advanced-Retarded time setup spatialy compactified\n",
    "\n",
    "**Standard setup**:\n",
    "The equation we are interested in  is\n",
    "\\begin{equation}\\label{WaveEq}\n",
    "(\\partial_t^2-\\partial_x^2 +V(x))\\hat{\\phi}=0. \n",
    "\\end{equation}\n",
    "\n",
    "**Advanced-Retarded Time setup**: We divide spacetime in two regions, left and right. \n",
    "    \n",
    "    \n",
    "**Left Region:** $t\\in (-\\infty,\\infty)$ and $x \\in (-\\infty,0]$\n",
    "\\begin{align}\n",
    "v & =t+x \\\\ \n",
    "x_l & = tanh(x)\n",
    "\\end{align}\n",
    "                         \n",
    "Notice the spatial compactification, so that $x \\in (-\\infty,0]$ $\\implies$ $x_l \\in [-1,0]$.\n",
    "However we do not compactify the advanced time coordinate and in fact $v \\in (-\\infty,\\infty)$.\n",
    "                                                     \n",
    "Using the chain rule we have\n",
    "\\begin{align}\n",
    "\\partial_t & = \\partial_v \\\\ \n",
    "\\partial_{x} & = \\partial_v + (1-{x_l}^2)\\partial_{x_l}\n",
    "\\end{align}\n",
    "and for the second derivatives\n",
    "\\begin{align}\n",
    "\\partial^2_t & = \\partial^2_v \\\\ \n",
    "\\partial^2_{x} & = \\partial^2_v + 2(1-{x_l}^2)\\partial_{x_l}\\partial_v\n",
    "+ (1-{x_l}^2)\\partial_{x_{l}}((1-{x_l}^2)\\partial_{x_{l}})\n",
    "\\end{align}\n",
    "                         \n",
    "**Right Region:** $t\\in (-\\infty,\\infty)$ and $x \\in [0,\\infty)$\n",
    "\\begin{align}\n",
    "u & =t-x \\\\ \n",
    "x_r & = tanh(x)\n",
    "\\end{align}\n",
    "                                                      \n",
    "Notice again the spatial compactification, so that $x \\in [0,\\infty)$ $\\implies$ $x_r \\in [0,1]$.\n",
    "However we do not compactify the retarded time coordinate and in fact $u \\in (-\\infty,\\infty)$.\n",
    "                                                     \n",
    "Using the chain rule we have\n",
    "                                                     \n",
    "\\begin{align}\n",
    "\\partial_t & = \\partial_u \\\\ \n",
    "\\partial_{x_r} & = -\\partial_u + (1-{x_r}^2)\\partial_{x_r}\n",
    "\\end{align}\n",
    "and for the second derivatives\n",
    "\\begin{align}\n",
    "\\partial^2_t & = \\partial^2_u \\\\ \n",
    "\\partial^2_{x_r} & = \\partial^2_u - 2(1-{x_r}^2)\\partial_{x_r}\\partial_u\n",
    "+ (1-{x_r}^2)\\partial_{x_{r}}((1-{x_r}^2)\\partial_{x_{r}})\n",
    "\\end{align}\n",
    "\n",
    "                                                      \n",
    "**Wave equation**\n",
    "                                                      \n",
    "The wave equation of the stardard setup then reads\n",
    "                                                     \n",
    "\\begin{align}   \n",
    " 2(1-{x_r}^2)\\partial_{x_r}\\partial_u\\hat{\\phi}^r - (1-{x_r}^2)\\partial_{x_{r}}((1-{x_r}^2)\\partial_{x_{r}})\\hat{\\phi}^r + V\\hat{\\phi}^r =0  \n",
    "\\quad \\text{for} \\quad x_r \\in [0,1] \\\\\n",
    "- 2(1-{x_l}^2)\\partial_{x_l}\\partial_v\\hat{\\phi}^l\n",
    "- (1-{x_l}^2)\\partial_{x_{l}}((1-{x_l}^2)\\partial_{x_{l}})\\hat{\\phi}^l + V\\hat{\\phi}^l =0  \n",
    "                                                      \\quad \\text{for} \\quad x_l \\in [-1,0]      \n",
    "\\end{align}\n",
    "                                                           \n",
    "Better written for our purposes as\n",
    "                                                           \n",
    "\\begin{align}  \n",
    "\\big[(1-{x_r}^2)\\partial_{x_{r}}((1-{x_r}^2)\\partial_{x_{r}}) - V \\big]\\hat{\\phi}^r = 2(1-{x_r}^2)\\partial_{x_r}\\partial_u\\hat{\\phi}^r \\\\\n",
    "\\big[(1-{x_l}^2)\\partial_{x_{l}}((1-{x_l}^2)\\partial_{x_{l}}) - V\\big] \\hat{\\phi}^l = -2(1-{x_l}^2)\\partial_{x_l}\\partial_v\\hat{\\phi}^l                                                          \n",
    "\\end{align}                                               \n",
    "\n"
   ]
  },
  {
   "cell_type": "markdown",
   "metadata": {},
   "source": [
    "## Eigenvalue problem in the Advanced-Retarded setup\n",
    "\n",
    "Taking $\\hat{\\phi}^r = e^{i\\omega u}\\phi^r$  and  $\\hat{\\phi}^l = e^{i\\omega v}\\phi^l$\n",
    "we get \n",
    "\n",
    "\\begin{align}  \n",
    "\\big[(1-{x_r}^2)\\partial_{x_{r}}((1-{x_r}^2)\\partial_{x_{r}}) - V \\big]\\phi^r = \n",
    "2i\\omega(1-{x_r}^2)\\partial_{x_r}\\phi^r \\\\\n",
    "\\big[(1-{x_l}^2)\\partial_{x_{l}}((1-{x_l}^2)\\partial_{x_{l}}) - V\\big] \\phi^l = \n",
    "-2i\\omega(1-{x_l}^2)\\partial_{x_l}\\phi^l                                                          \n",
    "\\end{align}      \n",
    "\n",
    "or in matricial form as the **eigenvalue problem version I**\n",
    "                                                      \n",
    "\\begin{align}\n",
    "\\begin{pmatrix}\n",
    "A^r & 0\\\\\n",
    "0 & A^l                                                                                                       \n",
    "\\end{pmatrix}\n",
    "\\begin{pmatrix}\n",
    "\\phi^r \\\\ \\phi^l \n",
    "\\end{pmatrix}\n",
    "= i \\omega \n",
    "\\begin{pmatrix}\n",
    "2 (1-{x_r}^2)\\partial_{x_r} & 0 \\\\\n",
    "0 & -2 (1-{x_l}^2)\\partial_{x_l}                                                 \n",
    "\\end{pmatrix}\n",
    "\\begin{pmatrix}\n",
    "\\phi^r \\\\ \\phi^l \n",
    "\\end{pmatrix}\n",
    "\\end{align}\n",
    "                                                      \n",
    "where \n",
    "\\begin{equation} A^s = (1-{x_s}^2)\\partial_{x_s}((1-{x_s}^2)\\partial_{x_s}) - V(x_s)\n",
    "\\quad \\text{with} \\quad s \\in \\{l,r\\} \\end{equation} \n",
    "                                                      \n",
    "Alternatively, assuming $V(x_s)$ decays sufficiently fast, we define \n",
    "\n",
    "\\begin{equation}\n",
    "M^s = \\partial_{x_s}((1-{x_s}^2)\\partial_{x_s}) - \\tilde{V}(x_s)                                                       \n",
    "\\quad \\text{where} \\quad \\tilde{V}(x_s) = (1-{x_s}^2)^{-1}V(x_s)\n",
    "\\end{equation}\n",
    "\n",
    "and write the **eigenvalue problem version II**\n",
    "                                                      \n",
    "\\begin{align}\n",
    "\\begin{pmatrix}\n",
    "M^r & 0\\\\\n",
    "0 & M^l                                                                                                       \n",
    "\\end{pmatrix}\n",
    "\\begin{pmatrix}\n",
    "\\phi^r \\\\ \\phi^l \n",
    "\\end{pmatrix}\n",
    "= i \\omega \n",
    "\\begin{pmatrix}\n",
    "2 \\partial_{x_r}  & 0 \\\\\n",
    "0 & -2  \\partial_{x_l}                                                  \n",
    "\\end{pmatrix}\n",
    "\\begin{pmatrix}\n",
    "\\phi^r \\\\ \\phi^l \n",
    "\\end{pmatrix}\n",
    "\\end{align}                                                      \n",
    "                    \n",
    "In either case, we need to solve a **Generalised Eigenvalue Problem of the form $Lu = i\\omega B u$**                                                      \n",
    "        \n",
    "                                                      "
   ]
  },
  {
   "cell_type": "markdown",
   "metadata": {},
   "source": [
    "## Matching conditions \n",
    "\n",
    "We need to impose the continuity conditions at the bourder $x=0$ of the two regions.\n",
    "We need to impose\n",
    "\n",
    "\\begin{align}\n",
    "\\hat{\\phi}^r(x=0) &= \\hat{\\phi}^l(x=0) \\\\ \n",
    "\\partial_x\\hat{\\phi}^r(x=0) &= \\partial_x\\hat{\\phi}^l(x=0)  \n",
    "\\end{align}\n",
    "\n",
    "Using the chain rule we have \n",
    "\n",
    "\\begin{align}\n",
    "-\\partial_u\\hat{\\phi}^r + (1-{x_r}^2)\\partial_{x_r}\\hat{\\phi}^r\n",
    "= \\partial_v\\hat{\\phi}^r + (1-{x_l}^2)\\partial_{x_l}\\hat{\\phi}^l \\quad \\text{at} \\quad x = 0\n",
    "\\end{align}\n",
    "\n",
    "Taking the fourier transform the latter leads to the following matching conditions\n",
    "\n",
    "\\begin{align}\n",
    "\\phi^r -\\phi^l &= 0 \\quad \\text{at} \\quad x = 0 \\\\\n",
    "(1-{x_r}^2)\\partial_{x_r}\\phi^r-(1-{x_l}^2)\\partial_{x_l}\\phi^l\n",
    " & = i\\omega (\\phi^r + \\phi^l) \\quad \\text{at} \\quad x = 0\n",
    "\\end{align}\n"
   ]
  },
  {
   "cell_type": "code",
   "execution_count": 1,
   "metadata": {},
   "outputs": [
    {
     "name": "stdout",
     "output_type": "stream",
     "text": [
      "importing Jupyter notebook from SpectrumCalculator.ipynb\n"
     ]
    }
   ],
   "source": [
    "## Importation of basic rotutine\n",
    "import numpy as np\n",
    "import matplotlib.pyplot as plt\n",
    "import matplotlib.ticker as mticker\n",
    "from matplotlib import ticker, cm\n",
    "from scipy import linalg as LA\n",
    "from math import sin, cos, tanh, cosh, pi, log\n",
    "import cmath\n",
    "import import_ipynb\n",
    "\n",
    "## Importation of Spectral tools\n",
    "from SpectrumCalculator import *"
   ]
  },
  {
   "cell_type": "markdown",
   "metadata": {},
   "source": [
    "### We start by recovering the correct spectrum in the hyperboloidal setup just to have a future comparison"
   ]
  },
  {
   "cell_type": "code",
   "execution_count": 2,
   "metadata": {},
   "outputs": [
    {
     "data": {
      "image/png": "[encoded data removed]",
      "text/plain": [
       "<Figure size 432x288 with 1 Axes>"
      ]
     },
     "metadata": {
      "needs_background": "light"
     },
     "output_type": "display_data"
    }
   ],
   "source": [
    "# We start just recovering the right spectrum in the hyperboloidal setup just to have a future comparison\n",
    "N = 16\n",
    "n=N+1\n",
    "# Spectral Differentiation, identity and Zero matrices\n",
    "xt = [D1_CG(N)[0]]\n",
    "x = np.transpose(xt)\n",
    "D1 = D1_CG(N)[1]\n",
    "D2 = D2_CG(N)[1]\n",
    "Id = np.eye(N+1)\n",
    "Id_total = np.eye(2*(N+1))\n",
    "Zero = np.zeros((N+1,N+1))\n",
    "\n",
    "# Elementary Operators Version 2\n",
    "alpha, beta, gamma = 0., 0., 1.\n",
    "#print(\"alpha =\", alpha, \", beta =\", beta, \", gamma =\", gamma)\n",
    "V = alpha + beta*x + gamma*(1-x**2) \n",
    "L1 = (1-x**2)*((1-x**2)*D2 - 2*x*D1) - V*Id \n",
    "L2 = (1-x**2)*(-2*x*D1 - Id)\n",
    "#EG: why don't we divide all by (1-x**2) for posch-teller. # EG: Understood now\n",
    "Bu = np.concatenate((Id,Zero), axis=1)\n",
    "Bd = np.concatenate((Zero,(1-x**2)*Id), axis=1)\n",
    "B = np.concatenate((Bu,Bd), axis=0)\n",
    "# EG: why is B chosen like this # EG: Understood now\n",
    "\n",
    "\n",
    "Lu = np.concatenate((Zero,Id), axis=1)\n",
    "Ld = np.concatenate((L1,L2), axis=1)\n",
    "L = np.concatenate((Lu,Ld), axis=0)\n",
    "    \n",
    "     \n",
    "#L = -1j*L\n",
    "\n",
    "S=SpectrumAlt(L,1j*B);\n",
    "plt.plot(S.real, S.imag,'ro')\n",
    "correct_answer=np.copy(S)"
   ]
  },
  {
   "cell_type": "markdown",
   "metadata": {},
   "source": [
    "# Advanced-Retarded time implementation"
   ]
  },
  {
   "cell_type": "markdown",
   "metadata": {},
   "source": [
    "## General linear transformation\n",
    "\n",
    "Consider a linear tranformation to transform the interval $x \\in[-1,1]$ to $ z \\in [c,d]$. \n",
    "\n",
    "Taking    \n",
    "\\begin{equation}\n",
    "z = \\frac{c+d}{2} + \\bigg(\\frac{d-c}{2}\\bigg)x\n",
    "\\end{equation}\n",
    "we map $\\; \\;$ $x \\in [-1,1]$ $\\;\\;$ to $\\; \\;$ $z \\in [c,d]$.\n",
    "\n",
    "The inverse map is given by\n",
    "\\begin{equation}\n",
    "x = \\frac{c+d}{c-d} - \\bigg(\\frac{2}{c-d}\\bigg)z\n",
    "\\end{equation}\n",
    "Similarly the derivatives are related via.\n",
    "\\begin{equation}\n",
    "D_z  = \\frac{dx}{dz} D_x  \\;\\; \\text{namely} \\;\\; D_z  =  \\bigg(\\frac{2}{d-c}\\bigg) D_x \n",
    "\\end{equation}\n",
    "Similarly,\n",
    "\\begin{equation}\n",
    "D_x  = \\frac{dz}{dx} D_z  \\;\\; \\text{namely} \\;\\; D_x  =  \\bigg(\\frac{d-c}{2}\\bigg) D_z \n",
    "\\end{equation}\n",
    "\n"
   ]
  },
  {
   "cell_type": "markdown",
   "metadata": {},
   "source": [
    "## Using a Lobatto grid\n",
    "\n",
    "Recall that the Lobatto Grid is defined in such a way that $x_0=1$ and $x_N=-1$\n",
    "\n",
    "**Right region**: we need to cover $x_r\\in [0,1]$ with a Lobatto grid $x\\in[-1,1]$. Thus we need to take\n",
    "the above formulae with $x_r=z$ with $c=0$ and $d=1$, namely,\n",
    "\n",
    "\\begin{align} x_r & = \\frac{1}{2} (1+x) \\\\\n",
    "D_{x_r} & = 2 D_x\n",
    "\\end{align}\n",
    "\n",
    "**Left region**: we need to cover $x_l\\in [-1,0]$ with a Lobatto grid $x\\in[-1,1]$. Thus we need to take\n",
    "the above formulae with $x_l=z$ with $c=-1$ and $d=0$, namely,\n",
    "\n",
    "\\begin{align} x_l & = \\frac{1}{2} (-1+x) \\\\\n",
    "D_{x_l} & = 2 D_x\n",
    "\\end{align}\n",
    "        \n",
    "        \n",
    "        "
   ]
  },
  {
   "cell_type": "code",
   "execution_count": 3,
   "metadata": {},
   "outputs": [],
   "source": [
    "N = 10\n",
    "n=N+1\n",
    "# Spectral Differentiation, identity and Zero matrices\n",
    "xt =  [D1_CL(N)[0]]\n",
    "x = np.transpose(xt)\n",
    "D1 =  D1_CL(N)[1]\n",
    "D2 =  D2_CL(N)[1]\n",
    "Id = np.eye(N+1)\n",
    "Id_total = np.eye(2*(N+1))\n",
    "Zero = np.zeros((N+1,N+1))\n",
    "\n",
    "########## Right Region ##########\n",
    "# x in [-1 , 1] --> xr in  [0,1] \n",
    "\n",
    "c_r = 0 \n",
    "d_r = 1 \n",
    "xr =(c_r+d_r)/2 + ((d_r-c_r)/2)*x\n",
    "D1_xr= (2/(d_r-c_r))*D1\n",
    "D2_xr = ((2/(d_r-c_r))**2) * D2\n",
    "\n",
    "########## Left Region ##########\n",
    "# x in [-1 , 1] --> xl in  [-1,0] \n",
    "\n",
    "c_l = -1 \n",
    "d_l = 0 \n",
    "xl =(c_l+d_l)/2 + ((d_l-c_l)/2)*x\n",
    "D1_xl= (2/(d_l-c_l))*D1\n",
    "D2_xl = ((2/(d_l-c_l))**2) * D2"
   ]
  },
  {
   "cell_type": "code",
   "execution_count": 4,
   "metadata": {},
   "outputs": [],
   "source": [
    "#xr[N]\n",
    "#xl[0]"
   ]
  },
  {
   "cell_type": "markdown",
   "metadata": {},
   "source": [
    "## Version I\n",
    "\n",
    "The **eigenvalue problem version I** is:\n",
    "\n",
    "\\begin{align}\n",
    "\\begin{pmatrix}\n",
    "A^r & 0\\\\\n",
    "0 & A^l                                                                                                       \n",
    "\\end{pmatrix}\n",
    "\\begin{pmatrix}\n",
    "\\phi^r \\\\ \\phi^l \n",
    "\\end{pmatrix}\n",
    "= i \\omega \n",
    "\\begin{pmatrix}\n",
    "2 (1-{x_r}^2)\\partial_{x_r} & 0 \\\\\n",
    "0 & -2 (1-{x_l}^2)\\partial_{x_l}                                                 \n",
    "\\end{pmatrix}\n",
    "\\begin{pmatrix}\n",
    "\\phi^r \\\\ \\phi^l \n",
    "\\end{pmatrix}\n",
    "\\end{align}\n",
    "                                                      \n",
    "where \n",
    "\\begin{equation} A^s = (1-{x_s}^2)\\partial_{x_s}((1-{x_s}^2)\\partial_{x_s}) - V(x_s)\n",
    "\\quad \\text{with} \\quad s \\in \\{l,r\\} \\end{equation} "
   ]
  },
  {
   "cell_type": "markdown",
   "metadata": {},
   "source": [
    "Expanding out this operator reads\n",
    "\\begin{align} A^s = (1-x_s^2)((1-x_s^2)\\partial_{x_s}^2 -2 x_s \\partial_{x_s})-V(x_s) \\end{align}"
   ]
  },
  {
   "cell_type": "code",
   "execution_count": 5,
   "metadata": {},
   "outputs": [],
   "source": [
    "V0 = Id\n",
    "Vpt_r = (1.0-xr**2)*V0\n",
    "Vpt_l = (1.0-xl**2)*V0\n",
    "\n",
    "# Eigenvalue problem Version 1\n",
    "\n",
    "A_r= (1-xr**2)*((1-xr**2)*D2_xr - 2*xr*D1_xr ) - Vpt_r\n",
    "A_l= (1-xl**2)*((1-xl**2)*D2_xl - 2*xl*D1_xl ) - Vpt_l\n",
    "A_top=np.concatenate((A_r,Zero),axis=1)\n",
    "A_bottom=np.concatenate((Zero,A_l),axis=1)\n",
    "A=np.concatenate((A_top,A_bottom),axis=0)\n",
    "\n",
    "B_r = 2*(1-xr**2)*D1_xr\n",
    "B_l = -2*(1-xl**2)*D1_xl\n",
    "B_top=np.concatenate((B_r,Zero),axis=1)\n",
    "B_bottom=np.concatenate((Zero,B_l),axis=1)\n",
    "B=np.concatenate((B_top,B_bottom),axis=0)"
   ]
  },
  {
   "cell_type": "markdown",
   "metadata": {},
   "source": [
    "## Numerical implementation of the matching conditions\n",
    "\n",
    "\\begin{align}\n",
    "\\phi^r{}_N -\\phi^l{}_0 & = 0\\\\ \n",
    "((1-{x_r}^2)\\partial_{x_r}\\phi^r{})_N-((1-{x_l}^2)\\partial_{x_l}\\phi^l{})_0\n",
    "&= i\\omega (\\phi^r{}_N + \\phi^l{}_0) \n",
    "\\end{align}"
   ]
  },
  {
   "cell_type": "markdown",
   "metadata": {},
   "source": [
    "<img src=\"files/Photo-Notes/Retarded_Advanced_Eq.jpg\" width=\"600\">"
   ]
  },
  {
   "cell_type": "code",
   "execution_count": 6,
   "metadata": {},
   "outputs": [],
   "source": [
    "A_mod=A\n",
    "\n",
    "# Line N\n",
    "\n",
    "A_mod[N] = 0\n",
    "A_mod[N,N]= 1\n",
    "A_mod[N,N+1]= - 1\n",
    "\n",
    "# Line N+1\n",
    "\n",
    "A_mod[N+1,0:n] = (1-xr[N]**2)*D1_xr[N] \n",
    "A_mod[N+1, n:2*n]  = -(1-xl[0]**2)*D1_xl[0] \n",
    "\n",
    "#A_mod[N+1][0:n]  = (1-xr[N]**2)*D1_xr[N] \n",
    "#A_mod[N+1][n:2*n]  = -(1-xl[0]**2)*D1_xl[0] \n",
    " \n",
    "B_mod=B\n",
    "\n",
    "# Line N\n",
    "\n",
    "B_mod[N]=0\n",
    "\n",
    "# Line N+1\n",
    "\n",
    "B_mod[N+1]=0\n",
    "B_mod[N+1,N]=1\n",
    "B_mod[N+1,N+1]=1"
   ]
  },
  {
   "cell_type": "code",
   "execution_count": 7,
   "metadata": {},
   "outputs": [],
   "source": [
    "#A_mod #B_mod"
   ]
  },
  {
   "cell_type": "code",
   "execution_count": 8,
   "metadata": {},
   "outputs": [
    {
     "data": {
      "text/plain": [
       "[<matplotlib.lines.Line2D at 0x7f9a848e95c0>]"
      ]
     },
     "execution_count": 8,
     "metadata": {},
     "output_type": "execute_result"
    },
    {
     "data": {
      "image/png": "[encoded data removed]",
      "text/plain": [
       "<Figure size 432x288 with 1 Axes>"
      ]
     },
     "metadata": {
      "needs_background": "light"
     },
     "output_type": "display_data"
    }
   ],
   "source": [
    "Test1=SpectrumAlt(A_mod,1j*B_mod);\n",
    "plt.plot(Test1.real, Test1.imag,'bo')\n",
    "plt.xlim(-2,2)\n",
    "plt.ylim(-10,10)\n",
    "plt.plot(correct_answer.real, correct_answer.imag,'rx')"
   ]
  },
  {
   "cell_type": "markdown",
   "metadata": {},
   "source": [
    "## Version II\n",
    "\n",
    "The **eigenvalue problem version II** is:\n",
    "\n",
    "\\begin{align}\n",
    "\\begin{pmatrix}\n",
    "M^r & 0\\\\\n",
    "0 & M^l                                                                                                       \n",
    "\\end{pmatrix}\n",
    "\\begin{pmatrix}\n",
    "\\phi^r \\\\ \\phi^l \n",
    "\\end{pmatrix}\n",
    "= i \\omega \n",
    "\\begin{pmatrix}\n",
    "2 \\partial_{x_r}  & 0 \\\\\n",
    "0 & -2  \\partial_{x_l}                                                  \n",
    "\\end{pmatrix}\n",
    "\\begin{pmatrix}\n",
    "\\phi^r \\\\ \\phi^l \n",
    "\\end{pmatrix}\n",
    "\\end{align}                                                      \n",
    "\n",
    "Where $M = (1-x^2)^{-1}A$ namely, \n",
    "\\begin{align} M^s = ((1-x_s^2)\\partial_{x_s}^2 -2 x_s \\partial_{x_s})-\\tilde{V}(x_s) \\end{align}\n",
    "where $\\tilde{V} =(1-x^2)^{-1}V $"
   ]
  },
  {
   "cell_type": "code",
   "execution_count": 9,
   "metadata": {},
   "outputs": [],
   "source": [
    "# for this version we can't put N too high otherwise the eig function algorithm can't converge\n",
    "N = 10\n",
    "n=N+1\n",
    "# Spectral Differentiation, identity and Zero matrices\n",
    "xt =  [D1_CG(N)[0]]\n",
    "x = np.transpose(xt)\n",
    "D1 =  D1_CG(N)[1]\n",
    "D2 =  D2_CG(N)[1]\n",
    "Id = np.eye(N+1)\n",
    "Id_total = np.eye(2*(N+1))\n",
    "Zero = np.zeros((N+1,N+1))\n",
    "\n",
    "########## Right Region ##########\n",
    "# x in [-1 , 1] --> xr in  [0,1] \n",
    "\n",
    "c_r = 0 \n",
    "d_r = 1 \n",
    "xr =(c_r+d_r)/2 + ((d_r-c_r)/2)*x\n",
    "D1_xr= (2/(d_r-c_r))*D1\n",
    "D2_xr = ((2/(d_r-c_r))**2) * D2\n",
    "\n",
    "########## Left Region ##########\n",
    "# x in [-1 , 1] --> xl in  [-1,0] \n",
    "\n",
    "c_l = -1 \n",
    "d_l = 0 \n",
    "xl =(c_l+d_l)/2 + ((d_l-c_l)/2)*x\n",
    "D1_xl= (2/(d_l-c_l))*D1\n",
    "D2_xl = ((2/(d_l-c_l))**2) * D2\n",
    "\n",
    "\n",
    "V0 = Id\n",
    "\n",
    "# Eigenvalue problem Version 1I\n",
    "\n",
    "M_r= ((1-xr**2)*D2_xr - 2*xr*D1_xr ) - V0\n",
    "M_l= ((1-xl**2)*D2_xl - 2*xl*D1_xl ) - V0\n",
    "M_top=np.concatenate((M_r,Zero),axis=1)\n",
    "M_bottom=np.concatenate((Zero,M_l),axis=1)\n",
    "M=np.concatenate((M_top,M_bottom),axis=0)\n",
    "\n",
    "Q_r = 2*D1_xr\n",
    "Q_l = -2*D1_xl\n",
    "Q_top=np.concatenate((Q_r,Zero),axis=1)\n",
    "Q_bottom=np.concatenate((Zero,Q_l),axis=1)\n",
    "Q=np.concatenate((Q_top,Q_bottom),axis=0)"
   ]
  },
  {
   "cell_type": "markdown",
   "metadata": {},
   "source": [
    "## Numerical implementation of the matching conditions\n",
    "\n",
    "\\begin{align}\n",
    "\\phi^r{}_N -\\phi^l{}_0 & = 0\\\\ \n",
    "((1-{x_r}^2)\\partial_{x_r}\\phi^r{})_N-((1-{x_l}^2)\\partial_{x_l}\\phi^l{})_0\n",
    "&= i\\omega (\\phi^r{}_N + \\phi^l{}_0) \n",
    "\\end{align}"
   ]
  },
  {
   "cell_type": "markdown",
   "metadata": {},
   "source": [
    "<img src=\"files/Photo-Notes/Retarded_Advanced_Eq.jpg\" width=\"600\">"
   ]
  },
  {
   "cell_type": "code",
   "execution_count": 10,
   "metadata": {},
   "outputs": [],
   "source": [
    "M_mod=M\n",
    "\n",
    "#Line N \n",
    "M_mod[N] = 0\n",
    "M_mod[N,N]= 1\n",
    "M_mod[N,N+1]= - 1\n",
    "\n",
    "#Line N+1\n",
    "#M_mod[N+1][0:n]  = (1-xr[N]**2)*D1_xr[N] \n",
    "#M_mod[N+1][n:2*n]  = -(1-xl[0]**2)*D1_xl[0] \n",
    "\n",
    "M_mod[N+1, 0:n]  = (1-xr[N]**2)*D1_xr[N] \n",
    "M_mod[N+1, n:2*n]  = -(1-xl[0]**2)*D1_xl[0] \n",
    " \n",
    "Q_mod=Q\n",
    "\n",
    "#Line N\n",
    "Q_mod[N]=0\n",
    "\n",
    "#Line N+1\n",
    "Q_mod[N+1]=0\n",
    "Q_mod[N+1,N]=1\n",
    "Q_mod[N+1,N+1]=1"
   ]
  },
  {
   "cell_type": "code",
   "execution_count": 11,
   "metadata": {},
   "outputs": [
    {
     "data": {
      "text/plain": [
       "[<matplotlib.lines.Line2D at 0x7f9a848e9978>]"
      ]
     },
     "execution_count": 11,
     "metadata": {},
     "output_type": "execute_result"
    },
    {
     "data": {
      "image/png": "[encoded data removed]",
      "text/plain": [
       "<Figure size 432x288 with 1 Axes>"
      ]
     },
     "metadata": {
      "needs_background": "light"
     },
     "output_type": "display_data"
    }
   ],
   "source": [
    "#Error: generalized eig algorithm (ggev) did not converge (LAPACK info=3)\n",
    "\n",
    "Test2=SpectrumAlt(M_mod,1j*Q_mod)\n",
    "plt.plot(Test2.real, Test2.imag,'bo')\n",
    "#plt.xlim(-1.5,1.5)\n",
    "#plt.ylim(-3,3)\n",
    "plt.plot(correct_answer.real, correct_answer.imag,'rx')"
   ]
  },
  {
   "cell_type": "markdown",
   "metadata": {},
   "source": [
    "##  Using Left and Right Radau "
   ]
  },
  {
   "cell_type": "markdown",
   "metadata": {},
   "source": [
    "#### Details of the Left Right Radau grids\n",
    "\n",
    "Recall that the Left Radau Grid is defined in such a way that $x^{LeftRadau}_0=-1$ and $x^{LeftRadau}_N<1$\n",
    "and Right Radau Grid is defined in such a way that $x^{RightRadau}_0=1$ and $x^{RightRadau}_N>-1$\n",
    "\n",
    "**Right region** : we need to cover $x_r\\in [0,1)$ with a Left Radau Grid $x_{Left Radau}\\in[-1,1)$. Thus we need to take\n",
    "use the (general) linear transformation formulae with $z=x_r$, and  $x=x_{LeftRadau}$ with $c=0, d=1$\n",
    "\n",
    "**Left region**: we need to cover $x_l\\in (-1,0]$ with a Right Radau grid $x_{Right Radau}\\in(-1,1]$. Thus we need to take\n",
    "use the (general) linear transformation formulae with $z=x_l$ and $x=x_{RightRadau}$ with $c=-1$ and $d=0$       "
   ]
  },
  {
   "cell_type": "code",
   "execution_count": 12,
   "metadata": {},
   "outputs": [],
   "source": [
    "N = 5\n",
    "n=N+1\n",
    "# Spectral Differentiation, identity and Zero matrices\n",
    "####\n",
    "xt_right_radau =  [D1_RCR(N)[0]]\n",
    "x_right_radau = np.transpose(xt_right_radau)\n",
    "D1_right_radau =  D1_RCR(N)[1]\n",
    "D2_right_radau =  D2_RCR(N)[1]\n",
    "###\n",
    "xt_left_radau =  [D1_LCR(N)[0]]\n",
    "x_left_radau = np.transpose(xt_left_radau)\n",
    "D1_left_radau =  D1_LCR(N)[1]\n",
    "D2_left_radau =  D2_LCR(N)[1]\n",
    "###\n",
    "Id = np.eye(N+1)\n",
    "Id_total = np.eye(2*(N+1))\n",
    "Zero = np.zeros((N+1,N+1))\n",
    "\n",
    "########## Right Region ##########\n",
    "###### we need Left Radau ######\n",
    "# x in [-1 , 1) --> xr in  [0,1] \n",
    "\n",
    "c_r = 0 \n",
    "d_r = 1 \n",
    "xr =(c_r+d_r)/2 + ((d_r-c_r)/2)*x_left_radau\n",
    "D1_xr= (2/(d_r-c_r))*D1_left_radau\n",
    "D2_xr = ((2/(d_r-c_r))**2) * D2_left_radau\n",
    "\n",
    "########## Left Region ##########\n",
    "###### we need Right Radau #####\n",
    "# x in (-1 , 1] --> xl in  (-1,0] \n",
    "\n",
    "c_l = -1 \n",
    "d_l = 0 \n",
    "xl =(c_l+d_l)/2 + ((d_l-c_l)/2)*x_right_radau\n",
    "D1_xl= (2/(d_l-c_l))*D1_right_radau\n",
    "D2_xl = ((2/(d_l-c_l))**2) * D2_right_radau\n"
   ]
  },
  {
   "cell_type": "code",
   "execution_count": 13,
   "metadata": {},
   "outputs": [],
   "source": [
    "#xr\n",
    "#xl"
   ]
  },
  {
   "cell_type": "code",
   "execution_count": 14,
   "metadata": {},
   "outputs": [],
   "source": [
    "# Testing Version I with Radau\n",
    "\n",
    "V0 = Id\n",
    "Vpt_r= (1.0-xr**2)*V0\n",
    "Vpt_l= (1.0-xl**2)*V0\n",
    "\n",
    "# Eigenvalue problem Version 1\n",
    "\n",
    "A_r= (1-xr**2)*((1-xr**2)*D2_xr - 2*xr*D1_xr ) - Vpt_r\n",
    "A_l= (1-xl**2)*((1-xl**2)*D2_xl - 2*xl*D1_xl ) - Vpt_l\n",
    "A_top=np.concatenate((A_r,Zero),axis=1)\n",
    "A_bottom=np.concatenate((Zero,A_l),axis=1)\n",
    "A=np.concatenate((A_top,A_bottom),axis=0)\n",
    "\n",
    "B_r = 2*(1-xr**2)*D1_xr\n",
    "B_l = -2*(1-xl**2)*D1_xl\n",
    "B_top=np.concatenate((B_r,Zero),axis=1)\n",
    "B_bottom=np.concatenate((Zero,B_l),axis=1)\n",
    "B=np.concatenate((B_top,B_bottom),axis=0)"
   ]
  },
  {
   "cell_type": "markdown",
   "metadata": {},
   "source": [
    "Recall that for Right Radau $(x_N,...,x_0]$ and for Left Radau $[x_0,...x_N)$\n",
    " thus xr[0] and xl[0] correspond to the boundary to be matched."
   ]
  },
  {
   "cell_type": "markdown",
   "metadata": {},
   "source": [
    "<img src=\"files/Photo-Notes/Retarded_Advanced_LeftRight_Radau.jpg\" width=\"600\">"
   ]
  },
  {
   "cell_type": "code",
   "execution_count": 15,
   "metadata": {},
   "outputs": [],
   "source": [
    "A_mod=A\n",
    "B_mod=B\n",
    "\n",
    "#Line N\n",
    "A_mod[0] = 0\n",
    "#A_mod[0][0]= 1\n",
    "#A_mod[0][N+1]= - 1\n",
    "A_mod[0, 0]= 1\n",
    "A_mod[0, N+1]= - 1\n",
    "B_mod[N]=0\n",
    "\n",
    "#Line N+1\n",
    "                       \n",
    "\n",
    "#A_mod[N+1][0:n]  = (1-xr[0]**2)*D1_xr[0] \n",
    "#A_mod[N+1][n:2*n]  = -(1-xl[0]**2)*D1_xl[0] \n",
    "\n",
    "\n",
    "A_mod[N+1, 0:n]  = (1-xr[0]**2)*D1_xr[0] \n",
    "A_mod[N+1, n:2*n]  = -(1-xl[0]**2)*D1_xl[0] \n",
    " \n",
    "\n",
    "B_mod[N+1]=0\n",
    "#B_mod[N+1][0]=1\n",
    "#B_mod[N+1][N+1]=1\n",
    "B_mod[N+1, 0]=1\n",
    "B_mod[N+1, N+1]=1"
   ]
  },
  {
   "cell_type": "code",
   "execution_count": 16,
   "metadata": {},
   "outputs": [
    {
     "data": {
      "text/plain": [
       "[<matplotlib.lines.Line2D at 0x7f9a8270a6d8>]"
      ]
     },
     "execution_count": 16,
     "metadata": {},
     "output_type": "execute_result"
    },
    {
     "data": {
      "image/png": "[encoded data removed]",
      "text/plain": [
       "<Figure size 432x288 with 1 Axes>"
      ]
     },
     "metadata": {
      "needs_background": "light"
     },
     "output_type": "display_data"
    }
   ],
   "source": [
    "Test3=SpectrumAlt(A_mod,1j*B_mod);\n",
    "plt.plot(Test3.real, Test3.imag,'bo')\n",
    "plt.xlim(-1.5,1.5)\n",
    "plt.ylim(0,6)\n",
    "plt.plot(correct_answer.real, correct_answer.imag,'rx')"
   ]
  },
  {
   "cell_type": "code",
   "execution_count": 17,
   "metadata": {},
   "outputs": [],
   "source": [
    "# Testing version II with Radau\n",
    "\n",
    "V0 = Id\n",
    "\n",
    "# Eigenvalue problem Version 1I\n",
    "\n",
    "M_r= ((1-xr**2)*D2_xr - 2*xr*D1_xr ) - V0\n",
    "M_l= ((1-xl**2)*D2_xl - 2*xl*D1_xl ) - V0\n",
    "M_top=np.concatenate((M_r,Zero),axis=1)\n",
    "M_bottom=np.concatenate((Zero,M_l),axis=1)\n",
    "M=np.concatenate((M_top,M_bottom),axis=0)\n",
    "\n",
    "Q_r = 2*D1_xr\n",
    "Q_l = -2*D1_xl\n",
    "Q_top=np.concatenate((Q_r,Zero),axis=1)\n",
    "Q_bottom=np.concatenate((Zero,Q_l),axis=1)\n",
    "Q=np.concatenate((Q_top,Q_bottom),axis=0)"
   ]
  },
  {
   "cell_type": "code",
   "execution_count": 18,
   "metadata": {},
   "outputs": [],
   "source": [
    "M_mod=M\n",
    "Q_mod=Q\n",
    "\n",
    "#Line 0\n",
    "M_mod[0] = 0\n",
    "M_mod[0][0]= 1\n",
    "M_mod[0][N+1]= - 1\n",
    "Q_mod[N]=0\n",
    "\n",
    "#Line N\n",
    "                         \n",
    "\n",
    "M_mod[N+1][0:n]  = (1-xr[0]**2)*D1_xr[0] \n",
    "M_mod[N+1][n:2*n]  = -(1-xl[0]**2)*D1_xl[0] \n",
    " \n",
    "\n",
    "Q_mod[N+1]=0\n",
    "Q_mod[N+1][0]=1\n",
    "Q_mod[N+1][N+1]=1"
   ]
  },
  {
   "cell_type": "code",
   "execution_count": 19,
   "metadata": {},
   "outputs": [
    {
     "data": {
      "text/plain": [
       "[<matplotlib.lines.Line2D at 0x7f9a826d1e10>]"
      ]
     },
     "execution_count": 19,
     "metadata": {},
     "output_type": "execute_result"
    },
    {
     "data": {
      "image/png": "[encoded data removed]",
      "text/plain": [
       "<Figure size 432x288 with 1 Axes>"
      ]
     },
     "metadata": {
      "needs_background": "light"
     },
     "output_type": "display_data"
    }
   ],
   "source": [
    "Test4=SpectrumAlt(M_mod,1j*Q_mod);\n",
    "plt.plot(Test4.real, Test4.imag,'bo')\n",
    "plt.xlim(-1.5,1.5)\n",
    "plt.ylim(-3,3)\n",
    "plt.plot(correct_answer.real, correct_answer.imag,'rx')"
   ]
  },
  {
   "cell_type": "code",
   "execution_count": 20,
   "metadata": {},
   "outputs": [
    {
     "data": {
      "text/plain": [
       "(-1.0, 3.0)"
      ]
     },
     "execution_count": 20,
     "metadata": {},
     "output_type": "execute_result"
    },
    {
     "data": {
      "image/png": "[encoded data removed]",
      "text/plain": [
       "<Figure size 432x288 with 1 Axes>"
      ]
     },
     "metadata": {
      "needs_background": "light"
     },
     "output_type": "display_data"
    }
   ],
   "source": [
    "# Comparing all the tests\n",
    "plt.plot(Test1.real, Test1.imag,'gx') # Lobato RetardedAdvanced EigenProblem version 1\n",
    "plt.plot(Test2.real, Test2.imag,'bx') # Lobato RetardedAdvanced EigenProblem version 2\n",
    "plt.plot(Test3.real, Test3.imag,'g+') # Radau RetardedAdvanced EigenProblem version 1\n",
    "plt.plot(Test4.real, Test4.imag,'b+') # Radau RetardedAdvanced EigenProblem version 2\n",
    "plt.plot(correct_answer.real, correct_answer.imag, 'r+') # Gauss Hyperboloidal EigenProblem  (Correct answer) \n",
    "plt.xlim(-2.5,2.5)\n",
    "plt.ylim(-1,3)"
   ]
  },
  {
   "cell_type": "code",
   "execution_count": null,
   "metadata": {},
   "outputs": [],
   "source": []
  }
 ],
 "metadata": {
  "kernelspec": {
   "display_name": "Python 3",
   "language": "python",
   "name": "python3"
  },
  "language_info": {
   "codemirror_mode": {
    "name": "ipython",
    "version": 3
   },
   "file_extension": ".py",
   "mimetype": "text/x-python",
   "name": "python",
   "nbconvert_exporter": "python",
   "pygments_lexer": "ipython3",
   "version": "3.6.12"
  }
 },
 "nbformat": 4,
 "nbformat_minor": 2
}
