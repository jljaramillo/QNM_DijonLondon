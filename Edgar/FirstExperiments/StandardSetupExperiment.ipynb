{
 "cells": [
  {
   "cell_type": "markdown",
   "metadata": {},
   "source": [
    "# Tests. Spectrum/QNMs calculations. Standard and Hyperboloidal set-ups"
   ]
  },
  {
   "cell_type": "markdown",
   "metadata": {},
   "source": [
    "**Standard setup**:\n",
    "The equation we are interested in  is\n",
    "\\begin{equation}\n",
    "(\\partial_t^2-\\partial_x^2 +V(x))\\phi=0.\n",
    "\\end{equation}\n",
    "Defining\n",
    "$\\psi=\\partial_t \\phi$ we get the first order in time, second order in\n",
    "space reduced equation:\n",
    "\\begin{equation}\n",
    "\\partial_t \\begin{pmatrix} \\phi \\\\ \\Psi \\end{pmatrix} = \\begin{pmatrix} 0 & 1\n",
    "\\\\ \\partial_x^2-V(x) & 0 \\end{pmatrix}\\begin{pmatrix} \\phi \\\\ \\Psi \\end{pmatrix}\n",
    "\\end{equation}\n",
    "Let $u=(\\phi, \\Psi)^T$ then we can write the above equation as $\\partial_t u = P u$ \n",
    "with \\begin{equation} P = \\begin{pmatrix} 0 & 1\n",
    "\\\\ \\partial_x^2-V(x) & 0 \\end{pmatrix}  \\end{equation}\n",
    "then applying the Fourier transform  (unitary angular frequency definition) we get, the equation $\n",
    "Pu = i\\omega u $\n",
    "Thus, we are left with the Eigenvalue problem\n",
    "\\begin{equation}\n",
    "M u = \\omega u\n",
    "\\end{equation}\n",
    "where\n",
    "\\begin{equation}\n",
    "M= -i P \\;\\;\\;\n",
    "\\end{equation}\n",
    "In contrast the **hyperboloidal setup** is given in eq (3) of Jaramillo, Panosso-Macedo, Al-Sheik paper.\n",
    "In this setup we have\n",
    "\n",
    "\\begin{align}\n",
    "L u = \\omega B u\n",
    "\\end{align}\n",
    "\n",
    "Where $L$ is constructed from $L_1 = (1-y^2)((1-y^2)\\partial_y^2 - 2y\\partial_y) - V $ and $\n",
    "L_2 = (1-y^2)(-2y\\partial_y - 1)$ and $B$ is given by\n",
    "\n",
    "\\begin{equation}B = \\begin{pmatrix} 0 & 1\n",
    "\\\\ 0 & (1-y^2) \\end{pmatrix} \\end{equation}\n",
    "\n",
    "In this form, posh-teller corresponds to $V = \\gamma(1-y^2) $\n",
    "\n"
   ]
  },
  {
   "cell_type": "code",
   "execution_count": 1,
   "metadata": {},
   "outputs": [
    {
     "name": "stdout",
     "output_type": "stream",
     "text": [
      "importing Jupyter notebook from SpectrumCalculator.ipynb\n"
     ]
    }
   ],
   "source": [
    "## Importation of basic rotutine\n",
    "import numpy as np\n",
    "import matplotlib.pyplot as plt\n",
    "import matplotlib.ticker as mticker\n",
    "from matplotlib import ticker, cm\n",
    "from scipy import linalg as LA\n",
    "from math import sin, cos, tanh, cosh, pi, log\n",
    "import cmath\n",
    "import import_ipynb\n",
    "\n",
    "## Importation of Spectral tools\n",
    "from SpectrumCalculator import *"
   ]
  },
  {
   "cell_type": "markdown",
   "metadata": {},
   "source": [
    "## Standard setup attempt"
   ]
  },
  {
   "cell_type": "code",
   "execution_count": 2,
   "metadata": {},
   "outputs": [],
   "source": [
    "N = 16\n",
    "n=N+1\n",
    "# Spectral Differentiation, identity and Zero matrices\n",
    "xt = [D1_CG(N)[0]]\n",
    "x = np.transpose(xt)\n",
    "D1 = D1_CG(N)[1]\n",
    "D2 = D2_CG(N)[1]\n",
    "Id = np.eye(N+1)\n",
    "Id_total = np.eye(2*(N+1))\n",
    "Zero = np.zeros((N+1,N+1))"
   ]
  },
  {
   "cell_type": "code",
   "execution_count": 3,
   "metadata": {},
   "outputs": [],
   "source": [
    "# Potential\n",
    "# in Petarpa Boonsern and Matt Viser's paper Quasi-normal frequencies: key analytic results\n",
    "# Let's test a known example in the standard setup: Posch-Teller \n",
    "V0=5.0\n",
    "Vpt= V0*(1.0/np.cosh(x))**2"
   ]
  },
  {
   "cell_type": "code",
   "execution_count": 4,
   "metadata": {},
   "outputs": [
    {
     "data": {
      "text/plain": [
       "[<matplotlib.lines.Line2D at 0x7fc12336de80>]"
      ]
     },
     "execution_count": 4,
     "metadata": {},
     "output_type": "execute_result"
    },
    {
     "data": {
      "image/png": "[encoded data removed]",
      "text/plain": [
       "<Figure size 432x288 with 1 Axes>"
      ]
     },
     "metadata": {
      "needs_background": "light"
     },
     "output_type": "display_data"
    }
   ],
   "source": [
    "plt.plot(x,Vpt)"
   ]
  },
  {
   "cell_type": "code",
   "execution_count": 5,
   "metadata": {},
   "outputs": [],
   "source": [
    "# Quick sanity checks:\n",
    "# Checking Spectrum function with know examples.\n",
    "#TestMatrix=Diagonal_Random_Matrix(N+1)\n",
    "#TestMatrix;"
   ]
  },
  {
   "cell_type": "code",
   "execution_count": 6,
   "metadata": {},
   "outputs": [],
   "source": [
    "#Spectrum(TestMatrix)\n",
    "#plt.plot(Spectrum(-1j*TestMatrix).real, Spectrum(-1j*TestMatrix).imag,'ro')"
   ]
  },
  {
   "cell_type": "code",
   "execution_count": 7,
   "metadata": {},
   "outputs": [],
   "source": [
    "# CirculantMatrix= np.array([[0,1,0,0,0], [0,0,1,0,0] ,[0,0,0,1,0] ,[0,0,0,0,1] ,[1,0,0,0,0]] )\n",
    "# Example taken from Pseudospectra_lectures_EmbreeCarden.pdf \n",
    "#plt.plot(Spectrum(CirculantMatrix).real, Spectrum(CirculantMatrix).imag,'ro')"
   ]
  },
  {
   "cell_type": "code",
   "execution_count": 8,
   "metadata": {},
   "outputs": [],
   "source": [
    "#Testing code with Standard setup\n",
    "# as described above with posch-teller potential\n",
    "Pcorner=D2-Vpt*Id"
   ]
  },
  {
   "cell_type": "code",
   "execution_count": 9,
   "metadata": {},
   "outputs": [],
   "source": [
    "Ptop=np.concatenate((Zero,Id),axis=1)\n",
    "Pbottom=np.concatenate((Pcorner,Zero),axis=1)\n",
    "P=np.concatenate((Ptop,Pbottom),axis=0)\n",
    "M=-1j*P"
   ]
  },
  {
   "cell_type": "code",
   "execution_count": 10,
   "metadata": {},
   "outputs": [],
   "source": [
    "Spectrum(M);"
   ]
  },
  {
   "cell_type": "code",
   "execution_count": 11,
   "metadata": {},
   "outputs": [
    {
     "data": {
      "text/plain": [
       "[<matplotlib.lines.Line2D at 0x7fc1212c12b0>]"
      ]
     },
     "execution_count": 11,
     "metadata": {},
     "output_type": "execute_result"
    },
    {
     "data": {
      "image/png": "[encoded data removed]",
      "text/plain": [
       "<Figure size 432x288 with 1 Axes>"
      ]
     },
     "metadata": {
      "needs_background": "light"
     },
     "output_type": "display_data"
    }
   ],
   "source": [
    "plt.plot(Spectrum(M).real, Spectrum(M).imag,'ro')\n",
    "#Complete failure"
   ]
  },
  {
   "cell_type": "markdown",
   "metadata": {},
   "source": [
    "## Hyperboloidal setup"
   ]
  },
  {
   "cell_type": "code",
   "execution_count": 12,
   "metadata": {},
   "outputs": [],
   "source": [
    "# Checking spectrum with the hyperboloidal setup"
   ]
  },
  {
   "cell_type": "code",
   "execution_count": 13,
   "metadata": {},
   "outputs": [
    {
     "name": "stdout",
     "output_type": "stream",
     "text": [
      "alpha = 0.0 , beta = 0.0 , gamma = 1.0\n"
     ]
    }
   ],
   "source": [
    "# Elementary Operators Version 2\n",
    "alpha, beta, gamma = 0., 0., 1.\n",
    "print(\"alpha =\", alpha, \", beta =\", beta, \", gamma =\", gamma)\n",
    "V = alpha + beta*x + gamma*(1-x**2) \n",
    "L1 = (1-x**2)*((1-x**2)*D2 - 2*x*D1) - V*Id \n",
    "L2 = (1-x**2)*(-2*x*D1 - Id)\n",
    "#EG: why don't we divide all by (1-x**2) for posch-teller. # EG: Understood now\n",
    "Bu = np.concatenate((Id,Zero), axis=1)\n",
    "Bd = np.concatenate((Zero,(1-x**2)*Id), axis=1)\n",
    "B = np.concatenate((Bu,Bd), axis=0)\n",
    "# EG: why is B chosen like this # EG: Understood now\n",
    "\n",
    "\n",
    "Lu = np.concatenate((Zero,Id), axis=1)\n",
    "Ld = np.concatenate((L1,L2), axis=1)\n",
    "L = np.concatenate((Lu,Ld), axis=0)\n",
    "    \n",
    "     \n",
    "L = -1j*L"
   ]
  },
  {
   "cell_type": "code",
   "execution_count": 14,
   "metadata": {},
   "outputs": [],
   "source": [
    "#Spectrum(L);\n",
    "#plt.plot(Spectrum(L).real, Spectrum(L).imag,'ro')"
   ]
  },
  {
   "cell_type": "code",
   "execution_count": 15,
   "metadata": {},
   "outputs": [
    {
     "data": {
      "image/png": "[encoded data removed]",
      "text/plain": [
       "<Figure size 432x288 with 1 Axes>"
      ]
     },
     "metadata": {
      "needs_background": "light"
     },
     "output_type": "display_data"
    }
   ],
   "source": [
    "SpectrumAlt(L,B);\n",
    "CorrectAnswer = plt.plot(SpectrumAlt(L,B).real, SpectrumAlt(L,B).imag,'ro')\n",
    "# Ok so B seems to fix things. Why is B introduced? Why is the generalised eigenvalue problem needed?"
   ]
  },
  {
   "cell_type": "markdown",
   "metadata": {},
   "source": [
    "## Insisting on standard setup. \n",
    "### Trying to impose outgoing boundary conditions at finite radius"
   ]
  },
  {
   "cell_type": "code",
   "execution_count": 16,
   "metadata": {},
   "outputs": [],
   "source": [
    "# Let's get back to the standard non hyperboloidal problem.\n",
    "# Let's see if we impose outgoing boundary conditions we get the correct spectrum\n",
    "\n",
    "# We want to impose (D phi)_0 = -i w phi_0  and (D phi)_N = i w phi_N\n"
   ]
  },
  {
   "cell_type": "code",
   "execution_count": 17,
   "metadata": {},
   "outputs": [],
   "source": [
    "Pcorner=D2-Vpt*Id\n",
    "Ptop=np.concatenate((Zero,Id),axis=1)\n",
    "Pbottom=np.concatenate((Pcorner,Zero),axis=1)\n",
    "P=np.concatenate((Ptop,Pbottom),axis=0)\n",
    "M=-1j*P"
   ]
  },
  {
   "cell_type": "markdown",
   "metadata": {},
   "source": [
    "<img src=\"files/BoundaryCondition_Tests.jpg\" width=\"600\">"
   ]
  },
  {
   "cell_type": "code",
   "execution_count": 18,
   "metadata": {},
   "outputs": [],
   "source": [
    "# In the last image z = x and c=-1, d=1.\n",
    "\n",
    "Pmod=P\n",
    "\n",
    "# we modify the first n=N+1, elements of the first line and susbtitute that for the corresponding line\n",
    "# of the diferentiation operator. This is to have (D phi)_0 on the left-hand side\n",
    "Pmod[0][0:n] = D1[0]\n",
    "# we modify the first n=N+1, elements of the N-th line and susbtitute that for the corresponding line\n",
    "# of the diferentiation operator. This is to have (D phi)_N on the left-hand side.\n",
    "Pmod[N][0:n]= D1[N]\n",
    "\n",
    "Id_total_mod = Id_total\n",
    "\n",
    "# we modify the first n=N+1, elements of the first line by (1, 0,0,0,0,...,0). \n",
    "# This is to have -i w phi_0 on the right-hand side\n",
    "Id_total_mod[0][0:n]= np.concatenate((np.ones(1),np.zeros(N)))\n",
    "# we modify the first n=N+1, elements of the N-th line by (0, 0,0,0,0,...,0,-1). \n",
    "# This is to have i w phi_N on the right-hand side\n",
    "Id_total_mod[N][0:n]= np.concatenate((np.zeros(N),-np.ones(1)))\n",
    "\n",
    "M_mod=-1j*Pmod"
   ]
  },
  {
   "cell_type": "code",
   "execution_count": 19,
   "metadata": {},
   "outputs": [
    {
     "data": {
      "text/plain": [
       "[<matplotlib.lines.Line2D at 0x7fc1211a40f0>]"
      ]
     },
     "execution_count": 19,
     "metadata": {},
     "output_type": "execute_result"
    },
    {
     "data": {
      "image/png": "[encoded data removed]",
      "text/plain": [
       "<Figure size 432x288 with 1 Axes>"
      ]
     },
     "metadata": {
      "needs_background": "light"
     },
     "output_type": "display_data"
    }
   ],
   "source": [
    "SpectrumAlt(M_mod,Id_total_mod);\n",
    "plt.plot(SpectrumAlt(M_mod,Id_total_mod).real, SpectrumAlt(M_mod,Id_total_mod).imag,'ro')"
   ]
  },
  {
   "cell_type": "code",
   "execution_count": 20,
   "metadata": {},
   "outputs": [],
   "source": [
    "# Is this ameliorated if we map the interval (-1,1) to (-a,a) with a>0?"
   ]
  },
  {
   "cell_type": "markdown",
   "metadata": {},
   "source": [
    "Consider a linear tranformation to transform the interval $[-1,1]$ to $[c,d]$. \n",
    "\n",
    "Taking    \n",
    "\\begin{equation}\n",
    "z = \\frac{c+d}{2} + \\bigg(\\frac{d-c}{2}\\bigg)x\n",
    "\\end{equation}\n",
    "we map $\\; \\;$ $x \\in [-1,1]$ $\\;\\;$ to $\\; \\;$ $z \\in [c,d]$.\n",
    "\n",
    "The inverse map is given by\n",
    "\\begin{equation}\n",
    "x = \\frac{c+d}{c-d} - \\bigg(\\frac{2}{c-d}\\bigg)z\n",
    "\\end{equation}\n",
    "Similarly the derivatives are related via.\n",
    "\\begin{equation}\n",
    "D_z  = \\frac{dx}{dz} D_x  \\;\\; \\text{namely} \\;\\; D_z  =  \\bigg(\\frac{2}{d-c}\\bigg) D_x \n",
    "\\end{equation}\n",
    "Similarly,\n",
    "\\begin{equation}\n",
    "D_x  = \\frac{dz}{dx} D_z  \\;\\; \\text{namely} \\;\\; D_x  =  \\bigg(\\frac{d-c}{2}\\bigg) D_z \n",
    "\\end{equation}\n",
    "\n"
   ]
  },
  {
   "cell_type": "code",
   "execution_count": 21,
   "metadata": {},
   "outputs": [],
   "source": [
    "N = 16\n",
    "n=N+1\n",
    "# Spectral Differentiation, identity and Zero matrices\n",
    "xt =  [D1_CG(N)[0]]\n",
    "x = np.transpose(xt)\n",
    "D1 =  D1_CG(N)[1]\n",
    "D2 =  D2_CG(N)[1]\n",
    "Id = np.eye(N+1)\n",
    "Id_total = np.eye(2*(N+1))\n",
    "Zero = np.zeros((N+1,N+1))\n",
    "\n",
    "########## rescaling domain ######\n",
    "# x in (-1 , 1), z in  (c , d)\n",
    "\n",
    "c = -500 #Large distance\n",
    "d = 500 #Large distance\n",
    "z =(c+d)/2 + (d-c)/2*x\n",
    "D1_z= (2/(d-c))*D1\n",
    "D2_z = ((2/(d-c))**2) * D2"
   ]
  },
  {
   "cell_type": "code",
   "execution_count": 22,
   "metadata": {},
   "outputs": [],
   "source": [
    "V0= 1.0\n",
    "Vpt= V0*(1.0/np.cosh(z))**2\n",
    "\n",
    "Pcorner=D2_z-Vpt*Id\n",
    "Ptop=np.concatenate((Zero,Id),axis=1)\n",
    "Pbottom=np.concatenate((Pcorner,Zero),axis=1)\n",
    "P=np.concatenate((Ptop,Pbottom),axis=0)\n",
    "M=-1j*P\n"
   ]
  },
  {
   "cell_type": "markdown",
   "metadata": {},
   "source": [
    "<img src=\"files/BoundaryCondition_Tests.jpg\" width=\"600\">"
   ]
  },
  {
   "cell_type": "code",
   "execution_count": 24,
   "metadata": {},
   "outputs": [],
   "source": [
    "Pmod=P\n",
    "Pmod[0][0:n] = D1_z[0]\n",
    "Pmod[N][0:n]= D1_z[N]\n",
    "Id_total_mod = Id_total\n",
    "Id_total_mod[0][0:n]= np.concatenate((np.ones(1),np.zeros(N)))\n",
    "Id_total_mod[N][0:n]= np.concatenate((np.zeros(N),-np.ones(1)))\n",
    "M_mod=-1j*Pmod"
   ]
  },
  {
   "cell_type": "code",
   "execution_count": 25,
   "metadata": {},
   "outputs": [
    {
     "data": {
      "image/png": "[encoded data removed]",
      "text/plain": [
       "<Figure size 432x288 with 1 Axes>"
      ]
     },
     "metadata": {
      "needs_background": "light"
     },
     "output_type": "display_data"
    }
   ],
   "source": [
    "SpectrumAlt(M_mod,Id_total_mod);\n",
    "#plt.xlim((-1,1))\n",
    "#plt.ylim((-10,10))\n",
    "ImposingFiniteRadiusBC=plt.plot(SpectrumAlt(M_mod,Id_total_mod).real, SpectrumAlt(M_mod,Id_total_mod).imag,'bo')"
   ]
  },
  {
   "cell_type": "code",
   "execution_count": null,
   "metadata": {},
   "outputs": [],
   "source": []
  }
 ],
 "metadata": {
  "kernelspec": {
   "display_name": "Python 3",
   "language": "python",
   "name": "python3"
  },
  "language_info": {
   "codemirror_mode": {
    "name": "ipython",
    "version": 3
   },
   "file_extension": ".py",
   "mimetype": "text/x-python",
   "name": "python",
   "nbconvert_exporter": "python",
   "pygments_lexer": "ipython3",
   "version": "3.6.12"
  }
 },
 "nbformat": 4,
 "nbformat_minor": 2
}
