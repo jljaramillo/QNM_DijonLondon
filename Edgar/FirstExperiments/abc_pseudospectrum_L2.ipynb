{
 "cells": [
  {
   "cell_type": "markdown",
   "metadata": {},
   "source": [
    "# abc operator"
   ]
  },
  {
   "cell_type": "code",
   "execution_count": 1,
   "metadata": {},
   "outputs": [
    {
     "name": "stdout",
     "output_type": "stream",
     "text": [
      "importing Jupyter notebook from SpectrumCalculator.ipynb\n"
     ]
    }
   ],
   "source": [
    "## Importation of basic rotutine\n",
    "import numpy as np\n",
    "import matplotlib.pyplot as plt\n",
    "import matplotlib.ticker as mticker\n",
    "from matplotlib import ticker, cm\n",
    "from scipy import linalg as LA\n",
    "from math import sin, cos, tanh, cosh, pi, log\n",
    "import cmath\n",
    "import import_ipynb\n",
    "\n",
    "## Importation of Spectral tools\n",
    "from SpectrumCalculator import *"
   ]
  },
  {
   "cell_type": "code",
   "execution_count": 2,
   "metadata": {},
   "outputs": [],
   "source": [
    "N = 100\n",
    "n=N+1\n",
    "# Spectral Differentiation, identity and Zero matrices\n",
    "xt = [D1_CL(N)[0]]\n",
    "x = np.transpose(xt)\n",
    "D1 = D1_CL(N)[1]\n",
    "D2 = D2_CL(N)[1]\n",
    "Id = np.eye(N+1)\n",
    "Id_total = np.eye(2*(N+1))\n",
    "Zero = np.zeros((N+1,N+1))"
   ]
  },
  {
   "cell_type": "code",
   "execution_count": 3,
   "metadata": {},
   "outputs": [],
   "source": [
    "a, b, c = 1.0, 6.0, 1.0\n",
    "L = a*(1-x**2)*D2 + (-4*a*x + b*(1-x**2))*D1 + (-2*a-2*b*x+c*(1-x**2))*Id \n",
    "Ladj = a*(1-x**2)*D2 + (-4*a*x* - b*(1-x**2))*D1 + (-2*a+2*b*x+c*(1-x**2))*Id\n",
    "B = (1-x**2)*Id"
   ]
  },
  {
   "cell_type": "code",
   "execution_count": 4,
   "metadata": {},
   "outputs": [
    {
     "data": {
      "text/plain": [
       "[<matplotlib.lines.Line2D at 0x7fc6d8241390>]"
      ]
     },
     "execution_count": 4,
     "metadata": {},
     "output_type": "execute_result"
    },
    {
     "data": {
      "image/png": "[encoded data removed]",
      "text/plain": [
       "<Figure size 432x288 with 1 Axes>"
      ]
     },
     "metadata": {
      "needs_background": "light"
     },
     "output_type": "display_data"
    }
   ],
   "source": [
    "S=SpectrumAlt(L,B);\n",
    "plt.plot(S.real, S.imag,'ro')\n",
    "#plt.plot(S[20:N].real, S[20:N].imag,'ro')"
   ]
  },
  {
   "cell_type": "code",
   "execution_count": 5,
   "metadata": {},
   "outputs": [],
   "source": [
    "##########################################################################################\n",
    "# Spectral Analysis Tools\n",
    "##########################################################################################\n",
    "\n",
    "def Pseudospectrum(L,B,xmin,xmax,ymin,ymax,Nxgrid,Nygrid,heights,fl) :\n",
    "    \"\"\"\n",
    "    Implement Pseudo-Spectrum of a matrix L\n",
    "    \"\"\"\n",
    "    from scipy import linalg as LA\n",
    "    \n",
    "    ### 1. Preparation of tools \n",
    "    sizeL = np.shape(L)\n",
    "    if  np.shape(L)[0]!= np.shape(L)[1]:\n",
    "        print(\"Non-square Matrix!!! \")\n",
    "    else : \n",
    "        n = np.shape(L)[0]\n",
    "    N = n/2 - 1\n",
    "   \n",
    "    ### 2. Calculation of the Spectrum (eigenvalues)\n",
    "    #eigenvalues_L, eigenvectors_L = LA.eig(L,B)\n",
    "    eigenvalues_L = LA.eigvals(L,B)\n",
    "\n",
    "\n",
    "    eigenvalues_L_Re = eigenvalues_L.real\n",
    "    eigenvalues_L_Im = eigenvalues_L.imag\n",
    "\n",
    "    \n",
    "    ### 3. Evaluation of the Pseudospectrum\n",
    "    \n",
    "    ### 3.1 Grid for Pseudospectrum calculation\n",
    "    [X,Y] = np.mgrid[xmin:xmax:Nxgrid*1j,ymin:ymax:Nygrid*1j]\n",
    "\n",
    "    Z = X + 1j*Y\n",
    "\n",
    "    ### 3.2 Construction of the \"height function\" given by the min of the SVP\n",
    "    Id =  np.eye(n)\n",
    "    Sigma_min = np.zeros((Nxgrid,Nygrid))\n",
    "    \n",
    "\n",
    "    for i in np.arange(0, Nxgrid):\n",
    "        for j in np.arange(0, Nygrid):\n",
    "            L_shift = L - Z[i,j]*B*Id            \n",
    "            Sigma_min[i,j] = min(np.linalg.svd(L_shift, full_matrices=True)[1]) \n",
    "\n",
    "    \n",
    "    ### 3.3 Graphical output\n",
    "    fig = plt.figure()\n",
    "    ax = fig.add_subplot(111)\n",
    "    ax.plot(eigenvalues_L_Re, eigenvalues_L_Im, '+', markersize=1)\n",
    "     \n",
    "    if fl == \"f\" :\n",
    "        CS = ax.contourf(X,Y,Sigma_min,heights,locator=ticker.LogLocator(),linewidth=0.5)\n",
    "    elif fl == \"c\" : \n",
    "        CS = ax.contour(X,Y,Sigma_min,heights,locator=ticker.LogLocator(),linewidth=0.5)\n",
    "    else :\n",
    "        print(\"\\n Pseudospectrum output: \\n No 'contour/filled' version could be identified.\\n Filled version is assumed.\\n\")\n",
    "        CS = ax.contourf(X,Y,Sigma_min,heights,locator=ticker.LogLocator(),linewidth=0.5)\n",
    "\n",
    "    CB = fig.colorbar(CS)\n",
    "    ax.set_xlabel(r'$\\mathrm{Re}(\\omega_n)$')\n",
    "    ax.set_ylabel(r'$\\mathrm{Im}(\\omega_n)$')    \n",
    "    f = mticker.ScalarFormatter(useOffset=False, useMathText=True)\n",
    "    g = lambda x,pos : \"${}$\".format(f._formatSciNotation('%10e' % x))\n",
    "    ax.xaxis.set_major_formatter(mticker.FuncFormatter(g))\n",
    "    ax.yaxis.set_major_formatter(mticker.FuncFormatter(g))\n",
    "    \n",
    "    fig.suptitle(r'Spectrum and Pseudospectrum of $L$' )\n",
    "    ax.axis('scaled')\n",
    "    #ax.axis('equal','datalim')\n",
    "    ax.axis([xmin,xmax,ymin,ymax])\n",
    "    ax.grid()   \n",
    "    #ax.set_xlim(xmin,xmax)\n",
    "    #ax.set_ylim(ymin,ymax)\n",
    "\n",
    "    fig.show()\n",
    "    print(\"\\n N =\\n\",N)\n",
    "    "
   ]
  },
  {
   "cell_type": "code",
   "execution_count": 6,
   "metadata": {},
   "outputs": [],
   "source": [
    "#xmin, xmax ,ymin,ymax, Nxgrid, Nygrid = -20., 500., -200., 200., 75, 75\n",
    "xmin, xmax ,ymin,ymax, Nxgrid, Nygrid = -200., 10., -40., 40., 75, 75\n",
    "heights = [1e-15,1e-14,1e-13,1e-12,1e-11,1e-10,1e-9,1e-8,1e-7,1e-6,1e-5,1e-4,1e-3,1e-2,1e-1,1e0, 1e1, 1e2]\n",
    "#heights = [1e-11,1e-10,1e-9,1e-8,1e-7,1e-6,1e-5,1e-4,1e-3,1e-2,1e-1,1e0, 1e1, 1e2]\n",
    "fl = \"f\"\n"
   ]
  },
  {
   "cell_type": "code",
   "execution_count": 7,
   "metadata": {},
   "outputs": [
    {
     "name": "stderr",
     "output_type": "stream",
     "text": [
      "/home/gasperin/anaconda3/envs/rel/lib/python3.6/site-packages/ipykernel_launcher.py:52: UserWarning: The following kwargs were not used by contour: 'linewidth'\n",
      "/home/gasperin/anaconda3/envs/rel/lib/python3.6/site-packages/ipykernel_launcher.py:75: UserWarning: Matplotlib is currently using module://ipykernel.pylab.backend_inline, which is a non-GUI backend, so cannot show the figure.\n"
     ]
    },
    {
     "name": "stdout",
     "output_type": "stream",
     "text": [
      "\n",
      " N =\n",
      " 49.5\n"
     ]
    },
    {
     "data": {
      "image/png": "[encoded data removed]",
      "text/plain": [
       "<Figure size 432x288 with 2 Axes>"
      ]
     },
     "metadata": {
      "needs_background": "light"
     },
     "output_type": "display_data"
    }
   ],
   "source": [
    "Pseudospectrum(L,B,xmin,xmax,ymin,ymax,Nxgrid,Nygrid,heights,fl)"
   ]
  },
  {
   "cell_type": "code",
   "execution_count": 38,
   "metadata": {},
   "outputs": [
    {
     "data": {
      "text/plain": [
       "0"
      ]
     },
     "execution_count": 38,
     "metadata": {},
     "output_type": "execute_result"
    }
   ],
   "source": [
    "np.arange(0, 3)\n",
    "\n",
    "np.arange(1, int(np.floor(7/2)))\n",
    "np.zeros(int(np.floor(7/2)-1))\n",
    "CL_grid(4)[0]\n",
    "np.kron(1, 0)"
   ]
  },
  {
   "cell_type": "code",
   "execution_count": 217,
   "metadata": {},
   "outputs": [],
   "source": [
    "#def alpha(N):\n",
    "#    n = N+1\n",
    "#    n_grid = np.arange(0, n)\n",
    "#    alpha = np.ones(n)\n",
    "#    alpha[0]=2\n",
    "#    alpha[N]=2\n",
    "#    return alpha"
   ]
  },
  {
   "cell_type": "code",
   "execution_count": 222,
   "metadata": {},
   "outputs": [],
   "source": [
    "#def CNmuMatrix(mu,N) :\n",
    "#    n = N+1\n",
    "#    n_grid = np.arange(0, n)\n",
    "#    x_grid = CL_grid(N)\n",
    "#    Nhalffloor_grid = np.arange(1, int(np.floor(N/2)))\n",
    "#    CNmuMatrix=np.zeros((n,n))\n",
    "#    if (len(mu)!= n) :\n",
    "#         return   print(\" Lenght of the discretised weight function mu does not coincide with the grid size\")\n",
    "#    else :\n",
    "#        for i in n_grid :\n",
    "#            for j in n_grid :\n",
    "#                if (i==j) :  \n",
    "#                    CNmuMatrix[i,j] = (2*mu[i]/(alpha(N)[i]*N))*(1-sum([Chebyshev(2*k,x_grid[i])*((2-np.kron(2*k,N))/(4*k**2-1)) for k  in Nhalffloor_grid]) )\n",
    "#            else :               \n",
    "#                    CNmuMatrix[i,j] = 0\n",
    "#              \n",
    "#    return CNmuMatrix"
   ]
  },
  {
   "cell_type": "code",
   "execution_count": 223,
   "metadata": {},
   "outputs": [],
   "source": [
    "def CNmuMatrix(mu) :\n",
    "    \"\"\" \n",
    "    Reads an ndarray with the values of the weight function mu at the Chebyshev-Lobatto\n",
    "    collocation points and returns the matrix C^N_mu\n",
    "    (following equation C14 in Jaramillo-PanossoMacedo-Al-Sheikh paper)\n",
    "    \"\"\"\n",
    "    n = len(mu)\n",
    "    N = n-1\n",
    "    n_grid = np.arange(0, n)\n",
    "    x_grid = CL_grid(N)\n",
    "    alpha = np.ones(n)\n",
    "    alpha[0]=2\n",
    "    alpha[N]=2\n",
    "    Nhalffloor_grid = np.arange(1, int(np.floor(N/2)))\n",
    "    CNmuMatrix=np.zeros((n,n))\n",
    "    for i in n_grid :\n",
    "        for j in n_grid :\n",
    "            if (i==j) :  \n",
    "                CNmuMatrix[i,j] = (2*mu[i]/(alpha[i]*N))*(1-sum([(Chebyshev(2*k,x_grid[i]))*((2-np.kron(2*k,N))/(4*k**2-1)) for k  in Nhalffloor_grid]))\n",
    "        else :               \n",
    "                CNmuMatrix[i,j] = 0\n",
    "              \n",
    "    return CNmuMatrix"
   ]
  },
  {
   "cell_type": "code",
   "execution_count": 224,
   "metadata": {},
   "outputs": [],
   "source": [
    "#Diagonal_Random_Matrix(4)\n",
    "#Diagonal_Random_Matrix(4).np.adjoint\n",
    "#Diagonal_Random_Matrix(4).np.getH()\n",
    "#\n",
    "#x = np.matrix(np.arange(12).reshape((3,4)))\n",
    "#\n",
    "#z = x - 1j*x; z\n",
    "#\n",
    "#z.getH()\n",
    "#z"
   ]
  },
  {
   "cell_type": "code",
   "execution_count": 225,
   "metadata": {},
   "outputs": [],
   "source": [
    "def GramMatrix_abc(w):\n",
    "    GramMatrix=CNmuMatrix(w)\n",
    "    return GramMatrix\n",
    "\n",
    "def ConjugateTranspose(A):\n",
    "    return A.getH()\n",
    "\n",
    "def Dagger(GramMatrix,M):\n",
    "    temp=np.matmul(ConjugateTranspose(M),GramMatrix)\n",
    "    return np.matmul(np.linalg.inv(GramMatrix),temp)\n",
    "    "
   ]
  },
  {
   "cell_type": "code",
   "execution_count": 226,
   "metadata": {},
   "outputs": [],
   "source": [
    "# Sanity check?"
   ]
  },
  {
   "cell_type": "code",
   "execution_count": 236,
   "metadata": {},
   "outputs": [
    {
     "data": {
      "text/plain": [
       "array([1., 1., 1., 1.])"
      ]
     },
     "execution_count": 236,
     "metadata": {},
     "output_type": "execute_result"
    }
   ],
   "source": [
    "mutest =  np.ones(4) #CL_grid(3)\n",
    "#len(mutest)\n",
    "mutest"
   ]
  },
  {
   "cell_type": "code",
   "execution_count": 238,
   "metadata": {},
   "outputs": [
    {
     "data": {
      "text/plain": [
       "array([[0.33333333, 0.        , 0.        , 0.        ],\n",
       "       [0.        , 0.66666667, 0.        , 0.        ],\n",
       "       [0.        , 0.        , 0.66666667, 0.        ],\n",
       "       [0.        , 0.        , 0.        , 0.        ]])"
      ]
     },
     "execution_count": 238,
     "metadata": {},
     "output_type": "execute_result"
    }
   ],
   "source": [
    "CNmuMatrix(mutest)\n",
    "#This should be the identity, isn't it?"
   ]
  },
  {
   "cell_type": "code",
   "execution_count": 232,
   "metadata": {},
   "outputs": [
    {
     "data": {
      "text/plain": [
       "array([ 1. ,  0.5, -0.5, -1. ])"
      ]
     },
     "execution_count": 232,
     "metadata": {},
     "output_type": "execute_result"
    }
   ],
   "source": [
    "# Interpolation matrix\n",
    "CL_grid(3)"
   ]
  },
  {
   "cell_type": "code",
   "execution_count": null,
   "metadata": {},
   "outputs": [],
   "source": []
  }
 ],
 "metadata": {
  "kernelspec": {
   "display_name": "Python 3",
   "language": "python",
   "name": "python3"
  },
  "language_info": {
   "codemirror_mode": {
    "name": "ipython",
    "version": 3
   },
   "file_extension": ".py",
   "mimetype": "text/x-python",
   "name": "python",
   "nbconvert_exporter": "python",
   "pygments_lexer": "ipython3",
   "version": "3.6.12"
  }
 },
 "nbformat": 4,
 "nbformat_minor": 4
}
