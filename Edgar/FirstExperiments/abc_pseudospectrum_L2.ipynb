{
 "cells": [
  {
   "cell_type": "markdown",
   "metadata": {},
   "source": [
    "# abc operator"
   ]
  },
  {
   "cell_type": "code",
   "execution_count": 1,
   "metadata": {},
   "outputs": [
    {
     "name": "stdout",
     "output_type": "stream",
     "text": [
      "importing Jupyter notebook from SpectrumCalculator.ipynb\n"
     ]
    }
   ],
   "source": [
    "## Importation of basic rotutine\n",
    "import numpy as np\n",
    "import matplotlib.pyplot as plt\n",
    "import matplotlib.ticker as mticker\n",
    "from matplotlib import ticker, cm\n",
    "from scipy import linalg as LA\n",
    "from math import sin, cos, tanh, cosh, pi, log\n",
    "import cmath\n",
    "import import_ipynb\n",
    "\n",
    "## Importation of Spectral tools\n",
    "from SpectrumCalculator import *"
   ]
  },
  {
   "cell_type": "code",
   "execution_count": 2,
   "metadata": {},
   "outputs": [],
   "source": [
    "#N = 100\n",
    "N=20\n",
    "n=N+1\n",
    "# Spectral Differentiation, identity and Zero matrices\n",
    "xt = [D1_CL(N)[0]]\n",
    "x = np.transpose(xt)\n",
    "D1 = D1_CL(N)[1]\n",
    "D2 = D2_CL(N)[1]\n",
    "Id = np.eye(N+1)\n",
    "Id_total = np.eye(2*(N+1))\n",
    "Zero = np.zeros((N+1,N+1))"
   ]
  },
  {
   "cell_type": "code",
   "execution_count": 3,
   "metadata": {},
   "outputs": [],
   "source": [
    "a, b, c = 1.0, 6.0, 1.0\n",
    "L = a*(1-x**2)*D2 + (-4*a*x + b*(1-x**2))*D1 + (-2*a-2*b*x+c*(1-x**2))*Id \n",
    "# L = a*D2 +  b*D1 + c*Id \n",
    "Ladj = a*(1-x**2)*D2 + (-4*a*x* - b*(1-x**2))*D1 + (-2*a+2*b*x+c*(1-x**2))*Id\n",
    "# Ladj = a*D2 -  b*D1 + c*Id \n",
    "B = (1-x**2)*Id\n",
    "#B = Id"
   ]
  },
  {
   "cell_type": "code",
   "execution_count": 4,
   "metadata": {},
   "outputs": [
    {
     "data": {
      "text/plain": [
       "[<matplotlib.lines.Line2D at 0x7f6274b16390>]"
      ]
     },
     "execution_count": 4,
     "metadata": {},
     "output_type": "execute_result"
    },
    {
     "data": {
      "image/png": "[encoded data removed]",
      "text/plain": [
       "<Figure size 432x288 with 1 Axes>"
      ]
     },
     "metadata": {
      "needs_background": "light"
     },
     "output_type": "display_data"
    }
   ],
   "source": [
    "S=SpectrumAlt(L,B);\n",
    "plt.plot(S.real, S.imag,'ro')\n",
    "#plt.plot(S[20:N].real, S[20:N].imag,'ro')"
   ]
  },
  {
   "cell_type": "code",
   "execution_count": 5,
   "metadata": {},
   "outputs": [],
   "source": [
    "##########################################################################################\n",
    "# Spectral Analysis Tools\n",
    "##########################################################################################\n",
    "\n",
    "def Pseudospectrum(L,B,xmin,xmax,ymin,ymax,Nxgrid,Nygrid,heights,fl) :\n",
    "    \"\"\"\n",
    "    Implement Pseudo-Spectrum of a matrix L\n",
    "    \"\"\"\n",
    "    from scipy import linalg as LA\n",
    "    \n",
    "    ### 1. Preparation of tools \n",
    "    sizeL = np.shape(L)\n",
    "    if  np.shape(L)[0]!= np.shape(L)[1]:\n",
    "        print(\"Non-square Matrix!!! \")\n",
    "    else : \n",
    "        n = np.shape(L)[0]\n",
    "    N = n/2 - 1\n",
    "   \n",
    "    ### 2. Calculation of the Spectrum (eigenvalues)\n",
    "    #eigenvalues_L, eigenvectors_L = LA.eig(L,B)\n",
    "    eigenvalues_L = LA.eigvals(L,B)\n",
    "\n",
    "\n",
    "    eigenvalues_L_Re = eigenvalues_L.real\n",
    "    eigenvalues_L_Im = eigenvalues_L.imag\n",
    "\n",
    "    \n",
    "    ### 3. Evaluation of the Pseudospectrum\n",
    "    \n",
    "    ### 3.1 Grid for Pseudospectrum calculation\n",
    "    [X,Y] = np.mgrid[xmin:xmax:Nxgrid*1j,ymin:ymax:Nygrid*1j]\n",
    "\n",
    "    Z = X + 1j*Y\n",
    "\n",
    "    ### 3.2 Construction of the \"height function\" given by the min of the SVP\n",
    "    Id =  np.eye(n)\n",
    "    Sigma_min = np.zeros((Nxgrid,Nygrid))\n",
    "    \n",
    "\n",
    "    for i in np.arange(0, Nxgrid):\n",
    "        for j in np.arange(0, Nygrid):\n",
    "            L_shift = L - Z[i,j]*B*Id            \n",
    "            Sigma_min[i,j] = min(np.linalg.svd(L_shift, full_matrices=True)[1]) \n",
    "\n",
    "    \n",
    "    ### 3.3 Graphical output\n",
    "    fig = plt.figure()\n",
    "    ax = fig.add_subplot(111)\n",
    "    ax.plot(eigenvalues_L_Re, eigenvalues_L_Im, '+', markersize=1)\n",
    "     \n",
    "    if fl == \"f\" :\n",
    "        CS = ax.contourf(X,Y,Sigma_min,heights,locator=ticker.LogLocator(),linewidth=0.5)\n",
    "    elif fl == \"c\" : \n",
    "        CS = ax.contour(X,Y,Sigma_min,heights,locator=ticker.LogLocator(),linewidth=0.5)\n",
    "    else :\n",
    "        print(\"\\n Pseudospectrum output: \\n No 'contour/filled' version could be identified.\\n Filled version is assumed.\\n\")\n",
    "        CS = ax.contourf(X,Y,Sigma_min,heights,locator=ticker.LogLocator(),linewidth=0.5)\n",
    "\n",
    "    CB = fig.colorbar(CS)\n",
    "    ax.set_xlabel(r'$\\mathrm{Re}(\\omega_n)$')\n",
    "    ax.set_ylabel(r'$\\mathrm{Im}(\\omega_n)$')    \n",
    "    f = mticker.ScalarFormatter(useOffset=False, useMathText=True)\n",
    "    g = lambda x,pos : \"${}$\".format(f._formatSciNotation('%10e' % x))\n",
    "    ax.xaxis.set_major_formatter(mticker.FuncFormatter(g))\n",
    "    ax.yaxis.set_major_formatter(mticker.FuncFormatter(g))\n",
    "    \n",
    "    fig.suptitle(r'Spectrum and Pseudospectrum of $L$' )\n",
    "    ax.axis('scaled')\n",
    "    #ax.axis('equal','datalim')\n",
    "    ax.axis([xmin,xmax,ymin,ymax])\n",
    "    ax.grid()   \n",
    "    #ax.set_xlim(xmin,xmax)\n",
    "    #ax.set_ylim(ymin,ymax)\n",
    "\n",
    "    fig.show()\n",
    "    print(\"\\n N =\\n\",N)\n",
    "    "
   ]
  },
  {
   "cell_type": "code",
   "execution_count": 6,
   "metadata": {},
   "outputs": [],
   "source": [
    "#xmin, xmax ,ymin,ymax, Nxgrid, Nygrid = -20., 500., -200., 200., 75, 75\n",
    "xmin, xmax ,ymin,ymax, Nxgrid, Nygrid = -200., 10., -40., 40., 75, 75\n",
    "heights = [1e-15,1e-14,1e-13,1e-12,1e-11,1e-10,1e-9,1e-8,1e-7,1e-6,1e-5,1e-4,1e-3,1e-2,1e-1,1e0, 1e1, 1e2]\n",
    "#heights = [1e-11,1e-10,1e-9,1e-8,1e-7,1e-6,1e-5,1e-4,1e-3,1e-2,1e-1,1e0, 1e1, 1e2]\n",
    "fl = \"f\"\n"
   ]
  },
  {
   "cell_type": "code",
   "execution_count": 7,
   "metadata": {},
   "outputs": [
    {
     "name": "stderr",
     "output_type": "stream",
     "text": [
      "/home/gasperin/anaconda3/envs/rel/lib/python3.6/site-packages/ipykernel_launcher.py:52: UserWarning: The following kwargs were not used by contour: 'linewidth'\n",
      "/home/gasperin/anaconda3/envs/rel/lib/python3.6/site-packages/ipykernel_launcher.py:75: UserWarning: Matplotlib is currently using module://ipykernel.pylab.backend_inline, which is a non-GUI backend, so cannot show the figure.\n"
     ]
    },
    {
     "name": "stdout",
     "output_type": "stream",
     "text": [
      "\n",
      " N =\n",
      " 9.5\n"
     ]
    },
    {
     "data": {
      "image/png": "[encoded data removed]",
      "text/plain": [
       "<Figure size 432x288 with 2 Axes>"
      ]
     },
     "metadata": {
      "needs_background": "light"
     },
     "output_type": "display_data"
    }
   ],
   "source": [
    "Pseudospectrum(L,B,xmin,xmax,ymin,ymax,Nxgrid,Nygrid,heights,fl)"
   ]
  },
  {
   "cell_type": "markdown",
   "metadata": {},
   "source": [
    "# Attempt to implement the basic elements of Appendix C, subsection 3."
   ]
  },
  {
   "cell_type": "code",
   "execution_count": 8,
   "metadata": {},
   "outputs": [],
   "source": [
    "def Kdelta(i,j):\n",
    "    if (i==j):\n",
    "        KroneckerDeltaReturn=1\n",
    "    else:\n",
    "        KroneckerDeltaReturn=0\n",
    "    \n",
    "    return KroneckerDeltaReturn"
   ]
  },
  {
   "cell_type": "code",
   "execution_count": 9,
   "metadata": {},
   "outputs": [],
   "source": [
    "def CNmuMatrix(mu) :\n",
    "    \"\"\" \n",
    "    Reads an ndarray with the values of the weight function mu at the Chebyshev-Lobatto\n",
    "    collocation points and returns the matrix C^N_mu\n",
    "    (following equation C14 in Jaramillo-PanossoMacedo-Al-Sheikh paper)\n",
    "    \"\"\"\n",
    "    n = len(mu)\n",
    "    N = n-1\n",
    "    n_grid = np.arange(0, n)\n",
    "    x_grid = CL_grid(N)\n",
    "    alpha = np.ones(n)\n",
    "    alpha[0]=2\n",
    "    alpha[N]=2\n",
    "    #list of indices in the sum\n",
    "    # we add one because we want to include the point floor(N/2) in the arrange.\n",
    "    Nhalffloor_grid = np.arange(1, int(np.floor(N/2)+1))\n",
    "    #print(\"n =\" ,  n)\n",
    "    #print(\"N =\" ,  N)\n",
    "    #print(\"Nhalffloor_grid =\" ,  Nhalffloor_grid)\n",
    "    CNmuMatrix=np.zeros((n,n))\n",
    "    for i in n_grid :\n",
    "        for j in n_grid :\n",
    "            if (i==j) :  \n",
    "                #we construct a list of the elements to be summed up using List comprehension\n",
    "                ExpressionInSummedUpInListForm = [(Chebyshev(2*k,x_grid[i]))*((2-Kdelta(2*k,N))/(4*(k**2)-1)) for k  in Nhalffloor_grid]\n",
    "                CNmuMatrix[i,j] = ((2*mu[i])/(alpha[i]*N))*(1-sum(ExpressionInSummedUpInListForm))\n",
    "            else :               \n",
    "                CNmuMatrix[i,j] = 0\n",
    "              \n",
    "    return CNmuMatrix"
   ]
  },
  {
   "cell_type": "markdown",
   "metadata": {},
   "source": [
    "### Sanity check. Does one recover the integral of the product of two functions ??"
   ]
  },
  {
   "cell_type": "code",
   "execution_count": 10,
   "metadata": {},
   "outputs": [
    {
     "data": {
      "text/plain": [
       "array([1., 1., 1., 1.])"
      ]
     },
     "execution_count": 10,
     "metadata": {},
     "output_type": "execute_result"
    }
   ],
   "source": [
    "Identitytest = np.ones(4)  #np.array([3., 21., 11., 9.]) #np.ones(4) #CL_grid(3) \n",
    "#len(mutest)\n",
    "Identitytest"
   ]
  },
  {
   "cell_type": "code",
   "execution_count": 11,
   "metadata": {},
   "outputs": [
    {
     "data": {
      "text/plain": [
       "array([[0.11111111, 0.        , 0.        , 0.        ],\n",
       "       [0.        , 0.88888889, 0.        , 0.        ],\n",
       "       [0.        , 0.        , 0.88888889, 0.        ],\n",
       "       [0.        , 0.        , 0.        , 0.11111111]])"
      ]
     },
     "execution_count": 11,
     "metadata": {},
     "output_type": "execute_result"
    }
   ],
   "source": [
    "CNmuMatrix(Identitytest)\n",
    "#should this be the identity?"
   ]
  },
  {
   "cell_type": "code",
   "execution_count": 12,
   "metadata": {},
   "outputs": [],
   "source": [
    "TestC=CNmuMatrix((Identitytest))"
   ]
  },
  {
   "cell_type": "code",
   "execution_count": 13,
   "metadata": {},
   "outputs": [],
   "source": [
    "def fTestFunction(x):\n",
    "    fTestFunctionReturn =  x**4 #np.cos(x**2) #x**4  #np.log(x**2) \n",
    "    return fTestFunctionReturn\n",
    "def gTestFunction(x):\n",
    "    gTestFunctionReturn = x**2\n",
    "    return gTestFunctionReturn"
   ]
  },
  {
   "cell_type": "code",
   "execution_count": 14,
   "metadata": {},
   "outputs": [],
   "source": [
    "# the f and g test functions used here are polynomials of degree 4 and 2 so we use a higher resolution: 5.\n",
    "Identitytest = np.ones(5) \n",
    "TestC=CNmuMatrix((Identitytest))"
   ]
  },
  {
   "cell_type": "code",
   "execution_count": 15,
   "metadata": {},
   "outputs": [],
   "source": [
    "import scipy.integrate as integrate\n",
    "#from scipy.integrate import quad"
   ]
  },
  {
   "cell_type": "code",
   "execution_count": 16,
   "metadata": {},
   "outputs": [
    {
     "data": {
      "text/plain": [
       "(0.2857142857142857, 3.172065784643304e-15)"
      ]
     },
     "execution_count": 16,
     "metadata": {},
     "output_type": "execute_result"
    }
   ],
   "source": [
    "Integral_Value, Integration_Error_scipy = integrate.quad(lambda x: fTestFunction(x)*gTestFunction(x), -1, 1)\n",
    "Integral_Value, Integration_Error_scipy"
   ]
  },
  {
   "cell_type": "code",
   "execution_count": 17,
   "metadata": {},
   "outputs": [],
   "source": [
    "def fTestFunctionCollocationPoints(n):\n",
    "    \"\"\" \n",
    "    Gives the fTestFunction evaluated at the x[i] collocation point of a Lobatto grid of size n\n",
    "    \"\"\"\n",
    "    N = n-1\n",
    "    n_grid = np.arange(0, n)\n",
    "    x_grid = CL_grid(N)\n",
    "    fTestFunctionAtx= fTestFunction(x_grid) \n",
    "    return fTestFunctionAtx  \n",
    "def gTestFunctionCollocationPoints(n):\n",
    "    \"\"\" \n",
    "    Gives the gTestFunction evaluated at the x[i] collocation point of a Lobatto grid of size n\n",
    "    \"\"\"\n",
    "    N = n-1\n",
    "    n_grid = np.arange(0, n)\n",
    "    x_grid = CL_grid(N)\n",
    "    gTestFunctionAtx= gTestFunction(x_grid) \n",
    "    return gTestFunctionAtx "
   ]
  },
  {
   "cell_type": "code",
   "execution_count": 18,
   "metadata": {},
   "outputs": [
    {
     "data": {
      "text/plain": [
       "0.2666666666666667"
      ]
     },
     "execution_count": 18,
     "metadata": {},
     "output_type": "execute_result"
    }
   ],
   "source": [
    "Cg=np.dot(TestC,gTestFunctionCollocationPoints(len(Identitytest)))\n",
    "fCg=np.dot(fTestFunctionCollocationPoints(len(Identitytest)).transpose(),Cg)\n",
    "fCg"
   ]
  },
  {
   "cell_type": "code",
   "execution_count": 19,
   "metadata": {},
   "outputs": [
    {
     "data": {
      "text/plain": [
       "0.01904761904761898"
      ]
     },
     "execution_count": 19,
     "metadata": {},
     "output_type": "execute_result"
    }
   ],
   "source": [
    "Relative_error= abs(Integral_Value-fCg)\n",
    "Relative_error"
   ]
  },
  {
   "cell_type": "markdown",
   "metadata": {},
   "source": [
    "## Interpolant matrix"
   ]
  },
  {
   "cell_type": "code",
   "execution_count": 20,
   "metadata": {},
   "outputs": [],
   "source": [
    "#def InterpolationMatrixI(Nbar,N):\n",
    "def InterpolationMatrixI(nbar,n):\n",
    "    \"\"\" \n",
    "    Gives the interpolation matrix for the transition between \n",
    "    the interpolant vectors f_Nbar and the f_N with resolutions Nbar and N respectively\n",
    "    (following equation C18 in Jaramillo-PanossoMacedo-Al-Sheikh paper)\n",
    "    \"\"\"\n",
    "    ####\n",
    "    Nbar = nbar -1\n",
    "    #nbar = Nbar + 1\n",
    "    nbar_grid = np.arange(0, nbar)\n",
    "    xbar_grid = CL_grid(Nbar)\n",
    "    #####\n",
    "    N = n-1\n",
    "    #n = N + 1\n",
    "    n_grid = np.arange(0, n)\n",
    "    x_grid = CL_grid(N)\n",
    "    #####\n",
    "    alpha = np.ones(n)\n",
    "    alpha[0]=2\n",
    "    alpha[N]=2\n",
    "    IndexSummation_grid = np.arange(1, n)\n",
    "    #####\n",
    "    Interpolant_Matrix=np.zeros((nbar,n))\n",
    "    for ibar in nbar_grid :\n",
    "        for i in n_grid :\n",
    "            ExpressionListToBeSummed = [(2-Kdelta(j,N))*Chebyshev(j,xbar_grid[ibar])*Chebyshev(j,x_grid[i]) for j in IndexSummation_grid ]\n",
    "            Interpolant_Matrix[ibar,i] = (1/(N*alpha[i]))*(1+sum(ExpressionListToBeSummed))\n",
    "    return Interpolant_Matrix          \n"
   ]
  },
  {
   "cell_type": "code",
   "execution_count": 21,
   "metadata": {},
   "outputs": [
    {
     "data": {
      "text/plain": [
       "array([[ 1.00000000e+00,  5.55111512e-17,  0.00000000e+00],\n",
       "       [ 2.77555756e-17,  1.00000000e+00, -5.55111512e-17],\n",
       "       [ 0.00000000e+00, -1.11022302e-16,  1.00000000e+00]])"
      ]
     },
     "execution_count": 21,
     "metadata": {},
     "output_type": "execute_result"
    }
   ],
   "source": [
    "### Sanity check \n",
    "InterpolationMatrixI(3,3)\n",
    "#This should be the identity"
   ]
  },
  {
   "cell_type": "code",
   "execution_count": 22,
   "metadata": {},
   "outputs": [
    {
     "data": {
      "text/plain": [
       "(5, 4)"
      ]
     },
     "execution_count": 22,
     "metadata": {},
     "output_type": "execute_result"
    }
   ],
   "source": [
    "np.shape(InterpolationMatrixI(5,4))"
   ]
  },
  {
   "cell_type": "code",
   "execution_count": 23,
   "metadata": {},
   "outputs": [],
   "source": [
    "def Matrix_Interpolated(M) :\n",
    "    \"\"\" \n",
    "    Reads a matrix M with associated resolution n_high and returns\n",
    "    the interpolated matrix   I^t M I with resolution n_low = n_high/2\n",
    "    (following equation C21 in Jaramillo-PanossoMacedo-Al-Sheikh paper)\n",
    "    \"\"\"\n",
    "    n_high=len(M)\n",
    "    n_low = int(n_high/2)\n",
    "    I = InterpolationMatrixI(n_high,n_low)\n",
    "    It = InterpolationMatrixI(n_high,n_low).transpose()\n",
    "    temp=np.dot(M,I)\n",
    "    M_interpolated = np.dot(It,temp)\n",
    "              \n",
    "    return M_interpolated"
   ]
  },
  {
   "cell_type": "markdown",
   "metadata": {},
   "source": [
    "### Sanity Check ?"
   ]
  },
  {
   "cell_type": "code",
   "execution_count": 24,
   "metadata": {},
   "outputs": [],
   "source": [
    "Identitytest_high = np.ones(2*len(Identitytest)) \n",
    "TestC_high=CNmuMatrix((Identitytest_high))\n",
    "InterpolatedTestC=Matrix_Interpolated(TestC_high)"
   ]
  },
  {
   "cell_type": "code",
   "execution_count": 25,
   "metadata": {},
   "outputs": [
    {
     "data": {
      "text/plain": [
       "(5, 5)"
      ]
     },
     "execution_count": 25,
     "metadata": {},
     "output_type": "execute_result"
    }
   ],
   "source": [
    "np.shape(InterpolatedTestC)"
   ]
  },
  {
   "cell_type": "code",
   "execution_count": 26,
   "metadata": {},
   "outputs": [
    {
     "data": {
      "text/plain": [
       "0.2857142857142857"
      ]
     },
     "execution_count": 26,
     "metadata": {},
     "output_type": "execute_result"
    }
   ],
   "source": [
    "Cg_better=np.dot(InterpolatedTestC,gTestFunctionCollocationPoints(len(Identitytest)))\n",
    "fCg_better=np.dot(fTestFunctionCollocationPoints(len(Identitytest)).transpose(),Cg_better)\n",
    "fCg_better"
   ]
  },
  {
   "cell_type": "code",
   "execution_count": 27,
   "metadata": {},
   "outputs": [
    {
     "data": {
      "text/plain": [
       "0.0"
      ]
     },
     "execution_count": 27,
     "metadata": {},
     "output_type": "execute_result"
    }
   ],
   "source": [
    "Relative_error_better= abs(Integral_Value-fCg_better)\n",
    "Relative_error_better"
   ]
  },
  {
   "cell_type": "code",
   "execution_count": 28,
   "metadata": {},
   "outputs": [],
   "source": [
    "#def w_collocation_points(w,n):\n",
    "#    \"\"\" \n",
    "#    Gives the w-function evaluated at the x[i] collocation point of a Lobatto grid of size n\n",
    "#    \"\"\"\n",
    "#    N = n-1\n",
    "#    n_grid = np.arange(0, n)\n",
    "#    x_grid = CL_grid(N)\n",
    "#    wFunctionAtx= w(x_grid) \n",
    "#    return wFunctionAtx  \n",
    "\n",
    "def GramMatrix_abc(w):\n",
    "    # For the abc operator the Gram Matrix is simple\n",
    "    # This needs to be changed for a more complicated case such as poschl-teller\n",
    "    GramMatrix=Matrix_Interpolated(CNmuMatrix(w))\n",
    "    return GramMatrix\n",
    "\n",
    "def ConjugateTranspose(A):\n",
    "    return A.conj().T\n",
    "\n",
    "def Dagger(Gram_Matrix,M):\n",
    "    temp=np.dot(ConjugateTranspose(M),Gram_Matrix)\n",
    "    return np.dot(np.linalg.inv(Gram_Matrix),temp)\n",
    "\n",
    "def EigenValues_gram(M,Gram_Matrix):\n",
    "    M_dagger = Dagger(Gram_Matrix,M)\n",
    "    MdaggerM = np.dot(M_dagger,M)\n",
    "    eigenvalues_MdaggerM = LA.eigvals(MdaggerM)\n",
    "    return eigenvalues_MdaggerM \n"
   ]
  },
  {
   "cell_type": "code",
   "execution_count": 29,
   "metadata": {},
   "outputs": [],
   "source": [
    "#np.shape(M_test)"
   ]
  },
  {
   "cell_type": "code",
   "execution_count": 30,
   "metadata": {},
   "outputs": [
    {
     "data": {
      "text/plain": [
       "0.15224805562108043"
      ]
     },
     "execution_count": 30,
     "metadata": {},
     "output_type": "execute_result"
    }
   ],
   "source": [
    "#small test\n",
    "n_testing_high=10\n",
    "n_testing_low=np.int(n_testing_high/2)\n",
    "Identity_testing = np.ones(n_testing_high)\n",
    "Gram_Matrix_test=GramMatrix_abc(Identity_testing)\n",
    "M_test=Diagonal_Random_Matrix(n_testing_low)\n",
    "np.min(np.sqrt(np.abs(EigenValues_gram(M_test,Gram_Matrix_test))))"
   ]
  },
  {
   "cell_type": "code",
   "execution_count": 31,
   "metadata": {},
   "outputs": [],
   "source": [
    "def Pseudospectrum_gram_norm(L,B,xmin,xmax,ymin,ymax,Nxgrid,Nygrid,heights,fl,Gram_Matrix) :\n",
    "    \"\"\"\n",
    "    Implement Pseudo-Spectrum of a matrix L\n",
    "    \"\"\"\n",
    "    from scipy import linalg as LA\n",
    "    \n",
    "    ### 1. Preparation of tools \n",
    "    sizeL = np.shape(L)\n",
    "    if  np.shape(L)[0]!= np.shape(L)[1]:\n",
    "        print(\"Non-square Matrix!!! \")\n",
    "    else : \n",
    "        n = np.shape(L)[0]\n",
    "    N = n/2 - 1\n",
    "    \n",
    "    #SizeGram =np.shape(Gram_Matrix)\n",
    "    #if SizeGram != sizeL\n",
    "    #    print (\"Size of Gram Matrix should coincide with Size of L\")\n",
    "    #else:\n",
    "   \n",
    "    ### 2. Calculation of the Spectrum (eigenvalues)\n",
    "    #eigenvalues_L, eigenvectors_L = LA.eig(L,B)\n",
    "    eigenvalues_L = LA.eigvals(L,B)\n",
    "\n",
    "\n",
    "    eigenvalues_L_Re = eigenvalues_L.real\n",
    "    eigenvalues_L_Im = eigenvalues_L.imag\n",
    "\n",
    "    \n",
    "    ### 3. Evaluation of the Pseudospectrum\n",
    "    \n",
    "    ### 3.1 Grid for Pseudospectrum calculation\n",
    "    [X,Y] = np.mgrid[xmin:xmax:Nxgrid*1j,ymin:ymax:Nygrid*1j]\n",
    "\n",
    "    Z = X + 1j*Y\n",
    "\n",
    "    ### 3.2 Construction of the \"height function\" given by the min of the SVP\n",
    "    Id =  np.eye(n)\n",
    "    Sigma_min = np.zeros((Nxgrid,Nygrid))\n",
    "    \n",
    "\n",
    "    for i in np.arange(0, Nxgrid):\n",
    "        for j in np.arange(0, Nygrid):\n",
    "            L_shift = L - Z[i,j]*B*Id            \n",
    "            Sigma_min[i,j] = np.min(np.sqrt(np.abs(EigenValues_gram(L_shift,Gram_Matrix)))) \n",
    "            #min(np.linalg.svd(L_shift, full_matrices=True)[1]) \n",
    "\n",
    "    \n",
    "    ### 3.3 Graphical output\n",
    "    fig = plt.figure()\n",
    "    ax = fig.add_subplot(111)\n",
    "    ax.plot(eigenvalues_L_Re, eigenvalues_L_Im, '+', markersize=1)\n",
    "     \n",
    "    if fl == \"f\" :\n",
    "        CS = ax.contourf(X,Y,Sigma_min,heights,locator=ticker.LogLocator(),linewidth=0.5)\n",
    "    elif fl == \"c\" : \n",
    "        CS = ax.contour(X,Y,Sigma_min,heights,locator=ticker.LogLocator(),linewidth=0.5)\n",
    "    else :\n",
    "        print(\"\\n Pseudospectrum output: \\n No 'contour/filled' version could be identified.\\n Filled version is assumed.\\n\")\n",
    "        CS = ax.contourf(X,Y,Sigma_min,heights,locator=ticker.LogLocator(),linewidth=0.5)\n",
    "\n",
    "    CB = fig.colorbar(CS)\n",
    "    ax.set_xlabel(r'$\\mathrm{Re}(\\omega_n)$')\n",
    "    ax.set_ylabel(r'$\\mathrm{Im}(\\omega_n)$')    \n",
    "    f = mticker.ScalarFormatter(useOffset=False, useMathText=True)\n",
    "    g = lambda x,pos : \"${}$\".format(f._formatSciNotation('%10e' % x))\n",
    "    ax.xaxis.set_major_formatter(mticker.FuncFormatter(g))\n",
    "    ax.yaxis.set_major_formatter(mticker.FuncFormatter(g))\n",
    "    \n",
    "    fig.suptitle(r'Spectrum and Pseudospectrum of $L$ using Gram_Matrix' )\n",
    "    ax.axis('scaled')\n",
    "    #ax.axis('equal','datalim')\n",
    "    ax.axis([xmin,xmax,ymin,ymax])\n",
    "    ax.grid()   \n",
    "    #ax.set_xlim(xmin,xmax)\n",
    "    #ax.set_ylim(ymin,ymax)\n",
    "\n",
    "    fig.show()\n",
    "    print(\"\\n N =\\n\",N)\n",
    "    "
   ]
  },
  {
   "cell_type": "markdown",
   "metadata": {},
   "source": [
    "#### First test for Pseudospectrum_gram_norm using the weight function = identity."
   ]
  },
  {
   "cell_type": "code",
   "execution_count": 32,
   "metadata": {},
   "outputs": [],
   "source": [
    "N = 20\n",
    "n=N+1\n",
    "# Spectral Differentiation, identity and Zero matrices\n",
    "xt = [D1_CL(N)[0]]\n",
    "x = np.transpose(xt)\n",
    "D1 = D1_CL(N)[1]\n",
    "D2 = D2_CL(N)[1]\n",
    "Id = np.eye(N+1)\n",
    "Id_total = np.eye(2*(N+1))\n",
    "Zero = np.zeros((N+1,N+1))"
   ]
  },
  {
   "cell_type": "code",
   "execution_count": 33,
   "metadata": {},
   "outputs": [],
   "source": [
    "a, b, c = 1.0, 6.0, 1.0\n",
    "L = a*(1-x**2)*D2 + (-4*a*x + b*(1-x**2))*D1 + (-2*a-2*b*x+c*(1-x**2))*Id \n",
    "# L = a*D2 +  b*D1 + c*Id \n",
    "Ladj = a*(1-x**2)*D2 + (-4*a*x* - b*(1-x**2))*D1 + (-2*a+2*b*x+c*(1-x**2))*Id\n",
    "# Ladj = a*D2 -  b*D1 + c*Id \n",
    "B = (1-x**2)*Id\n",
    "#B = Id"
   ]
  },
  {
   "cell_type": "code",
   "execution_count": 34,
   "metadata": {},
   "outputs": [],
   "source": [
    "w_Identity= np.ones(2*n)\n",
    "Gram_Matrix_Id=GramMatrix_abc(w_Identity)"
   ]
  },
  {
   "cell_type": "code",
   "execution_count": 35,
   "metadata": {},
   "outputs": [
    {
     "name": "stderr",
     "output_type": "stream",
     "text": [
      "/home/gasperin/anaconda3/envs/rel/lib/python3.6/site-packages/ipykernel_launcher.py:54: UserWarning: The following kwargs were not used by contour: 'linewidth'\n",
      "/home/gasperin/anaconda3/envs/rel/lib/python3.6/site-packages/ipykernel_launcher.py:77: UserWarning: Matplotlib is currently using module://ipykernel.pylab.backend_inline, which is a non-GUI backend, so cannot show the figure.\n"
     ]
    },
    {
     "name": "stdout",
     "output_type": "stream",
     "text": [
      "\n",
      " N =\n",
      " 9.5\n"
     ]
    },
    {
     "data": {
      "image/png": "[encoded data removed]",
      "text/plain": [
       "<Figure size 432x288 with 2 Axes>"
      ]
     },
     "metadata": {
      "needs_background": "light"
     },
     "output_type": "display_data"
    }
   ],
   "source": [
    "Pseudospectrum_gram_norm(L,B,xmin,xmax,ymin,ymax,Nxgrid,Nygrid,heights,fl,Gram_Matrix_Id)"
   ]
  },
  {
   "cell_type": "markdown",
   "metadata": {},
   "source": [
    "### Sturm-Liouville rescaled abc"
   ]
  },
  {
   "cell_type": "markdown",
   "metadata": {},
   "source": [
    "Given an operator \n",
    "$$L = a(x)\\frac{d^2}{dx^2} + b(x)\\frac{d}{dx} + c(x)$$\n",
    "\n",
    "Notice that the coefficients are not necessarily constant. The Sturm-Liouville integrating factor \n",
    "$w(x)$ is given by\n",
    "\n",
    "$$ w(x)= \\frac{1}{a} exp \\int \\frac{b}{a} dx$$"
   ]
  },
  {
   "cell_type": "markdown",
   "metadata": {},
   "source": [
    "For our particular case with\n",
    "$$a(x) = a_0 (1 - x^2) , \\qquad b(x) = - 4 a_0 x + b_0(1-b_0 x^2) , \\qquad c(x) = (-2a_0-2b_0x+c_0(1-x^2)) $$\n",
    "we have that\n",
    "\n",
    "$$ w(x) = \\frac{b_0 x + 2 a_0 ln(-1 + x^2)}{{a_0}^2 (1 - x^2)} $$\n"
   ]
  },
  {
   "cell_type": "markdown",
   "metadata": {},
   "source": [
    "This is a problem for a Lobatto grid and all the formulas we have used for the Gram_Matrix are specialised for that case..."
   ]
  },
  {
   "cell_type": "code",
   "execution_count": 36,
   "metadata": {},
   "outputs": [],
   "source": [
    "#def wFunction(x,a,b,c):\n",
    "#    wFunctionReturn = (b*x + 2*a*np.log(-1 + x**2)) /(a**2*(1 - x**2))\n",
    "#    return wFunctionReturn\n",
    "#\n",
    "#def wFunctionCollocationPoints(n,a,b,c):\n",
    "#    \"\"\" \n",
    "#    Gives the wFunction evaluated at the x[i] collocation point of a Lobatto grid of size n\n",
    "#    \"\"\"\n",
    "#    N = n-1\n",
    "#    n_grid = np.arange(0, n)\n",
    "#    D1_CG(N)[0]\n",
    "#    x_grid = D1_CG(N)[0] #CL_grid(N)\n",
    "#    wFunctionAtx =  wFunction(x_grid,a,b,c) #(b*x_grid + 2*a*np.log(-1 + x_grid**2)) /(a**2*(1 - x_grid**2)) \n",
    "#    return wFunctionAtx"
   ]
  },
  {
   "cell_type": "code",
   "execution_count": 40,
   "metadata": {},
   "outputs": [],
   "source": [
    "#n_first_test = 5\n",
    "#w_first_test=wFunctionCollocationPoints(n_first_test,1.0,2.0,1.0)"
   ]
  },
  {
   "cell_type": "code",
   "execution_count": 41,
   "metadata": {},
   "outputs": [],
   "source": [
    "#w_first_test"
   ]
  },
  {
   "cell_type": "code",
   "execution_count": 42,
   "metadata": {},
   "outputs": [],
   "source": [
    "#np.log(D1_CG(N)[0])"
   ]
  },
  {
   "cell_type": "markdown",
   "metadata": {},
   "source": [
    "##### going back to simpler case?"
   ]
  },
  {
   "cell_type": "code",
   "execution_count": 62,
   "metadata": {},
   "outputs": [],
   "source": [
    "#N = 100\n",
    "N=100\n",
    "n=N+1\n",
    "# Spectral Differentiation, identity and Zero matrices\n",
    "xt = [D1_CL(N)[0]]\n",
    "x = np.transpose(xt)\n",
    "D1 = D1_CL(N)[1]\n",
    "D2 = D2_CL(N)[1]\n",
    "Id = np.eye(N+1)\n",
    "Id_total = np.eye(2*(N+1))\n",
    "Zero = np.zeros((N+1,N+1))"
   ]
  },
  {
   "cell_type": "code",
   "execution_count": 65,
   "metadata": {},
   "outputs": [
    {
     "data": {
      "text/plain": [
       "[<matplotlib.lines.Line2D at 0x7f626d671a20>]"
      ]
     },
     "execution_count": 65,
     "metadata": {},
     "output_type": "execute_result"
    },
    {
     "data": {
      "image/png": "[encoded data removed]",
      "text/plain": [
       "<Figure size 432x288 with 1 Axes>"
      ]
     },
     "metadata": {
      "needs_background": "light"
     },
     "output_type": "display_data"
    }
   ],
   "source": [
    "a, b, c = 1.0, 1.0, 1.0\n",
    "L = a*D2 +  b*D1 + c*Id \n",
    "Ladj = a*D2 -  b*D1 + c*Id \n",
    "B = Id\n",
    "S=SpectrumAlt(L,B);\n",
    "plt.plot(S.real, S.imag,'ro')"
   ]
  },
  {
   "cell_type": "code",
   "execution_count": null,
   "metadata": {},
   "outputs": [],
   "source": []
  }
 ],
 "metadata": {
  "kernelspec": {
   "display_name": "Python 3",
   "language": "python",
   "name": "python3"
  },
  "language_info": {
   "codemirror_mode": {
    "name": "ipython",
    "version": 3
   },
   "file_extension": ".py",
   "mimetype": "text/x-python",
   "name": "python",
   "nbconvert_exporter": "python",
   "pygments_lexer": "ipython3",
   "version": "3.6.12"
  }
 },
 "nbformat": 4,
 "nbformat_minor": 4
}
