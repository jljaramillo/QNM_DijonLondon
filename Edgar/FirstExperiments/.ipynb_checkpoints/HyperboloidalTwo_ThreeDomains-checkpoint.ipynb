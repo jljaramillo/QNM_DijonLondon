{
 "cells": [
  {
   "cell_type": "markdown",
   "metadata": {},
   "source": [
    "# Tests. Spectrum/QNMs calculations. Hyperboloidal two and three domains"
   ]
  },
  {
   "cell_type": "code",
   "execution_count": 2,
   "metadata": {},
   "outputs": [
    {
     "name": "stdout",
     "output_type": "stream",
     "text": [
      "importing Jupyter notebook from SpectrumCalculator.ipynb\n"
     ]
    }
   ],
   "source": [
    "## Importation of basic rotutine\n",
    "import numpy as np\n",
    "import matplotlib.pyplot as plt\n",
    "import matplotlib.ticker as mticker\n",
    "from matplotlib import ticker, cm\n",
    "from scipy import linalg as LA\n",
    "from math import sin, cos, tanh, cosh, pi, log\n",
    "import cmath\n",
    "import import_ipynb\n",
    "\n",
    "## Importation of Spectral tools\n",
    "from SpectrumCalculator import *"
   ]
  },
  {
   "cell_type": "markdown",
   "metadata": {},
   "source": [
    "### We start by recovering the correct spectrum in the hyperboloidal setup with one domain just to have a future comparison"
   ]
  },
  {
   "cell_type": "code",
   "execution_count": 3,
   "metadata": {},
   "outputs": [
    {
     "data": {
      "image/png": "[encoded data removed]",
      "text/plain": [
       "<Figure size 432x288 with 1 Axes>"
      ]
     },
     "metadata": {
      "needs_background": "light"
     },
     "output_type": "display_data"
    }
   ],
   "source": [
    "# We start just recovering the right spectrum in the hyperboloidal setup just to have a future comparison\n",
    "N = 16\n",
    "n=N+1\n",
    "# Spectral Differentiation, identity and Zero matrices\n",
    "xt = [D1_CG(N)[0]]\n",
    "x = np.transpose(xt)\n",
    "D1 = D1_CG(N)[1]\n",
    "D2 = D2_CG(N)[1]\n",
    "Id = np.eye(N+1)\n",
    "Id_total = np.eye(2*(N+1))\n",
    "Zero = np.zeros((N+1,N+1))\n",
    "\n",
    "# Elementary Operators Version 2\n",
    "alpha, beta, gamma = 0., 0., 1.\n",
    "#print(\"alpha =\", alpha, \", beta =\", beta, \", gamma =\", gamma)\n",
    "V = alpha + beta*x + gamma*(1-x**2) \n",
    "L1 = (1-x**2)*((1-x**2)*D2 - 2*x*D1) - V*Id \n",
    "L2 = (1-x**2)*(-2*x*D1 - Id)\n",
    "#EG: why don't we divide all by (1-x**2) for posch-teller. # EG: Understood now\n",
    "Bu = np.concatenate((Id,Zero), axis=1)\n",
    "Bd = np.concatenate((Zero,(1-x**2)*Id), axis=1)\n",
    "B = np.concatenate((Bu,Bd), axis=0)\n",
    "# EG: why is B chosen like this # EG: Understood now\n",
    "\n",
    "\n",
    "Lu = np.concatenate((Zero,Id), axis=1)\n",
    "Ld = np.concatenate((L1,L2), axis=1)\n",
    "L = np.concatenate((Lu,Ld), axis=0)\n",
    "    \n",
    "     \n",
    "#L = -1j*L\n",
    "\n",
    "S=SpectrumAlt(L,1j*B);\n",
    "plt.plot(S.real, S.imag,'ro')\n",
    "correct_answer=np.copy(S)"
   ]
  },
  {
   "cell_type": "markdown",
   "metadata": {},
   "source": [
    "# Two domains hyperboloidal setup"
   ]
  },
  {
   "cell_type": "markdown",
   "metadata": {},
   "source": [
    "In the hyperboloidal setup the coordinates are related as follows\n",
    "\n",
    "\\begin{align}\n",
    "\\tau & = t -\\ln \\cosh x\\\\\n",
    "y & = \\tanh x\n",
    "\\end{align}\n",
    "\n",
    "Hence the chain rule gives,\n",
    "\n",
    "\\begin{align}\n",
    "\\partial_t & = \\partial_\\tau\\\\\n",
    "\\partial_x & = -y \\partial_\\tau + (1-y^2)\\partial_y\n",
    "\\end{align}\n",
    "\n",
    "We introduce then two regions, left and right, with corresponding coordinates $(\\tau,y_l)$ and $(\\tau,y_r)$\n",
    "with ranges, $\\tau \\in [0,\\infty)$  and \\begin{align} y_r &\\in [0,1) \\quad \\text{and} \\quad \\\\ y_l &\\in (-1,0]\n",
    "\\end{align} Repeating the Posch-Teller calculation \n",
    " of Jaramillo, Panosso-Macedo and Al-Sheikh, we get the following eigenvalue problem \n",
    "                                                                   \n",
    "          \n",
    "                                                                   \n",
    "\\begin{align}                                                     \n",
    "\\begin{pmatrix}\n",
    " 0 & 1 & 0 & 0 \\\\\n",
    "{L_1}^r & {L_2}^r & 0 & 0\\\\\n",
    " 0 & 0 & 0 & 1 \\\\\n",
    "0 & 0 & {L_1}^l & {L_2}^l \\\\                                                                   \n",
    "\\end{pmatrix}                                                                 \n",
    "\\begin{pmatrix}\n",
    "\\phi^r\\\\\n",
    "\\psi^r\\\\\n",
    "\\phi^l\\\\\n",
    "\\psi^l                                                                         \n",
    "\\end{pmatrix}                                                      \n",
    " =  i \\omega                                                      \n",
    " \\begin{pmatrix}\n",
    " 1 & 0 & 0 & 0\\\\\n",
    "0 & (1-{y_r}^2) & 0 & 0 \\\\\n",
    " 0 & 0 & 1 & 0 \\\\\n",
    "0& 0& 0 & (1-{y_l}^2) \\\\                                                                   \n",
    "\\end{pmatrix}                                                     \n",
    " \\begin{pmatrix}\n",
    "\\phi^r\\\\\n",
    "\\psi^r\\\\\n",
    "\\phi^l\\\\\n",
    "\\psi^l                                                                         \n",
    "\\end{pmatrix}                                          \n",
    "\\end{align}\n",
    "\n",
    "Where $L_1 = (1-y^2)((1-y^2)\\partial_y^2 - 2y\\partial_y) - V $ and $L_2 = (1-y^2)(-2y\\partial_y - 1)$  In this form, posh-teller corresponds to $V = \\gamma(1-y^2) $\n",
    "\n",
    "Additionally, we need to impose the continuity/matching conditions at the border $x=0$ of the two regions.\n",
    "Namely, we need to impose\n",
    "\n",
    "\\begin{align}\n",
    "\\hat{\\phi}^r(x=0) &= \\hat{\\phi}^l(x=0) \\\\ \n",
    "\\partial_x\\hat{\\phi}^r(x=0) &= \\partial_x\\hat{\\phi}^l(x=0)  \n",
    "\\end{align}\n",
    "\n",
    "\n",
    "Thus the second condition transforms into\n",
    "\n",
    "\\begin{align}\n",
    "-y_r\\partial_\\tau\\hat{\\phi}^r + (1-{y_r}^2)\\partial_{y_r}\\hat{\\phi}^r\n",
    "= -y_l\\partial_\\tau\\hat{\\phi}^r + (1-{y_l}^2)\\partial_{y_l}\\hat{\\phi}^l \\quad \\text{at} \\quad x = 0\n",
    "\\end{align}\n",
    "\n",
    "Taking the fourier transform the latter leads to the following matching conditions\n",
    "\n",
    "\\begin{align}\n",
    "\\phi^r -\\phi^l &= 0 \\quad \\text{at} \\quad x = 0 \\\\\n",
    "(1-{y_r}^2)\\partial_{y_r}\\phi^r-(1-{y_l}^2)\\partial_{y_l}\\phi^l\n",
    " & = i\\omega (y_r\\phi^r - y_l\\phi^l) \\quad \\text{at} \\quad x = 0\n",
    "\\end{align}\n",
    "\n",
    "                                                                                                         \n",
    "Recall that for Right Radau $(x_N,...,x_0]$ and for Left Radau $[x_0,...x_N)$\n",
    "                                                                 \n",
    "Namely, if we use Right-Left Chebyshev Radau we need to impose.   \n",
    "\\begin{align}\n",
    "\\phi^r{}_0 -\\phi^l{}_0 & = 0\\\\ \n",
    "((1-{y_r}^2)\\partial_{y_r}\\phi^r{})_0-((1-{y_l}^2)\\partial_{y_l}\\phi^l{})_0\n",
    "&= i\\omega ((y_r\\phi^r){}_0 - (y_l\\phi^l){}_0) \n",
    "\\end{align}\n",
    "    "
   ]
  },
  {
   "cell_type": "markdown",
   "metadata": {},
   "source": [
    "## General linear transformation\n",
    "\n",
    "Consider a linear tranformation to transform the interval $x \\in[-1,1]$ to $ z \\in [c,d]$. \n",
    "\n",
    "Taking    \n",
    "\\begin{equation}\n",
    "z = \\frac{c+d}{2} + \\bigg(\\frac{d-c}{2}\\bigg)x\n",
    "\\end{equation}\n",
    "we map $\\; \\;$ $x \\in [-1,1]$ $\\;\\;$ to $\\; \\;$ $z \\in [c,d]$.\n",
    "\n",
    "The inverse map is given by\n",
    "\\begin{equation}\n",
    "x = \\frac{c+d}{c-d} - \\bigg(\\frac{2}{c-d}\\bigg)z\n",
    "\\end{equation}\n",
    "Similarly the derivatives are related via.\n",
    "\\begin{equation}\n",
    "D_z  = \\frac{dx}{dz} D_x  \\;\\; \\text{namely} \\;\\; D_z  =  \\bigg(\\frac{2}{d-c}\\bigg) D_x \n",
    "\\end{equation}\n",
    "Similarly,\n",
    "\\begin{equation}\n",
    "D_x  = \\frac{dz}{dx} D_z  \\;\\; \\text{namely} \\;\\; D_x  =  \\bigg(\\frac{d-c}{2}\\bigg) D_z \n",
    "\\end{equation}\n"
   ]
  },
  {
   "cell_type": "markdown",
   "metadata": {},
   "source": [
    "#### Details of the Left Right Radau grids\n",
    "\n",
    "Recall that the Left Radau Grid is defined in such a way that $x^{LeftRadau}_0=-1$ and $x^{LeftRadau}_N<1$\n",
    "and Right Radau Grid is defined in such a way that $x^{RightRadau}_0=1$ and $x^{RightRadau}_N>-1$\n",
    "\n",
    "**Right region** : we need to cover $y_r\\in [0,1)$ with a Left Radau Grid $x_{Left Radau}\\in[-1,1)$. Thus we need to take\n",
    "use the (general) linear transformation formulae with $z=y_r$, and  $x=x_{LeftRadau}$ with $c=0, d=1$\n",
    "\n",
    "**Left region**: we need to cover $y_l\\in (-1,0]$ with a Right Radau grid $x_{Right Radau}\\in(-1,1]$. Thus we need to take\n",
    "use the (general) linear transformation formulae with $z=y_l$ and $x=x_{RightRadau}$ with $c=-1$ and $d=0$        \n",
    "        "
   ]
  },
  {
   "cell_type": "code",
   "execution_count": 4,
   "metadata": {},
   "outputs": [],
   "source": [
    "N = 8\n",
    "n=N+1\n",
    "# Spectral Differentiation, identity and Zero matrices\n",
    "####\n",
    "xt_right_radau =  [D1_RCR(N)[0]]\n",
    "x_right_radau = np.transpose(xt_right_radau)\n",
    "D1_right_radau =  D1_RCR(N)[1]\n",
    "D2_right_radau =  D2_RCR(N)[1]\n",
    "###\n",
    "xt_left_radau =  [D1_LCR(N)[0]]\n",
    "x_left_radau = np.transpose(xt_left_radau)\n",
    "D1_left_radau =  D1_LCR(N)[1]\n",
    "D2_left_radau =  D2_LCR(N)[1]\n",
    "###\n",
    "Id = np.eye(n)\n",
    "#Id_total = np.eye(2*(N+1))\n",
    "Zero = np.zeros((n,n))\n",
    "ZeroBlock = np.zeros((2*n,2*n))\n",
    "\n",
    "########## Right Region ##########\n",
    "###### we need Left Radau ######\n",
    "# x in [-1 , 1) --> xr in  [0,1) \n",
    "\n",
    "c_r = 0 \n",
    "d_r = 1 \n",
    "xr =(c_r+d_r)/2 + ((d_r-c_r)/2)*x_left_radau\n",
    "D1_xr= (2/(d_r-c_r))*D1_left_radau\n",
    "D2_xr = ((2/(d_r-c_r))**2) * D2_left_radau\n",
    "\n",
    "########## Left Region ##########\n",
    "###### we need Right Radau #####\n",
    "# x in (-1 , 1] --> xl in  (-1,0] \n",
    "\n",
    "c_l = -1 \n",
    "d_l = 0 \n",
    "xl =(c_l+d_l)/2 + ((d_l-c_l)/2)*x_right_radau\n",
    "D1_xl= (2/(d_l-c_l))*D1_right_radau\n",
    "D2_xl = ((2/(d_l-c_l))**2) * D2_right_radau\n"
   ]
  },
  {
   "cell_type": "markdown",
   "metadata": {},
   "source": [
    "<img src=\"files/hyp_radau_eq1.jpg\" width=\"600\"> "
   ]
  },
  {
   "cell_type": "code",
   "execution_count": 5,
   "metadata": {},
   "outputs": [],
   "source": [
    "####### potential #######\n",
    "gamma = 1\n",
    "V_xr = gamma*(1-xr**2) \n",
    "V_xl = gamma*(1-xl**2) \n",
    "\n",
    "######################################################################\n",
    "#The bulding the block matrices to construct the large  4nx4n matrix L\n",
    "######################################################################\n",
    "## nxn blocks ###\n",
    "L1_xr = (1-xr**2)*((1-xr**2)*D2_xr- 2*xr*D1_xr) - V_xr*Id \n",
    "L2_xr = (1-xr**2)*(-2*xr*D1_xr - Id)\n",
    "## nxn blocks ###\n",
    "L1_xl = (1-xl**2)*((1-xl**2)*D2_xl- 2*xl*D1_xl) - V_xl*Id \n",
    "L2_xl = (1-xl**2)*(-2*xl*D1_xl - Id)\n",
    "#### upper and lower nx2n block ###\n",
    "Lu_xr = np.concatenate((Zero,Id), axis=1)\n",
    "Ld_xr = np.concatenate((L1_xr,L2_xr), axis=1)\n",
    "## 2nx2n matrix block ##\n",
    "L_xr = np.concatenate((Lu_xr,Ld_xr), axis=0)\n",
    "#### upper and lower nx2n block ###\n",
    "Lu_xl = np.concatenate((Zero,Id), axis=1)\n",
    "Ld_xl = np.concatenate((L1_xl,L2_xl), axis=1)\n",
    "## 2nx2n matrix block ##\n",
    "L_xl = np.concatenate((Lu_xl,Ld_xl), axis=0)\n",
    "###########################################\n",
    "#Asembling the large  4nx4n matrix L\n",
    "##########################################\n",
    "Lu=np.concatenate((L_xr,ZeroBlock), axis=1)\n",
    "Ld=np.concatenate((ZeroBlock,L_xl), axis=1)\n",
    "L = np.concatenate((Lu,Ld), axis=0)\n",
    "######################################################################\n",
    "#The bulding the block matrices to construct the large  4nx4n matrix B\n",
    "######################################################################\n",
    "Bu_xr = np.concatenate((Id,Zero), axis=1)\n",
    "Bd_xr = np.concatenate((Zero,(1-xr**2)*Id), axis=1)\n",
    "## 2nx2n matrix ##\n",
    "B_xr = np.concatenate((Bu_xr,Bd_xr), axis=0)\n",
    "########\n",
    "Bu_xl = np.concatenate((Id,Zero), axis=1)\n",
    "Bd_xl = np.concatenate((Zero,(1-xl**2)*Id), axis=1)\n",
    "## 2nx2n matrix ##\n",
    "B_xl = np.concatenate((Bu_xl,Bd_xl), axis=0)\n",
    "#########\n",
    "Bu=np.concatenate((B_xr,ZeroBlock), axis=1)\n",
    "Bd=np.concatenate((ZeroBlock,B_xl), axis=1)\n",
    "###########################################\n",
    "#Asembling the large  4nx4n matrix B\n",
    "##########################################\n",
    "B = np.concatenate((Bu,Bd), axis=0)\n",
    "    "
   ]
  },
  {
   "cell_type": "markdown",
   "metadata": {},
   "source": [
    "<img src=\"files/Hyp_Radau_eq2.jpg\" width=\"700\"> "
   ]
  },
  {
   "cell_type": "markdown",
   "metadata": {},
   "source": [
    "Recall that for Right Radau $(x_N,...,x_0]$ and for Left Radau $[x_0,...x_N)$\n",
    "                                                                 \n",
    "Namely, if we use Right-Left Chebyshev Radau we need to impose.   \n",
    "\\begin{align}\n",
    "\\phi^r{}_0 -\\phi^l{}_0 & = 0\\\\ \n",
    "((1-{y_r}^2)\\partial_{y_r}\\phi^r{})_0-((1-{y_l}^2)\\partial_{y_l}\\phi^l{})_0\n",
    "&= i\\omega ((y_r\\phi^r){}_0 - (y_l\\phi^l){}_0) \n",
    "\\end{align}\n",
    "    "
   ]
  },
  {
   "cell_type": "code",
   "execution_count": 6,
   "metadata": {},
   "outputs": [],
   "source": [
    "L_mod=L\n",
    "B_mod=B\n",
    "\n",
    "# modifying the 0th line\n",
    "L_mod[0]=0\n",
    "L_mod[0][0]=1\n",
    "L_mod[0][2*N+2]=-1\n",
    "# modifying the N+1 th line\n",
    "L_mod[N+1]=0\n",
    "L_mod[N+1][0:n] = (1-xr[0]**2)*D1_xr[0]\n",
    "L_mod[N+1][2*n:3*n] = -(1-xl[0]**2)*D1_xl[0]\n",
    "\n",
    "# modifying the 0th line\n",
    "B_mod[0]=0\n",
    "# modifying the N+1 th line\n",
    "B_mod[N+1]=0\n",
    "B_mod[N+1][0]= xr[0]\n",
    "B_mod[N+1][2*N+2]= -xl[0]\n"
   ]
  },
  {
   "cell_type": "code",
   "execution_count": 7,
   "metadata": {},
   "outputs": [
    {
     "data": {
      "text/plain": [
       "[<matplotlib.lines.Line2D at 0x7f49523f4590>]"
      ]
     },
     "execution_count": 7,
     "metadata": {},
     "output_type": "execute_result"
    },
    {
     "data": {
      "image/png": "[encoded data removed]",
      "text/plain": [
       "<Figure size 432x288 with 1 Axes>"
      ]
     },
     "metadata": {
      "needs_background": "light"
     },
     "output_type": "display_data"
    }
   ],
   "source": [
    "Z=SpectrumAlt(L,1j*B);\n",
    "plt.plot(Z.real, Z.imag,'b+')\n",
    "plt.xlim(-2.5,2.5)\n",
    "plt.ylim(-1,10)\n",
    "plt.plot(correct_answer.real, correct_answer.imag,'rx')"
   ]
  },
  {
   "cell_type": "code",
   "execution_count": 8,
   "metadata": {},
   "outputs": [
    {
     "data": {
      "text/plain": [
       "[<matplotlib.lines.Line2D at 0x7f4952132f90>]"
      ]
     },
     "execution_count": 8,
     "metadata": {},
     "output_type": "execute_result"
    },
    {
     "data": {
      "image/png": "[encoded data removed]",
      "text/plain": [
       "<Figure size 432x288 with 1 Axes>"
      ]
     },
     "metadata": {
      "needs_background": "light"
     },
     "output_type": "display_data"
    }
   ],
   "source": [
    "# without zoom to look at the extra spurious eigenvalues\n",
    "Z=SpectrumAlt(L,1j*B);\n",
    "plt.plot(Z.real, Z.imag,'b+')\n",
    "plt.plot(correct_answer.real, correct_answer.imag,'rx')"
   ]
  },
  {
   "cell_type": "markdown",
   "metadata": {},
   "source": [
    "## Hyperboloidal setup with three domains\n",
    "\n",
    "In the hyperboloidal setup the coordinates are related as follows\n",
    "\n",
    "\\begin{align}\n",
    "\\tau & = t -\\ln \\cosh x\\\\\n",
    "y & = \\tanh x\n",
    "\\end{align}\n",
    "\n",
    "Hence the chain rule gives,\n",
    "\n",
    "\\begin{align}\n",
    "\\partial_t & = \\partial_\\tau\\\\\n",
    "\\partial_x & = -y \\partial_\\tau + (1-y^2)\\partial_y\n",
    "\\end{align}\n",
    "\n",
    "We introduce then three regions, left, center and right, with corresponding coordinates $(\\tau,y_l)$, $(\\tau,y_c)$, $(\\tau,y_r)$\n",
    "with ranges, $\\tau \\in [0,\\infty)$  and \n",
    "\\begin{align}  \\ y_l \\in (-1,\\tanh a],  \\quad  y_c  \\in [\\tanh a, \\; \\tanh b] \\quad\n",
    "\\text{and} \\quad  y_r  \\in [\\tanh b,1) \\quad \\text{with} \\quad b>a\n",
    "\\end{align}\n",
    "Repeating the Posch-Teller calculation \n",
    " of Jaramillo, Panosso-Macedo and Al-Sheikh, we get the following eigenvalue problem \n",
    "                                                      \n",
    "\\begin{align}                                                     \n",
    "\\begin{pmatrix}\n",
    " 0 & 1 & 0 & 0 & 0 & 0 \\\\\n",
    "{L_1}^r & {L_2}^r & 0 & 0 & 0 & 0\\\\\n",
    " 0 & 0 & 0 & 1 & 0 & 0\\\\\n",
    "0 & 0 & {L_1}^c & {L_2}^c & 0 & 0 \\\\        \n",
    "0 & 0 & 0 & 0 & 0 & 1\\\\\n",
    " 0 & 0 & 0 & 0 & {L_1}^l & {L_2}^l \\\\                                  \n",
    "\\end{pmatrix}                                                                 \n",
    "\\begin{pmatrix}\n",
    "\\phi^r\\\\\n",
    "\\psi^r\\\\\n",
    "\\phi^c\\\\\n",
    "\\psi^c\\\\\n",
    "\\phi^l\\\\\n",
    "\\psi^l                                                                         \n",
    "\\end{pmatrix}                                                      \n",
    " =  i \\omega                                                      \n",
    " \\begin{pmatrix}\n",
    " 1 & 0 & 0 & 0 & 0 & 0\\\\\n",
    "0 & (1-{y_r}^2) & 0 & 0 & 0 & 0\\\\\n",
    " 0 & 0 & 1 & 0 & 0 & 0\\\\\n",
    "0& 0& 0 & (1-{y_c}^2) & 0 & 0\\\\\n",
    "0 & 0 & 0 & 0 & 1 & 0\\\\\n",
    "0& 0& 0 & 0& 0 & (1-{y_l}^2)  \\\\      \n",
    "\\end{pmatrix}                                                     \n",
    "\\begin{pmatrix}\n",
    "\\phi^r\\\\\n",
    "\\psi^r\\\\\n",
    "\\phi^c\\\\\n",
    "\\psi^c\\\\                               \n",
    "\\phi^l\\\\\n",
    "\\psi^l                                                                         \n",
    "\\end{pmatrix}                                          \n",
    "\\end{align}\n",
    "\n",
    "Where $L_1 = (1-y^2)((1-y^2)\\partial_y^2 - 2y\\partial_y) - V $ and $L_2 = (1-y^2)(-2y\\partial_y - 1)$  In this form, posh-teller corresponds to $V = \\gamma(1-y^2) $\n",
    "\n",
    "Additionally, we need to impose the continuity/matching conditions at the borders $x=a$ and $x=b$ of the three regions.\n",
    "Namely, we need to impose\n",
    "\n",
    "\\begin{align}\n",
    "\\hat{\\phi}^r(x=b) &= \\hat{\\phi}^c(x=b) \\\\ \n",
    "\\hat{\\phi}^l(x=a) &= \\hat{\\phi}^c(x=a) \\\\ \n",
    "\\partial_x\\hat{\\phi}^r(x=b) &= \\partial_x\\hat{\\phi}^c(x=b)  \\\\\n",
    "\\partial_x\\hat{\\phi}^l(x=a) &= \\partial_x\\hat{\\phi}^c(x=a)  \n",
    "\\end{align}\n",
    "\n",
    "\n",
    "Thus the second and thrid condition transforms into\n",
    "\n",
    "\\begin{align}\n",
    "-y_r\\partial_\\tau\\hat{\\phi}^r + (1-{y_r}^2)\\partial_{y_r}\\hat{\\phi}^r\n",
    "= -y_c\\partial_\\tau\\hat{\\phi}^c + (1-{y_c}^2)\\partial_{y_c}\\hat{\\phi}^c \\quad \\text{at} \\quad x = b \\\\  \n",
    "-y_l\\partial_\\tau\\hat{\\phi}^l + (1-{y_l}^2)\\partial_{y_l}\\hat{\\phi}^l\n",
    "= -y_c\\partial_\\tau\\hat{\\phi}^c + (1-{y_c}^2)\\partial_{y_c}\\hat{\\phi}^c \\quad \\text{at} \\quad x = a \n",
    "\\end{align}\n",
    "\n",
    "Taking the fourier transform the latter leads to the following matching conditions\n",
    "\n",
    "\\begin{align}\n",
    "\\phi^r -\\phi^c &= 0 \\quad \\text{at} \\quad x = b \\\\\n",
    "\\phi^l -\\phi^c &= 0 \\quad \\text{at} \\quad x = a \\\\\n",
    "(1-{y_r}^2)\\partial_{y_r}\\phi^r-(1-{y_c}^2)\\partial_{y_c}\\phi^c\n",
    " & = i\\omega (y_r\\phi^r - y_c\\phi^c) \\quad \\text{at} \\quad x = b \\\\ \n",
    "(1-{y_l}^2)\\partial_{y_l}\\phi^l-(1-{y_c}^2)\\partial_{y_c}\\phi^c\n",
    " & = i\\omega (y_l\\phi^l - y_c\\phi^c) \\quad \\text{at} \\quad x = a \n",
    "\\end{align}"
   ]
  },
  {
   "cell_type": "markdown",
   "metadata": {},
   "source": [
    "## General linear transformation\n",
    "\n",
    "Consider a linear tranformation to transform the interval $x \\in[-1,1]$ to $ z \\in [c,d]$. \n",
    "\n",
    "Taking    \n",
    "\\begin{equation}\n",
    "z = \\frac{c+d}{2} + \\bigg(\\frac{d-c}{2}\\bigg)x\n",
    "\\end{equation}\n",
    "we map $\\; \\;$ $x \\in [-1,1]$ $\\;\\;$ to $\\; \\;$ $z \\in [c,d]$.\n",
    "\n",
    "The inverse map is given by\n",
    "\\begin{equation}\n",
    "x = \\frac{c+d}{c-d} - \\bigg(\\frac{2}{c-d}\\bigg)z\n",
    "\\end{equation}\n",
    "Similarly the derivatives are related via.\n",
    "\\begin{equation}\n",
    "D_z  = \\frac{dx}{dz} D_x  \\;\\; \\text{namely} \\;\\; D_z  =  \\bigg(\\frac{2}{d-c}\\bigg) D_x \n",
    "\\end{equation}\n",
    "Similarly,\n",
    "\\begin{equation}\n",
    "D_x  = \\frac{dz}{dx} D_z  \\;\\; \\text{namely} \\;\\; D_x  =  \\bigg(\\frac{d-c}{2}\\bigg) D_z \n",
    "\\end{equation}\n"
   ]
  },
  {
   "cell_type": "markdown",
   "metadata": {},
   "source": [
    "#### Details of the Lobatto and the Left-Right Radau grids\n",
    "\n",
    "The Lobatto  Grid is defined such that $x^{Lobatto}_0= 1$ and  $\\; x^{Lobatto}_N=-1$\n",
    "\n",
    "The Left Radau grid is defined such that $x^{LeftRadau}_0=-1$ and $\\;x^{LeftRadau}_N<1$\n",
    "\n",
    "The Right Radau grid is defined such that $x^{RightRadau}_0=1$ and  $\\;x^{RightRadau}_N>-1$\n",
    "\n",
    "**Right region** : we need to cover $y_r\\in [\\tanh b,1)$ with a Left Radau Grid $x_{Left Radau}\\in[-1,1)$.\n",
    "Thus we need to take\n",
    "use the (general) linear transformation formulae with $z=y_r$, and  $x=x_{LeftRadau}$ with $c=\\tanh b, \\;\\; d=1$\n",
    "\n",
    "**Central region**: we need to cover $y_c\\in [\\tanh a,\\tanh b]$ with a Lobatto Grid $x_{Lobatto}\\in[-1,1]$.\n",
    "Thus we need to take\n",
    "use the (general) linear transformation formulae with $z=y_c$, and  $x=x_{Lobatto}$ with $c=\\tanh a,\\;\\; d=\\tanh b$\n",
    "\n",
    "**Left region**: we need to cover $y_l\\in (-1,\\tanh a]$ with a Right Radau grid $x_{Right Radau}\\in(-1,1]$. Thus we need to take\n",
    "use the (general) linear transformation formulae with $z=y_l$ and $x=x_{RightRadau}$ with $c=-1 \\;\\; d=\\tanh a$   "
   ]
  },
  {
   "cell_type": "markdown",
   "metadata": {},
   "source": [
    "Recall that for Right Radau $(x_N,...,x_0]$, for Lobatto $[x_N,..,x_0]$ and for Left Radau $[x_0,...x_N)$\n",
    "                                                                 \n",
    "Namely, we need to impose \n",
    "\n",
    "\\begin{align}\n",
    "{\\phi^r}_0 -{\\phi^c}_0 &= 0  \\\\\n",
    "{\\phi^l}_0 -{\\phi^c}_N &= 0  \\\\\n",
    "((1-{y_r}^2)\\partial_{y_r}\\phi^r)_0-((1-{y_c}^2)\\partial_{y_c}\\phi^c)_0\n",
    " & = i\\omega ( (y_r\\phi^r)_0 - (y_c\\phi^c)_0) \\\\ \n",
    "((1-{y_l}^2)\\partial_{y_l}\\phi^l)_0-((1-{y_c}^2)\\partial_{y_c}\\phi^c)_N\n",
    " & = i\\omega ((y_l\\phi^l)_0 -(y_c\\phi^c)_N) \n",
    "\\end{align}\n"
   ]
  },
  {
   "cell_type": "code",
   "execution_count": 9,
   "metadata": {},
   "outputs": [],
   "source": [
    "N = 4\n",
    "n=N+1\n",
    "# Spectral Differentiation, identity and Zero matrices\n",
    "### Right Radau\n",
    "xt_right_radau =  [D1_RCR(N)[0]]\n",
    "x_right_radau = np.transpose(xt_right_radau)\n",
    "D1_right_radau =  D1_RCR(N)[1]\n",
    "D2_right_radau =  D2_RCR(N)[1]\n",
    "### Lobatto\n",
    "xt_lobatto =  [D1_CL(N)[0]]\n",
    "x_lobatto = np.transpose(xt_lobatto)\n",
    "D1_lobatto =  D1_CL(N)[1]\n",
    "D2_lobatto =  D2_CL(N)[1]\n",
    "### Left Radau\n",
    "xt_left_radau =  [D1_LCR(N)[0]]\n",
    "x_left_radau = np.transpose(xt_left_radau)\n",
    "D1_left_radau =  D1_LCR(N)[1]\n",
    "D2_left_radau =  D2_LCR(N)[1]\n",
    "###\n",
    "Id = np.eye(n)\n",
    "#Id_total = np.eye(2*(N+1))\n",
    "Zero = np.zeros((n,n))\n",
    "\n",
    "a=-1\n",
    "b=1"
   ]
  },
  {
   "cell_type": "code",
   "execution_count": 10,
   "metadata": {},
   "outputs": [],
   "source": [
    "#tanh(a)"
   ]
  },
  {
   "cell_type": "code",
   "execution_count": 11,
   "metadata": {},
   "outputs": [],
   "source": [
    "########## Right Region ##########\n",
    "###### we need Left Radau ######\n",
    "# x in [-1 , 1) --> xr in  [tanh b,1) \n",
    "\n",
    "c_r = tanh(b)\n",
    "d_r = 1 \n",
    "xr =(c_r+d_r)/2 + ((d_r-c_r)/2)*x_left_radau\n",
    "D1_xr= (2/(d_r-c_r))*D1_left_radau\n",
    "D2_xr = ((2/(d_r-c_r))**2) * D2_left_radau\n",
    "\n",
    "########## Central Region ##########\n",
    "###### we need Lobatto ######\n",
    "# x in [-1 , 1] --> xc in  [tanh a,tan b] \n",
    "\n",
    "c_c = tanh(a)\n",
    "d_c = tanh(b)\n",
    "xc =(c_c+d_c)/2 + ((d_c-c_c)/2)*x_lobatto\n",
    "D1_xc= (2/(d_c-c_c))*D1_lobatto\n",
    "D2_xc = ((2/(d_c-c_c))**2) * D2_lobatto\n",
    "\n",
    "########## Left Region ##########\n",
    "###### we need Right Radau #####\n",
    "# x in (-1 , 1] --> xl in  (-1,tanh a] \n",
    "\n",
    "c_l = -1 \n",
    "d_l = tanh(a)\n",
    "xl =(c_l+d_l)/2 + ((d_l-c_l)/2)*x_right_radau\n",
    "D1_xl= (2/(d_l-c_l))*D1_right_radau\n",
    "D2_xl = ((2/(d_l-c_l))**2) * D2_right_radau"
   ]
  },
  {
   "cell_type": "markdown",
   "metadata": {},
   "source": [
    "<img src=\"files/3_domain_1stConfig.jpg\" width=\"700\"> "
   ]
  },
  {
   "cell_type": "markdown",
   "metadata": {},
   "source": [
    "Recall that for Right Radau $(x_N,...,x_0]$, for Lobatto $[x_N,..,x_0]$ and for Left Radau $[x_0,...x_N)$\n",
    "                                                                 \n",
    "Namely, we need to impose \n",
    "\n",
    "\\begin{align}\n",
    "{\\phi^r}_0 -{\\phi^c}_0 &= 0  \\\\\n",
    "{\\phi^l}_0 -{\\phi^c}_N &= 0  \\\\\n",
    "((1-{y_r}^2)\\partial_{y_r}\\phi^r)_0-((1-{y_c}^2)\\partial_{y_c}\\phi^c)_0\n",
    " & = i\\omega ( (y_r\\phi^r)_0 - (y_c\\phi^c)_0) \\\\ \n",
    "((1-{y_l}^2)\\partial_{y_l}\\phi^l)_0-((1-{y_c}^2)\\partial_{y_c}\\phi^c)_N\n",
    " & = i\\omega ((y_l\\phi^l)_0 -(y_c\\phi^c)_N) \n",
    "\\end{align}\n"
   ]
  },
  {
   "cell_type": "code",
   "execution_count": 12,
   "metadata": {},
   "outputs": [],
   "source": [
    "####### potential #######\n",
    "gamma = 1\n",
    "V_xr = gamma*(1-xr**2) \n",
    "V_xc = gamma*(1-xc**2) \n",
    "V_xl = gamma*(1-xl**2) \n",
    "\n",
    "######################################################################\n",
    "#The bulding the block matrices to construct the large  6nx6n matrix L\n",
    "######################################################################\n",
    "## nxn blocks ###\n",
    "L1_xr = (1-xr**2)*((1-xr**2)*D2_xr- 2*xr*D1_xr) - V_xr*Id \n",
    "L2_xr = (1-xr**2)*(-2*xr*D1_xr - Id)\n",
    "## nxn blocks ###\n",
    "L1_xc = (1-xc**2)*((1-xc**2)*D2_xc- 2*xc*D1_xc) - V_xc*Id \n",
    "L2_xc= (1-xc**2)*(-2*xc*D1_xc - Id)\n",
    "## nxn blocks ###\n",
    "L1_xl = (1-xl**2)*((1-xl**2)*D2_xl- 2*xl*D1_xl) - V_xl*Id \n",
    "L2_xl = (1-xl**2)*(-2*xl*D1_xl - Id)\n",
    "#### upper nx6n block ###\n",
    "Lu_xr = np.concatenate((Zero,Id,Zero,Zero,Zero,Zero), axis=1)\n",
    "Ld_xr = np.concatenate((L1_xr,L2_xr,Zero,Zero,Zero,Zero), axis=1)\n",
    "###  upper 2nx6n matrix block ##\n",
    "L_upper = np.concatenate((Lu_xr,Ld_xr), axis=0)\n",
    "#### central nx6n block ###\n",
    "Lu_xc = np.concatenate((Zero,Zero,Zero,Id,Zero,Zero), axis=1)\n",
    "Ld_xc = np.concatenate((Zero,Zero,L1_xc,L2_xc,Zero,Zero), axis=1)\n",
    "###  central 2nx6n matrix block ##\n",
    "L_central = np.concatenate((Lu_xc,Ld_xc), axis=0)\n",
    "#### lower nx6n block ###\n",
    "Lu_xl = np.concatenate((Zero,Zero,Zero,Zero,Zero,Id), axis=1)\n",
    "Ld_xl = np.concatenate((Zero,Zero,Zero,Zero,L1_xl,L2_xl), axis=1)\n",
    "###  central 2nx6n matrix block ##\n",
    "L_lower = np.concatenate((Lu_xl,Ld_xl), axis=0)\n",
    "###########################################\n",
    "#Asembling the large  6nx6n matrix L\n",
    "##########################################\n",
    "L = np.concatenate((L_upper,L_central, L_lower), axis=0)\n",
    "\n",
    "######################################################################\n",
    "#The bulding the block matrices to construct the large  6nx6n matrix B\n",
    "######################################################################\n",
    "Bu_xr = np.concatenate((Id,Zero,Zero,Zero,Zero,Zero), axis=1)\n",
    "Bd_xr = np.concatenate((Zero,(1-xr**2)*Id, Zero, Zero, Zero, Zero), axis=1)\n",
    "## 2nx6n matrix ##\n",
    "B_upper = np.concatenate((Bu_xr,Bd_xr), axis=0)\n",
    "#######\n",
    "Bu_xc = np.concatenate((Zero,Zero,Id,Zero,Zero,Zero), axis=1)\n",
    "Bd_xc = np.concatenate((Zero,Zero,Zero,(1-xc**2)*Id,Zero,Zero), axis=1)\n",
    "## 2nx6n matrix ##\n",
    "B_central = np.concatenate((Bu_xc,Bd_xc), axis=0)\n",
    "#######\n",
    "Bu_xl = np.concatenate((Zero,Zero,Zero,Zero,Id,Zero), axis=1)\n",
    "Bd_xl = np.concatenate((Zero,Zero,Zero,Zero,Zero,(1-xl**2)*Id), axis=1)\n",
    "## 2nx6n matrix ##\n",
    "B_lower = np.concatenate((Bu_xl,Bd_xl), axis=0)\n",
    "###########################################\n",
    "#Asembling the large  6nx6n matrix B\n",
    "##########################################\n",
    "B = np.concatenate((B_upper,B_central, B_lower), axis=0)"
   ]
  },
  {
   "cell_type": "code",
   "execution_count": 13,
   "metadata": {},
   "outputs": [],
   "source": [
    "L_mod=L\n",
    "B_mod=B\n",
    "\n",
    "# modifying the 0th line\n",
    "L_mod[0]=0\n",
    "L_mod[0][0]=1\n",
    "L_mod[0][2*N+2]=-1\n",
    "B_mod[0]=0\n",
    "\n",
    "# modifying the 3N+2 th line\n",
    "L_mod[3*N+2]=0\n",
    "L_mod[3*N+2][3*N+2] = -1\n",
    "L_mod[3*N+2][4*N+4] = 1\n",
    "B_mod[3*N+2]=0\n",
    "\n",
    "\n",
    "# modifying the N+1 th line\n",
    "L_mod[N+1]=0\n",
    "L_mod[N+1][n:2*n] = (1-xr[0]**2)*D1_xr[0]\n",
    "L_mod[N+1][3*n:4*n] = -(1-xc[0]**2)*D1_xc[0]\n",
    "B_mod[N+1]=0\n",
    "B_mod[N+1][0]= xr[0]\n",
    "B_mod[N+1][2*N+2]= -xc[0]\n",
    "\n",
    "# modifying the 4N+4 th line\n",
    "L_mod[4*N+4]=0\n",
    "L_mod[4*N+4][n:2*n] = -(1-xc[N]**2)*D1_xc[N]\n",
    "L_mod[4*N+4][3*n:4*n] = (1-xl[0]**2)*D1_xl[0]\n",
    "B_mod[4*N+4]=0\n",
    "B_mod[4*N+4][3*N+2]= -xc[N]\n",
    "B_mod[4*N+4][4*N+4]= xl[0]"
   ]
  },
  {
   "cell_type": "code",
   "execution_count": 14,
   "metadata": {},
   "outputs": [
    {
     "data": {
      "text/plain": [
       "[<matplotlib.lines.Line2D at 0x7f49520a27d0>]"
      ]
     },
     "execution_count": 14,
     "metadata": {},
     "output_type": "execute_result"
    },
    {
     "data": {
      "image/png": "[encoded data removed]",
      "text/plain": [
       "<Figure size 432x288 with 1 Axes>"
      ]
     },
     "metadata": {
      "needs_background": "light"
     },
     "output_type": "display_data"
    }
   ],
   "source": [
    "Z3=SpectrumAlt(L,1j*B);\n",
    "plt.plot(Z3.real, Z3.imag,'b+')\n",
    "plt.xlim(-2.5,2.5)\n",
    "plt.ylim(-1,10)\n",
    "plt.plot(correct_answer.real, correct_answer.imag,'rx')"
   ]
  },
  {
   "cell_type": "code",
   "execution_count": 15,
   "metadata": {},
   "outputs": [],
   "source": [
    "### flipping arrays"
   ]
  },
  {
   "cell_type": "code",
   "execution_count": 16,
   "metadata": {},
   "outputs": [],
   "source": [
    "N = 2"
   ]
  },
  {
   "cell_type": "code",
   "execution_count": 17,
   "metadata": {},
   "outputs": [
    {
     "data": {
      "text/plain": [
       "[array([ 1.        ,  0.30901699, -0.80901699])]"
      ]
     },
     "execution_count": 17,
     "metadata": {},
     "output_type": "execute_result"
    }
   ],
   "source": [
    "[D1_RCR(N)[0]]"
   ]
  },
  {
   "cell_type": "code",
   "execution_count": 113,
   "metadata": {},
   "outputs": [
    {
     "data": {
      "text/plain": [
       "array([-0.80901699,  0.30901699,  1.        ])"
      ]
     },
     "execution_count": 113,
     "metadata": {},
     "output_type": "execute_result"
    }
   ],
   "source": [
    "np.flip(D1_RCR(N)[0])"
   ]
  },
  {
   "cell_type": "code",
   "execution_count": 114,
   "metadata": {},
   "outputs": [
    {
     "data": {
      "text/plain": [
       "[array([[ 2.        , -2.34164079,  0.34164079],\n",
       "        [ 0.89442719, -0.5527864 , -0.34164079],\n",
       "        [-0.89442719,  2.34164079, -1.4472136 ]])]"
      ]
     },
     "execution_count": 114,
     "metadata": {},
     "output_type": "execute_result"
    }
   ],
   "source": [
    "[D1_RCR(N)[1]]"
   ]
  },
  {
   "cell_type": "code",
   "execution_count": 115,
   "metadata": {},
   "outputs": [
    {
     "data": {
      "text/plain": [
       "array([[[-1.4472136 ,  2.34164079, -0.89442719],\n",
       "        [-0.34164079, -0.5527864 ,  0.89442719],\n",
       "        [ 0.34164079, -2.34164079,  2.        ]]])"
      ]
     },
     "execution_count": 115,
     "metadata": {},
     "output_type": "execute_result"
    }
   ],
   "source": [
    "np.flip([D1_RCR(N)[1]])"
   ]
  },
  {
   "cell_type": "code",
   "execution_count": 116,
   "metadata": {},
   "outputs": [],
   "source": [
    "array1test=np.array(['y_0','y_1','y_2','y_3','y_4'])"
   ]
  },
  {
   "cell_type": "code",
   "execution_count": 117,
   "metadata": {},
   "outputs": [
    {
     "data": {
      "text/plain": [
       "array(['y_0', 'y_1', 'y_2', 'y_3', 'y_4'], dtype='<U3')"
      ]
     },
     "execution_count": 117,
     "metadata": {},
     "output_type": "execute_result"
    }
   ],
   "source": [
    "array1test"
   ]
  },
  {
   "cell_type": "code",
   "execution_count": 118,
   "metadata": {},
   "outputs": [
    {
     "data": {
      "text/plain": [
       "array(['y_4', 'y_3', 'y_2', 'y_1', 'y_0'], dtype='<U3')"
      ]
     },
     "execution_count": 118,
     "metadata": {},
     "output_type": "execute_result"
    }
   ],
   "source": [
    "np.flip(array1test)"
   ]
  },
  {
   "cell_type": "code",
   "execution_count": 119,
   "metadata": {},
   "outputs": [],
   "source": [
    "array2test=np.array([['X_00','X_01','X_02','y_03','y_04'],['X_10','X_11','X_12','y_13','y_14'],['X_20','X_21','X_22','y_23','y_24'],['X_30','X_31','X_32','y_33','y_34'],['X_40','X_41','X_42','y_43','y_44']])"
   ]
  },
  {
   "cell_type": "code",
   "execution_count": 120,
   "metadata": {},
   "outputs": [
    {
     "data": {
      "text/plain": [
       "array([['X_00', 'X_01', 'X_02', 'y_03', 'y_04'],\n",
       "       ['X_10', 'X_11', 'X_12', 'y_13', 'y_14'],\n",
       "       ['X_20', 'X_21', 'X_22', 'y_23', 'y_24'],\n",
       "       ['X_30', 'X_31', 'X_32', 'y_33', 'y_34'],\n",
       "       ['X_40', 'X_41', 'X_42', 'y_43', 'y_44']], dtype='<U4')"
      ]
     },
     "execution_count": 120,
     "metadata": {},
     "output_type": "execute_result"
    }
   ],
   "source": [
    "array2test"
   ]
  },
  {
   "cell_type": "code",
   "execution_count": 121,
   "metadata": {},
   "outputs": [
    {
     "data": {
      "text/plain": [
       "array([['y_44', 'y_43', 'X_42', 'X_41', 'X_40'],\n",
       "       ['y_34', 'y_33', 'X_32', 'X_31', 'X_30'],\n",
       "       ['y_24', 'y_23', 'X_22', 'X_21', 'X_20'],\n",
       "       ['y_14', 'y_13', 'X_12', 'X_11', 'X_10'],\n",
       "       ['y_04', 'y_03', 'X_02', 'X_01', 'X_00']], dtype='<U4')"
      ]
     },
     "execution_count": 121,
     "metadata": {},
     "output_type": "execute_result"
    }
   ],
   "source": [
    "np.flip(array2test)"
   ]
  },
  {
   "cell_type": "code",
   "execution_count": null,
   "metadata": {},
   "outputs": [],
   "source": []
  },
  {
   "cell_type": "code",
   "execution_count": null,
   "metadata": {},
   "outputs": [],
   "source": []
  }
 ],
 "metadata": {
  "kernelspec": {
   "display_name": "Python 3",
   "language": "python",
   "name": "python3"
  },
  "language_info": {
   "codemirror_mode": {
    "name": "ipython",
    "version": 3
   },
   "file_extension": ".py",
   "mimetype": "text/x-python",
   "name": "python",
   "nbconvert_exporter": "python",
   "pygments_lexer": "ipython3",
   "version": "3.7.4"
  }
 },
 "nbformat": 4,
 "nbformat_minor": 2
}
