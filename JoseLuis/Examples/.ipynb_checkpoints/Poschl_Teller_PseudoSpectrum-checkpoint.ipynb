{
 "cells": [
  {
   "cell_type": "code",
   "execution_count": 1,
   "metadata": {},
   "outputs": [
    {
     "name": "stdout",
     "output_type": "stream",
     "text": [
      "importing Jupyter notebook from Spectral_tools.ipynb\n"
     ]
    }
   ],
   "source": [
    "## Importation of basic rotutine\n",
    "import numpy as np\n",
    "import matplotlib.pyplot as plt\n",
    "import matplotlib.ticker as mticker\n",
    "from matplotlib import ticker, cm\n",
    "from scipy import linalg as LA\n",
    "from math import sin, cos, pi, log\n",
    "import cmath\n",
    "import import_ipynb\n",
    "\n",
    "## Importation of Spectral tools\n",
    "from Spectral_tools import * #D1_CL, D2_CL,matrice_random, norm_2, Pseudospectrum\n",
    "\n",
    "\n",
    "\n",
    "# use LaTeX fonts in the plot\n",
    "plt.rc('text', usetex=True)\n",
    "plt.rc('font', family='serif')"
   ]
  },
  {
   "cell_type": "code",
   "execution_count": 2,
   "metadata": {},
   "outputs": [],
   "source": [
    "\n",
    "# Number of points n= N+1\n",
    "#N = 100\n",
    "def Matrix_Eigenvalues_Test(N, epsilon_Random_V):\n",
    "\n",
    "    # Spectral Differentiation, identity and Zero matrices\n",
    "    #xt = [D1_CL(N)[0]]\n",
    "    xt = [D1_CG(N)[0]]\n",
    "    x = np.transpose(xt)\n",
    "    #D1 = D1_CL(N)[1]\n",
    "    #D2 = D2_CL(N)[1]\n",
    "    D1 = D1_CG(N)[1]\n",
    "    D2 = D2_CG(N)[1]\n",
    "    Id = np.eye(N+1)\n",
    "    Id_total = np.eye(2*(N+1))\n",
    "    Zero = np.zeros((N+1,N+1))\n",
    "\n",
    "    ### Matrix L definition\n",
    "    #L = D1\n",
    "    #LT = L.transpose()\n",
    "    #LTL = np.dot(LT,L)\n",
    "    #L_red = L[1:N+1,1:N+1]\n",
    "    \n",
    "     # Potential\n",
    "    V = 1.\n",
    "    epsilon1 = 0.#1e-6\n",
    "    epsilon2 = epsilon_Random_V\n",
    "    epsilon3 = 0.#1e-6 \n",
    "    NN=1e8\n",
    "    V = 1. + epsilon1*np.cos((2*NN+1)/2.*pi*x)\n",
    "    #V_random = matrice_random(N+1)\n",
    "    V_random = Diagonal_Random_Matrix(N+1) - 0.5*Id\n",
    "    V_random = V_random/norm_2(V_random)\n",
    "    V_random = epsilon2 * V_random\n",
    "    visualisation_matrix(V_random)\n",
    "    #print(\"Random matrix : \", V_random)\n",
    "    norm_V_random = norm_2(V_random)\n",
    "    #V_random = epsilon2*matrice_random(N+1)\n",
    "    print(\"L2-norm of Random_Matrix = \" ,  norm_V_random, \"\\n\")\n",
    "    print(\"log_10 (L2-norm of Random_Matrix) = \" , log(norm_V_random,10), \"\\n\")\n",
    "    \n",
    "    #V_random_total = epsilon3*matrice_random(2*(N+1))\n",
    "\n",
    "    # Elementary Operators Version 1\n",
    "    #alpha, beta, gamma = 0., 0., 1.\n",
    "    #print(\"alpha =\", alpha, \", beta =\", beta, \", gamma =\", gamma)\n",
    "    #V = alpha/(1-x**2) + beta*x/(1-x**2) + gamma + V_random/(1-x**2)\n",
    "    #L1 = (1-x**2)*D2 - 2*x*D1 - V*Id #+ V_random\n",
    "    #L2 = -2*x*D1 - Id\n",
    "    #B = Id_total\n",
    "    \n",
    "    # Operator matrix\n",
    "    #Lu = np.concatenate((Zero,Id), axis=1)\n",
    "    #Ld = np.concatenate((L1,L2), axis=1)\n",
    "    #L = np.concatenate((Lu,Ld), axis=0)\n",
    "    #L += epsilon3*V_random_total\n",
    "    \n",
    "    # Elementary Operators Version 2\n",
    "    alpha, beta, gamma = 0., 0., 1.\n",
    "    print(\"alpha =\", alpha, \", beta =\", beta, \", gamma =\", gamma)\n",
    "    V = alpha + beta*x + gamma*(1-x**2) + V_random\n",
    "    L1 = (1-x**2)*((1-x**2)*D2 - 2*x*D1) - V*Id #+ V_random\n",
    "    Bu = np.concatenate((Id,Zero), axis=1)\n",
    "    Bd = np.concatenate((Zero,(1-x**2)*Id), axis=1)\n",
    "    B = np.concatenate((Bu,Bd), axis=0)\n",
    "    #print(\"B\", B)\n",
    "    \n",
    "    # Operator matrix\n",
    "    #L = [Zero, Id]\n",
    "    Lu = np.concatenate((Zero,Id), axis=1)\n",
    "    Ld = np.concatenate((L1,L2), axis=1)\n",
    "    L = np.concatenate((Lu,Ld), axis=0)\n",
    "    #L += epsilon3*V_random_total\n",
    "\n",
    "    #print(L1)\n",
    "    #print(L2)\n",
    "    \n",
    "     \n",
    "    L = -1j*L\n",
    "    \n",
    "    \n",
    "    ## Pseudospectrum parameters\n",
    "    ############################\n",
    "    # Grid\n",
    "    xmin, xmax ,ymin,ymax, Nxgrid, Nygrid = -40., 40., -10., 60., 50, 50\n",
    "    #xmin, xmax ,ymin,ymax, Nxgrid, Nygrid = -40., 40., -10., 60., 100, 100\n",
    "    #xmin, xmax ,ymin,ymax, Nxgrid, Nygrid = 0.86, 0.87, 0.495, 0.505, 50, 50\n",
    "    #xmin, xmax ,ymin,ymax, Nxgrid, Nygrid = -2., 2., -1., 20., 50, 50\n",
    "    # Heights\n",
    "    #heights = np.arange(0.0001, 0.001, 0.00025)\n",
    "    heights = [1e-15,1e-14,1e-13,1e-12,1e-11,1e-10,1e-9,1e-7,1e-5,1e-3,1e-1,1e0, 1e1]\n",
    "    print(\"heights =\", heights)\n",
    "    # \"Filled\" (set fl to \"f\") or \"Contour\" (set fl to something different to \"\")\n",
    "    fl = \"f\"\n",
    "    print(\"fl = \", fl, \"\\n\")\n",
    "    Pseudospectrum(L,B,xmin,xmax,ymin,ymax,Nxgrid,Nygrid,heights,fl,log(norm_V_random,10))\n",
    "    \n",
    "    \n",
    "    \n",
    "    # Eigenvalues\n",
    "    eigenvalues_L, eigenvectors_L = LA.eig(L,B)\n",
    "    #eigenvalues_L = LA.eigvals(L,B)\n",
    "    #eigenvalues_L, eigenvectors_L = LA.eig(LTL_test)\n",
    "    #eigenvalues_L *= -1j\n",
    "    \n",
    "    print(\"\\n Eigenvalues = \\n\", eigenvalues_L)\n",
    "\n",
    "    \n",
    "    eigenvalues_L_Re = eigenvalues_L.real\n",
    "    eigenvalues_L_Im = eigenvalues_L.imag\n",
    "\n",
    "    #print(\"Re(s_n) = \", eigenvalues_L_Re )\n",
    "    #print(\"Im(s_n) = \", eigenvalues_L_Im )\n",
    "\n",
    "    \n",
    "    return eigenvalues_L_Re, eigenvalues_L_Im, eigenvectors_L, x, xt\n",
    "\n",
    "    #print(D1_CL(N))\n",
    "    #print(D1_CL(N)[0])\n",
    "    #print(D1_CL(N)[1])\n",
    "\n",
    "    #x_CL, D1_CL = D1_CL(N)\n",
    "    #D2_CL = D2_CL(N)[1]\n",
    "    #print(\"Chebyshev-Lobatto grid points = \", x_CL)\n",
    "    #print(\"D1_CL = \", D1_CL)\n",
    "    #print(\"D2_CL = \", D2_CL)"
   ]
  },
  {
   "cell_type": "code",
   "execution_count": 3,
   "metadata": {},
   "outputs": [],
   "source": [
    "def Eigenvalues_Graphic(Re_lambda, Im_lambda):\n",
    "    # Graphical ouput\n",
    "\n",
    "    eigenvalues_L_Re, eigenvalues_L_Im = Re_lambda, Im_lambda\n",
    "    \n",
    "    #print(eigenvalues_L_Re)\n",
    "    #print(eigenvalues_L_Im)\n",
    "    \n",
    "    \n",
    "    fig1 = plt.figure()\n",
    "    ax1 = fig1.add_subplot(111)\n",
    "\n",
    "    ax1.plot(eigenvalues_L_Re, eigenvalues_L_Im, \"+\")\n",
    "    ax1.set_xlabel(r'$\\mathrm{Re}(\\omega_n)$')\n",
    "    ax1.set_ylabel(r'$\\mathrm{Im}(\\omega_n)$')  \n",
    "    #ax1.set_aspect('equal','datalim')\n",
    "    f = mticker.ScalarFormatter(useOffset=False, useMathText=True)\n",
    "    g = lambda x,pos : \"${}$\".format(f._formatSciNotation('%10e' % x))\n",
    "    ax1.xaxis.set_major_formatter(mticker.FuncFormatter(g))\n",
    "    ax1.yaxis.set_major_formatter(mticker.FuncFormatter(g))\n",
    "    \n",
    "    fig1.suptitle(r'Eigenvalues of $L$ with $n=N+1=%5g$ points' %(N+1))\n",
    "    ax1.grid()   \n",
    "    #ax1.set_xlim(0.,500.)\n",
    "    #ax1.set_ylim(-50.,50.)\n",
    "    #ax1.axis([-10,10,-10,20])\n",
    "\n",
    "    fig1.show()\n",
    "    #fig.savefig(\"/home/jaramillo/Dropbox/Trabajo/Programacion/Python/Diagonalization/Eigenvalues_L.pdf\")\n",
    "    #fig1.savefig(\"Eigenvalues_PT_Random1e-5_1.pdf\")\n",
    "    "
   ]
  },
  {
   "cell_type": "code",
   "execution_count": 4,
   "metadata": {},
   "outputs": [
    {
     "data": {
      "image/png": "[encoded data removed]",
      "text/plain": [
       "<Figure size 432x288 with 2 Axes>"
      ]
     },
     "metadata": {
      "needs_background": "light"
     },
     "output_type": "display_data"
    },
    {
     "name": "stdout",
     "output_type": "stream",
     "text": [
      "L2-norm of Random_Matrix =  1.0000000000000003e-05 \n",
      "\n",
      "log_10 (L2-norm of Random_Matrix) =  -5.0 \n",
      "\n",
      "alpha = 0.0 , beta = 0.0 , gamma = 1.0\n",
      "heights = [1e-15, 1e-14, 1e-13, 1e-12, 1e-11, 1e-10, 1e-09, 1e-07, 1e-05, 0.001, 0.1, 1.0, 10.0]\n",
      "fl =  f \n",
      "\n"
     ]
    },
    {
     "name": "stderr",
     "output_type": "stream",
     "text": [
      "Spectral_tools.ipynb:311: UserWarning: The following kwargs were not used by contour: 'linewidth'\n",
      "  \"    \\n\",\n",
      "Spectral_tools.ipynb:337: UserWarning: Matplotlib is currently using module://ipykernel.pylab.backend_inline, which is a non-GUI backend, so cannot show the figure.\n",
      "  \"    fig.suptitle(r'Spectrum and Pseudospectrum of $L$ with $log||\\\\mathrm{Random}||_2=%3g$' % log_norm_Random)\\n\",\n"
     ]
    },
    {
     "name": "stdout",
     "output_type": "stream",
     "text": [
      "\n",
      " N =\n",
      " 30.0\n",
      "\n",
      " Eigenvalues = \n",
      " [-1.64347418e-11+51.95819128j  1.21849048e+01+48.08921623j\n",
      "  7.51920991e+00+48.74715101j -7.51920992e+00+48.74715101j\n",
      " -1.21849048e+01+48.08921623j  1.80740891e+01+41.27567227j\n",
      "  1.95396076e+01+39.04078984j -1.80740891e+01+41.27567227j\n",
      " -1.95396076e+01+39.04078984j -1.66932140e-09+40.4384279j\n",
      "  2.16499290e+01+31.63183295j  2.15345393e+01+29.45839365j\n",
      " -2.16499290e+01+31.63183295j -2.15345393e+01+29.45839365j\n",
      "  2.09586360e+01+23.66780352j -2.09586360e+01+23.66780352j\n",
      "  2.02812873e+01+21.83715958j -2.02812873e+01+21.83715958j\n",
      "  1.86320787e+01+17.90772486j -1.86320787e+01+17.90772486j\n",
      "  1.77134280e+01+16.3583417j  -1.77134280e+01+16.3583417j\n",
      "  1.58962495e+01+13.79012882j -1.58962495e+01+13.79012882j\n",
      "  1.48454804e+01+12.50310603j -1.48454804e+01+12.50310603j\n",
      " -1.31899744e+01+10.79032604j  1.31899744e+01+10.79032604j\n",
      " -1.20962175e+01 +9.75831328j  1.20962175e+01 +9.75831328j\n",
      " -1.06684355e+01 +8.56470079j  1.06684355e+01 +8.56470078j\n",
      " -9.60494943e+00 +7.75543069j  9.60494943e+00 +7.75543069j\n",
      " -8.38850561e+00 +6.88567605j  8.38850561e+00 +6.88567605j\n",
      " -7.39966420e+00 +6.25255652j  7.39966420e+00 +6.25255652j\n",
      " -6.36282358e+00 +5.59406167j  6.36282358e+00 +5.59406167j\n",
      " -5.46841228e+00 +5.09210246j  5.46841228e+00 +5.09210246j\n",
      " -4.58259072e+00 +4.57640099j  4.58259072e+00 +4.57640099j\n",
      " -3.78612627e+00 +4.16718442j  3.78612627e+00 +4.16718442j\n",
      " -3.02559963e+00 +3.74889905j  3.02559963e+00 +3.74889905j\n",
      " -8.66020343e-01 +0.50001464j  8.66020343e-01 +0.50001464j\n",
      " -2.31891380e+00 +3.40055989j  2.31891380e+00 +3.40055989j\n",
      " -8.64069969e-01 +1.50068755j -1.64019118e+00 +3.04551563j\n",
      "  8.64069969e-01 +1.50068755j -1.03556114e+00 +2.80067964j\n",
      " -8.15265108e-01 +2.42076417j  2.48091849e-10 +3.56624485j\n",
      "  1.64019118e+00 +3.04551563j  8.15265108e-01 +2.42076417j\n",
      "  1.03556114e+00 +2.80067964j -4.78370019e-13 +2.71474806j]\n"
     ]
    },
    {
     "name": "stderr",
     "output_type": "stream",
     "text": [
      "/home/jaramillo/anaconda3/lib/python3.7/site-packages/ipykernel_launcher.py:28: UserWarning: Matplotlib is currently using module://ipykernel.pylab.backend_inline, which is a non-GUI backend, so cannot show the figure.\n"
     ]
    },
    {
     "data": {
      "image/png": "[encoded data removed]",
      "text/plain": [
       "<Figure size 432x288 with 2 Axes>"
      ]
     },
     "metadata": {
      "needs_background": "light"
     },
     "output_type": "display_data"
    },
    {
     "data": {
      "image/png": "[encoded data removed]",
      "text/plain": [
       "<Figure size 432x288 with 1 Axes>"
      ]
     },
     "metadata": {
      "needs_background": "light"
     },
     "output_type": "display_data"
    }
   ],
   "source": [
    "N=30\n",
    "a, b, c, x, xt = Matrix_Eigenvalues_Test(N, 1e-5)\n",
    "Eigenvalues_Graphic(a,b)"
   ]
  }
 ],
 "metadata": {
  "kernelspec": {
   "display_name": "Python 3",
   "language": "python",
   "name": "python3"
  },
  "language_info": {
   "codemirror_mode": {
    "name": "ipython",
    "version": 3
   },
   "file_extension": ".py",
   "mimetype": "text/x-python",
   "name": "python",
   "nbconvert_exporter": "python",
   "pygments_lexer": "ipython3",
   "version": "3.7.4"
  }
 },
 "nbformat": 4,
 "nbformat_minor": 2
}
