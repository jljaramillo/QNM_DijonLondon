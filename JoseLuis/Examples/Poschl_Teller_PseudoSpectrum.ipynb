{
 "cells": [
  {
   "cell_type": "code",
   "execution_count": 1,
   "metadata": {},
   "outputs": [
    {
     "name": "stdout",
     "output_type": "stream",
     "text": [
      "importing Jupyter notebook from Spectral_tools.ipynb\n"
     ]
    }
   ],
   "source": [
    "## Importation of basic rotutine\n",
    "import numpy as np\n",
    "import matplotlib.pyplot as plt\n",
    "import matplotlib.ticker as mticker\n",
    "from matplotlib import ticker, cm\n",
    "from scipy import linalg as LA\n",
    "from math import sin, cos, pi, log\n",
    "import cmath\n",
    "import import_ipynb\n",
    "\n",
    "## Importation of Spectral tools\n",
    "from Spectral_tools import * #D1_CL, D2_CL,matrice_random, norm_2, Pseudospectrum\n",
    "\n",
    "\n",
    "\n",
    "# use LaTeX fonts in the plot\n",
    "plt.rc('text', usetex=True)\n",
    "plt.rc('font', family='serif')"
   ]
  },
  {
   "cell_type": "code",
   "execution_count": 2,
   "metadata": {},
   "outputs": [],
   "source": [
    "\n",
    "# Number of points n= N+1\n",
    "#N = 100\n",
    "def Matrix_Eigenvalues_Test(N, epsilon_Random_V):\n",
    "\n",
    "    # Spectral Differentiation, identity and Zero matrices\n",
    "    #xt = [D1_CL(N)[0]]\n",
    "    xt = [D1_CG(N)[0]]\n",
    "    x = np.transpose(xt)\n",
    "    #D1 = D1_CL(N)[1]\n",
    "    #D2 = D2_CL(N)[1]\n",
    "    D1 = D1_CG(N)[1]\n",
    "    D2 = D2_CG(N)[1]\n",
    "    Id = np.eye(N+1)\n",
    "    Id_total = np.eye(2*(N+1))\n",
    "    Zero = np.zeros((N+1,N+1))\n",
    "\n",
    "    ### Matrix L definition\n",
    "    #L = D1\n",
    "    #LT = L.transpose()\n",
    "    #LTL = np.dot(LT,L)\n",
    "    #L_red = L[1:N+1,1:N+1]\n",
    "    \n",
    "     # Potential\n",
    "    V = 1.\n",
    "    epsilon1 = 0.#1e-6\n",
    "    epsilon2 = epsilon_Random_V\n",
    "    epsilon3 = 0.#1e-6 \n",
    "    NN=1e8\n",
    "    V = 1. + epsilon1*np.cos((2*NN+1)/2.*pi*x)\n",
    "    #V_random = matrice_random(N+1)\n",
    "    V_random = Diagonal_Random_Matrix(N+1) - 0.5*Id\n",
    "    V_random = V_random/norm_2(V_random)\n",
    "    V_random = epsilon2 * V_random\n",
    "    visualisation_matrix(V_random)\n",
    "    #print(\"Random matrix : \", V_random)\n",
    "    norm_V_random = norm_2(V_random)\n",
    "    #V_random = epsilon2*matrice_random(N+1)\n",
    "    print(\"L2-norm of Random_Matrix = \" ,  norm_V_random, \"\\n\")\n",
    "    print(\"log_10 (L2-norm of Random_Matrix) = \" , log(norm_V_random,10), \"\\n\")\n",
    "    \n",
    "    #V_random_total = epsilon3*matrice_random(2*(N+1))\n",
    "\n",
    "    # Elementary Operators Version 1\n",
    "    #alpha, beta, gamma = 0., 0., 1.\n",
    "    #print(\"alpha =\", alpha, \", beta =\", beta, \", gamma =\", gamma)\n",
    "    #V = alpha/(1-x**2) + beta*x/(1-x**2) + gamma + V_random/(1-x**2)\n",
    "    #L1 = (1-x**2)*D2 - 2*x*D1 - V*Id #+ V_random\n",
    "    #L2 = -2*x*D1 - Id\n",
    "    #B = Id_total\n",
    "    \n",
    "    # Operator matrix\n",
    "    #Lu = np.concatenate((Zero,Id), axis=1)\n",
    "    #Ld = np.concatenate((L1,L2), axis=1)\n",
    "    #L = np.concatenate((Lu,Ld), axis=0)\n",
    "    #L += epsilon3*V_random_total\n",
    "    \n",
    "    # Elementary Operators Version 2\n",
    "    alpha, beta, gamma = 0., 0., 1.\n",
    "    print(\"alpha =\", alpha, \", beta =\", beta, \", gamma =\", gamma)\n",
    "    V = alpha + beta*x + gamma*(1-x**2) + V_random\n",
    "    L1 = (1-x**2)*((1-x**2)*D2 - 2*x*D1) - V*Id #+ V_random\n",
    "    L2 = (1-x**2)*(-2*x*D1 - Id)\n",
    "    Bu = np.concatenate((Id,Zero), axis=1)\n",
    "    Bd = np.concatenate((Zero,(1-x**2)*Id), axis=1)\n",
    "    B = np.concatenate((Bu,Bd), axis=0)\n",
    "    #print(\"B\", B)\n",
    "    \n",
    "    # Operator matrix\n",
    "    #L = [Zero, Id]\n",
    "    Lu = np.concatenate((Zero,Id), axis=1)\n",
    "    Ld = np.concatenate((L1,L2), axis=1)\n",
    "    L = np.concatenate((Lu,Ld), axis=0)\n",
    "    #L += epsilon3*V_random_total\n",
    "\n",
    "    #print(L1)\n",
    "    #print(L2)\n",
    "    \n",
    "     \n",
    "    L = -1j*L\n",
    "    \n",
    "    \n",
    "    ## Pseudospectrum parameters\n",
    "    ############################\n",
    "    # Grid\n",
    "    xmin, xmax ,ymin,ymax, Nxgrid, Nygrid = -40., 40., -10., 60., 50, 50\n",
    "    #xmin, xmax ,ymin,ymax, Nxgrid, Nygrid = -40., 40., -10., 60., 100, 100\n",
    "    #xmin, xmax ,ymin,ymax, Nxgrid, Nygrid = 0.86, 0.87, 0.495, 0.505, 50, 50\n",
    "    #xmin, xmax ,ymin,ymax, Nxgrid, Nygrid = -2., 2., -1., 20., 50, 50\n",
    "    # Heights\n",
    "    #heights = np.arange(0.0001, 0.001, 0.00025)\n",
    "    heights = [1e-15,1e-14,1e-13,1e-12,1e-11,1e-10,1e-9,1e-7,1e-5,1e-3,1e-1,1e0, 1e1]\n",
    "    print(\"heights =\", heights)\n",
    "    # \"Filled\" (set fl to \"f\") or \"Contour\" (set fl to something different to \"\")\n",
    "    fl = \"f\"\n",
    "    print(\"fl = \", fl, \"\\n\")\n",
    "    Pseudospectrum(L,B,xmin,xmax,ymin,ymax,Nxgrid,Nygrid,heights,fl,log(norm_V_random,10))\n",
    "    \n",
    "    \n",
    "    \n",
    "    # Eigenvalues\n",
    "    eigenvalues_L, eigenvectors_L = LA.eig(L,B)\n",
    "    #eigenvalues_L = LA.eigvals(L,B)\n",
    "    #eigenvalues_L, eigenvectors_L = LA.eig(LTL_test)\n",
    "    #eigenvalues_L *= -1j\n",
    "    \n",
    "    print(\"\\n Eigenvalues = \\n\", eigenvalues_L)\n",
    "\n",
    "    \n",
    "    eigenvalues_L_Re = eigenvalues_L.real\n",
    "    eigenvalues_L_Im = eigenvalues_L.imag\n",
    "\n",
    "    #print(\"Re(s_n) = \", eigenvalues_L_Re )\n",
    "    #print(\"Im(s_n) = \", eigenvalues_L_Im )\n",
    "\n",
    "    \n",
    "    return eigenvalues_L_Re, eigenvalues_L_Im, eigenvectors_L, x, xt\n",
    "\n",
    "    #print(D1_CL(N))\n",
    "    #print(D1_CL(N)[0])\n",
    "    #print(D1_CL(N)[1])\n",
    "\n",
    "    #x_CL, D1_CL = D1_CL(N)\n",
    "    #D2_CL = D2_CL(N)[1]\n",
    "    #print(\"Chebyshev-Lobatto grid points = \", x_CL)\n",
    "    #print(\"D1_CL = \", D1_CL)\n",
    "    #print(\"D2_CL = \", D2_CL)"
   ]
  },
  {
   "cell_type": "code",
   "execution_count": 3,
   "metadata": {},
   "outputs": [],
   "source": [
    "def Eigenvalues_Graphic(Re_lambda, Im_lambda):\n",
    "    # Graphical ouput\n",
    "\n",
    "    eigenvalues_L_Re, eigenvalues_L_Im = Re_lambda, Im_lambda\n",
    "    \n",
    "    #print(eigenvalues_L_Re)\n",
    "    #print(eigenvalues_L_Im)\n",
    "    \n",
    "    \n",
    "    fig1 = plt.figure()\n",
    "    ax1 = fig1.add_subplot(111)\n",
    "\n",
    "    ax1.plot(eigenvalues_L_Re, eigenvalues_L_Im, \"+\")\n",
    "    ax1.set_xlabel(r'$\\mathrm{Re}(\\omega_n)$')\n",
    "    ax1.set_ylabel(r'$\\mathrm{Im}(\\omega_n)$')  \n",
    "    #ax1.set_aspect('equal','datalim')\n",
    "    f = mticker.ScalarFormatter(useOffset=False, useMathText=True)\n",
    "    g = lambda x,pos : \"${}$\".format(f._formatSciNotation('%10e' % x))\n",
    "    ax1.xaxis.set_major_formatter(mticker.FuncFormatter(g))\n",
    "    ax1.yaxis.set_major_formatter(mticker.FuncFormatter(g))\n",
    "    \n",
    "    fig1.suptitle(r'Eigenvalues of $L$ with $n=N+1=%5g$ points' %(N+1))\n",
    "    ax1.grid()   \n",
    "    #ax1.set_xlim(0.,500.)\n",
    "    #ax1.set_ylim(-50.,50.)\n",
    "    #ax1.axis([-10,10,-10,20])\n",
    "\n",
    "    fig1.show()\n",
    "    #fig.savefig(\"/home/jaramillo/Dropbox/Trabajo/Programacion/Python/Diagonalization/Eigenvalues_L.pdf\")\n",
    "    #fig1.savefig(\"Eigenvalues_PT_Random1e-5_1.pdf\")\n",
    "    "
   ]
  },
  {
   "cell_type": "code",
   "execution_count": 4,
   "metadata": {
    "scrolled": false
   },
   "outputs": [
    {
     "data": {
      "image/png": "[encoded data removed]",
      "text/plain": [
       "<Figure size 432x288 with 2 Axes>"
      ]
     },
     "metadata": {
      "needs_background": "light"
     },
     "output_type": "display_data"
    },
    {
     "name": "stdout",
     "output_type": "stream",
     "text": [
      "L2-norm of Random_Matrix =  1.0000000000000003e-05 \n",
      "\n",
      "log_10 (L2-norm of Random_Matrix) =  -5.0 \n",
      "\n",
      "alpha = 0.0 , beta = 0.0 , gamma = 1.0\n",
      "heights = [1e-15, 1e-14, 1e-13, 1e-12, 1e-11, 1e-10, 1e-09, 1e-07, 1e-05, 0.001, 0.1, 1.0, 10.0]\n",
      "fl =  f \n",
      "\n"
     ]
    },
    {
     "name": "stderr",
     "output_type": "stream",
     "text": [
      "Spectral_tools.ipynb:311: UserWarning: The following kwargs were not used by contour: 'linewidth'\n",
      "  \"    \\n\",\n",
      "Spectral_tools.ipynb:337: UserWarning: Matplotlib is currently using module://ipykernel.pylab.backend_inline, which is a non-GUI backend, so cannot show the figure.\n",
      "  \"    fig.suptitle(r'Spectrum and Pseudospectrum of $L$ with $log||\\\\mathrm{Random}||_2=%3g$' % log_norm_Random)\\n\",\n"
     ]
    },
    {
     "name": "stdout",
     "output_type": "stream",
     "text": [
      "\n",
      " N =\n",
      " 50.0\n",
      "\n",
      " Eigenvalues = \n",
      " [-21.37675905+139.17043719j -21.36033274+137.38700811j\n",
      "  21.37675932+139.17043709j  21.36033239+137.38700823j\n",
      " -53.31935254+116.33556378j -53.25964733+114.51287833j\n",
      "  53.31935266+116.33556354j  53.25964715+114.51287861j\n",
      " -65.98241755 +87.54982165j -65.83874722 +85.66821372j\n",
      "  65.9824175  +87.54982145j  65.83874721 +85.66821399j\n",
      " -65.95298205 +64.02423637j -65.69149763 +62.09040093j\n",
      "  65.95298193 +64.02423627j  65.69149772 +62.09040111j\n",
      " -60.6942703  +47.45548848j -60.28622396 +45.47830183j\n",
      "  60.69427019 +47.45548846j  60.28622407 +45.47830192j\n",
      " -54.1042986  +36.19288681j -53.50955362 +34.18902406j\n",
      "  54.10429852 +36.19288682j  53.50955372 +34.18902411j\n",
      " -47.70897957 +28.43404422j -46.88013373 +26.45167048j\n",
      "  47.70897952 +28.43404425j  46.88013381 +26.45167049j\n",
      " -41.9572627  +22.88769327j  41.95726266 +22.88769331j\n",
      " -40.87463875 +21.01789067j  40.87463883 +21.01789068j\n",
      " -36.86751618 +18.74925565j  36.86751616 +18.7492557j\n",
      " -35.57642506 +17.09162107j  35.57642514 +17.09162105j\n",
      " -32.34164823 +15.56650498j  32.34164823 +15.56650502j\n",
      " -30.93714607 +14.1733259j   30.93714613 +14.17332586j\n",
      " -28.29806549 +13.0803411j   28.29806551 +13.08034112j\n",
      " -26.87333869 +11.94516466j  26.87333872 +11.94516461j\n",
      " -24.6827804  +11.11735542j  24.68278042 +11.11735542j\n",
      " -23.30233944 +10.20054871j  23.30233944 +10.20054866j\n",
      " -21.45556868  +9.54345185j  21.45556869  +9.54345185j\n",
      " -20.14931776  +8.79597742j  20.14931775  +8.79597738j\n",
      " -18.56618577  +8.2498705j   18.56618577  +8.24987051j\n",
      " -17.34128484  +7.63673072j  17.34128483  +7.6367307j\n",
      " -15.95921446  +7.17081486j  15.95921446  +7.17081487j\n",
      " -14.8215086   +6.66919257j  14.82150859  +6.66919256j\n",
      " -13.60069486  +6.27001082j  13.60069486  +6.27001082j\n",
      " -12.55692647  +5.85691627j  12.55692646  +5.85691626j\n",
      " -11.47469588  +5.51226119j  11.47469588  +5.51226119j\n",
      " -10.52542979  +5.16298196j  10.52542977  +5.16298195j\n",
      "  -9.56400287  +4.8580609j    9.56400289  +4.8580609j\n",
      "  -8.70162641  +4.5515093j    8.70162639  +4.5515093j\n",
      "  -7.84201857  +4.27392266j   7.84201857  +4.27392265j\n",
      "  -7.05473545  +3.99822904j   7.05473543  +3.99822905j\n",
      "  -6.28002755  +3.74295295j   6.28002755  +3.74295294j\n",
      "  -5.56022809  +3.4939959j    5.56022809  +3.4939959j\n",
      "  -4.86079898  +3.25963012j   4.86079897  +3.25963012j\n",
      "  -4.20649732  +3.03327941j   4.20649732  +3.03327941j\n",
      "  -3.57751271  +2.81599192j   3.5775127   +2.81599192j\n",
      "  -2.98703601  +2.60595251j   2.98703601  +2.60595251j\n",
      "  -2.42514789  +2.39928269j   2.42514789  +2.3992827j\n",
      "  -0.86609835  +0.5000558j    0.86609835  +0.5000558j\n",
      "  -1.88907645  +2.20142809j   1.88907645  +2.20142809j\n",
      "  -1.42265674  +2.01159493j  -0.93082608  +1.55322631j\n",
      "  -0.61454987  +1.73435784j  -0.50743744  +1.82864394j\n",
      "   1.42265675  +2.01159493j   0.93082608  +1.55322631j\n",
      "   0.50743744  +1.82864394j   0.61454986  +1.73435784j]\n"
     ]
    },
    {
     "name": "stderr",
     "output_type": "stream",
     "text": [
      "/home/jaramillo/anaconda3/lib/python3.7/site-packages/ipykernel_launcher.py:28: UserWarning: Matplotlib is currently using module://ipykernel.pylab.backend_inline, which is a non-GUI backend, so cannot show the figure.\n"
     ]
    },
    {
     "data": {
      "image/png": "[encoded data removed]",
      "text/plain": [
       "<Figure size 432x288 with 2 Axes>"
      ]
     },
     "metadata": {
      "needs_background": "light"
     },
     "output_type": "display_data"
    },
    {
     "data": {
      "image/png": "[encoded data removed]",
      "text/plain": [
       "<Figure size 432x288 with 1 Axes>"
      ]
     },
     "metadata": {
      "needs_background": "light"
     },
     "output_type": "display_data"
    }
   ],
   "source": [
    "N=50\n",
    "a, b, c, x, xt = Matrix_Eigenvalues_Test(N, 1e-5)\n",
    "Eigenvalues_Graphic(a,b)"
   ]
  }
 ],
 "metadata": {
  "kernelspec": {
   "display_name": "Python 3",
   "language": "python",
   "name": "python3"
  },
  "language_info": {
   "codemirror_mode": {
    "name": "ipython",
    "version": 3
   },
   "file_extension": ".py",
   "mimetype": "text/x-python",
   "name": "python",
   "nbconvert_exporter": "python",
   "pygments_lexer": "ipython3",
   "version": "3.7.4"
  }
 },
 "nbformat": 4,
 "nbformat_minor": 2
}
