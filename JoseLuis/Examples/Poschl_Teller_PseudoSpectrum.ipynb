{
 "cells": [
  {
   "cell_type": "code",
   "execution_count": 12,
   "metadata": {},
   "outputs": [],
   "source": [
    "## Importation of basic rotutine\n",
    "import numpy as np\n",
    "import matplotlib.pyplot as plt\n",
    "import matplotlib.ticker as mticker\n",
    "from matplotlib import ticker, cm\n",
    "from scipy import linalg as LA\n",
    "from math import sin, cos, pi, log\n",
    "import cmath\n",
    "import import_ipynb\n",
    "\n",
    "## Importation of Spectral tools\n",
    "from Spectral_tools import * #D1_CL, D2_CL,matrice_random, norm_2, Pseudospectrum\n",
    "\n",
    "\n",
    "\n",
    "# use LaTeX fonts in the plot\n",
    "plt.rc('text', usetex=True)\n",
    "plt.rc('font', family='serif')"
   ]
  },
  {
   "cell_type": "code",
   "execution_count": 8,
   "metadata": {},
   "outputs": [],
   "source": [
    "\n",
    "# Number of points n= N+1\n",
    "#N = 100\n",
    "def Matrix_Eigenvalues_Test(N, epsilon_Random_V):\n",
    "\n",
    "    # Spectral Differentiation, identity and Zero matrices\n",
    "    #xt = [D1_CL(N)[0]]\n",
    "    xt = [D1_CG(N)[0]]\n",
    "    x = np.transpose(xt)\n",
    "    #D1 = D1_CL(N)[1]\n",
    "    #D2 = D2_CL(N)[1]\n",
    "    D1 = D1_CG(N)[1]\n",
    "    D2 = D2_CG(N)[1]\n",
    "    Id = np.eye(N+1)\n",
    "    Id_total = np.eye(2*(N+1))\n",
    "    Zero = np.zeros((N+1,N+1))\n",
    "\n",
    "    ### Matrix L definition\n",
    "    #L = D1\n",
    "    #LT = L.transpose()\n",
    "    #LTL = np.dot(LT,L)\n",
    "    #L_red = L[1:N+1,1:N+1]\n",
    "    \n",
    "     # Potential\n",
    "    V = 1.\n",
    "    epsilon1 = 0.#1e-6\n",
    "    epsilon2 = epsilon_Random_V\n",
    "    epsilon3 = 0.#1e-6 \n",
    "    NN=1e8\n",
    "    V = 1. + epsilon1*np.cos((2*NN+1)/2.*pi*x)\n",
    "    #V_random = matrice_random(N+1)\n",
    "    V_random = Diagonal_Random_Matrix(N+1) - 0.5*Id\n",
    "    V_random = V_random/norm_2(V_random)\n",
    "    V_random = epsilon2 * V_random\n",
    "    visualisation_matrix(V_random)\n",
    "    #print(\"Random matrix : \", V_random)\n",
    "    norm_V_random = norm_2(V_random)\n",
    "    #V_random = epsilon2*matrice_random(N+1)\n",
    "    print(\"L2-norm of Random_Matrix = \" ,  norm_V_random, \"\\n\")\n",
    "    print(\"log_10 (L2-norm of Random_Matrix) = \" , log(norm_V_random,10), \"\\n\")\n",
    "    \n",
    "    #V_random_total = epsilon3*matrice_random(2*(N+1))\n",
    "\n",
    "    # Elementary Operators Version 1\n",
    "    #alpha, beta, gamma = 0., 0., 1.\n",
    "    #print(\"alpha =\", alpha, \", beta =\", beta, \", gamma =\", gamma)\n",
    "    #V = alpha/(1-x**2) + beta*x/(1-x**2) + gamma + V_random/(1-x**2)\n",
    "    #L1 = (1-x**2)*D2 - 2*x*D1 - V*Id #+ V_random\n",
    "    #L2 = -2*x*D1 - Id\n",
    "    #B = Id_total\n",
    "    \n",
    "    # Operator matrix\n",
    "    #Lu = np.concatenate((Zero,Id), axis=1)\n",
    "    #Ld = np.concatenate((L1,L2), axis=1)\n",
    "    #L = np.concatenate((Lu,Ld), axis=0)\n",
    "    #L += epsilon3*V_random_total\n",
    "    \n",
    "    # Elementary Operators Version 2\n",
    "    alpha, beta, gamma = 0., 0., 1.\n",
    "    print(\"alpha =\", alpha, \", beta =\", beta, \", gamma =\", gamma)\n",
    "    V = alpha + beta*x + gamma*(1-x**2) + V_random\n",
    "    L1 = (1-x**2)*((1-x**2)*D2 - 2*x*D1) - V*Id #+ V_random\n",
    "    L2 = (1-x**2)*(-2*x*D1 - Id)\n",
    "    Bu = np.concatenate((Id,Zero), axis=1)\n",
    "    Bd = np.concatenate((Zero,(1-x**2)*Id), axis=1)\n",
    "    B = np.concatenate((Bu,Bd), axis=0)\n",
    "    #print(\"B\", B)\n",
    "    \n",
    "    # Operator matrix\n",
    "    #L = [Zero, Id]\n",
    "    Lu = np.concatenate((Zero,Id), axis=1)\n",
    "    Ld = np.concatenate((L1,L2), axis=1)\n",
    "    L = np.concatenate((Lu,Ld), axis=0)\n",
    "    #L += epsilon3*V_random_total\n",
    "\n",
    "    #print(L1)\n",
    "    #print(L2)\n",
    "    \n",
    "     \n",
    "    L = -1j*L\n",
    "    \n",
    "    \n",
    "    ## Pseudospectrum parameters\n",
    "    ############################\n",
    "    # Grid\n",
    "    xmin, xmax ,ymin,ymax, Nxgrid, Nygrid = -40., 40., -10., 60., 50, 50\n",
    "    #xmin, xmax ,ymin,ymax, Nxgrid, Nygrid = -40., 40., -10., 60., 100, 100\n",
    "    #xmin, xmax ,ymin,ymax, Nxgrid, Nygrid = 0.86, 0.87, 0.495, 0.505, 50, 50\n",
    "    #xmin, xmax ,ymin,ymax, Nxgrid, Nygrid = -2., 2., -1., 20., 50, 50\n",
    "    # Heights\n",
    "    #heights = np.arange(0.0001, 0.001, 0.00025)\n",
    "    heights = [1e-15,1e-14,1e-13,1e-12,1e-11,1e-10,1e-9,1e-7,1e-5,1e-3,1e-1,1e0, 1e1]\n",
    "    print(\"heights =\", heights)\n",
    "    # \"Filled\" (set fl to \"f\") or \"Contour\" (set fl to something different to \"\")\n",
    "    fl = \"f\"\n",
    "    print(\"fl = \", fl, \"\\n\")\n",
    "    Pseudospectrum(L,B,xmin,xmax,ymin,ymax,Nxgrid,Nygrid,heights,fl,log(norm_V_random,10))\n",
    "    \n",
    "    \n",
    "    \n",
    "    # Eigenvalues\n",
    "    eigenvalues_L, eigenvectors_L = LA.eig(L,B)\n",
    "    #eigenvalues_L = LA.eigvals(L,B)\n",
    "    #eigenvalues_L, eigenvectors_L = LA.eig(LTL_test)\n",
    "    #eigenvalues_L *= -1j\n",
    "    \n",
    "    print(\"\\n Eigenvalues = \\n\", eigenvalues_L)\n",
    "\n",
    "    \n",
    "    eigenvalues_L_Re = eigenvalues_L.real\n",
    "    eigenvalues_L_Im = eigenvalues_L.imag\n",
    "\n",
    "    #print(\"Re(s_n) = \", eigenvalues_L_Re )\n",
    "    #print(\"Im(s_n) = \", eigenvalues_L_Im )\n",
    "\n",
    "    \n",
    "    return eigenvalues_L_Re, eigenvalues_L_Im, eigenvectors_L, x, xt\n",
    "\n",
    "    #print(D1_CL(N))\n",
    "    #print(D1_CL(N)[0])\n",
    "    #print(D1_CL(N)[1])\n",
    "\n",
    "    #x_CL, D1_CL = D1_CL(N)\n",
    "    #D2_CL = D2_CL(N)[1]\n",
    "    #print(\"Chebyshev-Lobatto grid points = \", x_CL)\n",
    "    #print(\"D1_CL = \", D1_CL)\n",
    "    #print(\"D2_CL = \", D2_CL)"
   ]
  },
  {
   "cell_type": "code",
   "execution_count": 9,
   "metadata": {},
   "outputs": [],
   "source": [
    "def Eigenvalues_Graphic(Re_lambda, Im_lambda):\n",
    "    # Graphical ouput\n",
    "\n",
    "    eigenvalues_L_Re, eigenvalues_L_Im = Re_lambda, Im_lambda\n",
    "    \n",
    "    #print(eigenvalues_L_Re)\n",
    "    #print(eigenvalues_L_Im)\n",
    "    \n",
    "    \n",
    "    fig1 = plt.figure()\n",
    "    ax1 = fig1.add_subplot(111)\n",
    "\n",
    "    ax1.plot(eigenvalues_L_Re, eigenvalues_L_Im, \"+\")\n",
    "    ax1.set_xlabel(r'$\\mathrm{Re}(\\omega_n)$')\n",
    "    ax1.set_ylabel(r'$\\mathrm{Im}(\\omega_n)$')  \n",
    "    #ax1.set_aspect('equal','datalim')\n",
    "    f = mticker.ScalarFormatter(useOffset=False, useMathText=True)\n",
    "    g = lambda x,pos : \"${}$\".format(f._formatSciNotation('%10e' % x))\n",
    "    ax1.xaxis.set_major_formatter(mticker.FuncFormatter(g))\n",
    "    ax1.yaxis.set_major_formatter(mticker.FuncFormatter(g))\n",
    "    \n",
    "    fig1.suptitle(r'Eigenvalues of $L$ with $n=N+1=%5g$ points' %(N+1))\n",
    "    ax1.grid()   \n",
    "    #ax1.set_xlim(0.,500.)\n",
    "    #ax1.set_ylim(-50.,50.)\n",
    "    #ax1.axis([-10,10,-10,20])\n",
    "\n",
    "    fig1.show()\n",
    "    #fig.savefig(\"/home/jaramillo/Dropbox/Trabajo/Programacion/Python/Diagonalization/Eigenvalues_L.pdf\")\n",
    "    #fig1.savefig(\"Eigenvalues_PT_Random1e-5_1.pdf\")\n",
    "    "
   ]
  },
  {
   "cell_type": "code",
   "execution_count": 11,
   "metadata": {
    "scrolled": false
   },
   "outputs": [
    {
     "data": {
      "image/png": "[encoded data removed]",
      "text/plain": [
       "<Figure size 432x288 with 2 Axes>"
      ]
     },
     "metadata": {
      "needs_background": "light"
     },
     "output_type": "display_data"
    },
    {
     "name": "stdout",
     "output_type": "stream",
     "text": [
      "L2-norm of Random_Matrix =  1e-05 \n",
      "\n",
      "log_10 (L2-norm of Random_Matrix) =  -5.0 \n",
      "\n",
      "alpha = 0.0 , beta = 0.0 , gamma = 1.0\n",
      "heights = [1e-15, 1e-14, 1e-13, 1e-12, 1e-11, 1e-10, 1e-09, 1e-07, 1e-05, 0.001, 0.1, 1.0, 10.0]\n",
      "fl =  f \n",
      "\n",
      "\n",
      " N =\n",
      " 17.0\n",
      "\n",
      " Eigenvalues = \n",
      " [-3.02596446e-10+21.48060994j  4.26964827e+00+19.57158662j\n",
      " -4.26964827e+00+19.57158662j  1.75628886e+00+19.2467252j\n",
      " -1.75628885e+00+19.2467252j   4.60854531e+00+16.89373465j\n",
      "  6.16510037e+00+15.45329103j -4.60854531e+00+16.89373465j\n",
      " -6.16510037e+00+15.45329102j  5.65469143e+00+13.22918044j\n",
      " -5.65469143e+00+13.22918044j  5.94692294e+00+11.46976477j\n",
      " -5.94692294e+00+11.46976477j  5.14191693e+00 +9.84749575j\n",
      " -5.14191693e+00 +9.84749575j  4.74979121e+00 +8.41642515j\n",
      " -4.74979121e+00 +8.41642515j  3.92200378e+00 +7.24897735j\n",
      " -3.92200378e+00 +7.24897735j  3.29337671e+00 +6.20491219j\n",
      " -3.29337671e+00 +6.20491219j  8.66039312e-01 +0.4999985j\n",
      " -8.66039312e-01 +0.4999985j   2.53443494e+00 +5.34323172j\n",
      " -2.53443494e+00 +5.34323171j  8.66514496e-01 +1.50006997j\n",
      " -8.66514496e-01 +1.50006997j -1.87517878e+00 +4.58067905j\n",
      "  1.87517879e+00 +4.58067905j  8.77640873e-01 +2.50556915j\n",
      " -8.77640873e-01 +2.50556915j -1.11272453e+00 +4.01429362j\n",
      " -9.67764277e-01 +3.55070494j -9.13437020e-10 +3.36610992j\n",
      "  9.67764277e-01 +3.55070494j  1.11272453e+00 +4.01429362j]\n"
     ]
    },
    {
     "name": "stderr",
     "output_type": "stream",
     "text": [
      "/home/jaramillo/anaconda3/lib/python3.7/site-packages/ipykernel_launcher.py:28: UserWarning: Matplotlib is currently using module://ipykernel.pylab.backend_inline, which is a non-GUI backend, so cannot show the figure.\n"
     ]
    },
    {
     "data": {
      "image/png": "[encoded data removed]",
      "text/plain": [
       "<Figure size 432x288 with 2 Axes>"
      ]
     },
     "metadata": {
      "needs_background": "light"
     },
     "output_type": "display_data"
    },
    {
     "data": {
      "image/png": "[encoded data removed]",
      "text/plain": [
       "<Figure size 432x288 with 1 Axes>"
      ]
     },
     "metadata": {
      "needs_background": "light"
     },
     "output_type": "display_data"
    }
   ],
   "source": [
    "N=17\n",
    "a, b, c, x, xt = Matrix_Eigenvalues_Test(N, 1e-5)\n",
    "Eigenvalues_Graphic(a,b)"
   ]
  },
  {
   "cell_type": "code",
   "execution_count": null,
   "metadata": {},
   "outputs": [],
   "source": []
  }
 ],
 "metadata": {
  "kernelspec": {
   "display_name": "Python 3",
   "language": "python",
   "name": "python3"
  },
  "language_info": {
   "codemirror_mode": {
    "name": "ipython",
    "version": 3
   },
   "file_extension": ".py",
   "mimetype": "text/x-python",
   "name": "python",
   "nbconvert_exporter": "python",
   "pygments_lexer": "ipython3",
   "version": "3.7.4"
  }
 },
 "nbformat": 4,
 "nbformat_minor": 2
}
